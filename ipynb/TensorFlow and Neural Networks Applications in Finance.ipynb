{
 "cells": [
  {
   "cell_type": "markdown",
   "metadata": {},
   "source": [
    "# Predicting S&P 500 Price Movement \n",
    "\n",
    "### Based on major global stock market indices using Neural Network"
   ]
  },
  {
   "cell_type": "markdown",
   "metadata": {},
   "source": [
    "### Description\n",
    "- Finance industry has numerous information and its complexity is suitable for using neural network. \n",
    "- Instead of predicting a stock price, we are going to predict return’s direction, positive or negative. It will be treated as two classes. "
   ]
  },
  {
   "cell_type": "markdown",
   "metadata": {
    "collapsed": true
   },
   "source": [
    "### Dataset\n",
    "- 6 major stock market indices from different time zone\n",
    "![](../img/Picture1.png)\n",
    "\n",
    "- US S&P500\n",
    "- Austrialia S&P ASX300\n",
    "- Japan Nikkei 225\n",
    "- Hongkong HangSeng \n",
    "- Frankfurt DAX\n",
    "- London FTSE 100"
   ]
  },
  {
   "cell_type": "markdown",
   "metadata": {
    "collapsed": true
   },
   "source": [
    "### Motives\n",
    "If financial market is perfect, all relevant information should be available to everyone immediately and price of any product or service should reflect it immediately. In other words, price is the product of all relevant information.\n",
    "In reality, there are a number of limitations that prevent the market to be perfect. However, due to advanced technology and relatively low cost of transactions, stock market resembles the ideal perfect market. \n",
    "Each major stock market indices should reflect all relevant information available. Can we use stock market indices to predict another stock market index? "
   ]
  },
  {
   "cell_type": "markdown",
   "metadata": {
    "collapsed": true
   },
   "source": [
    "### Limitations\n",
    "Given such a high degree globalization in business, country specific biases of stock market indices should be neutralized in a way. \n",
    "Stock market price fluctuate continuously during the market is open. I will focus on closing price of each indices. \n",
    "Predicting specific absolute number of price would be very challenging. But predicting positive or negative movement would be simpler. "
   ]
  },
  {
   "cell_type": "markdown",
   "metadata": {},
   "source": [
    "### Data Collection\n",
    "Source : finance.yahoo.com\n",
    "\n",
    "Duration : 2012/05/05 – 2017/05/05\n",
    "\n",
    "- S&P500  : https://finance.yahoo.com/quote/%5EGSPC/history/\n",
    "- S&P AXS300 : https://au.finance.yahoo.com/quote/%5EAXJO/history?period1=1336190400&period2=1493956800&interval=1d&filter=history&frequency=1d\n",
    "- HangSeng Index : https://finance.yahoo.com/quote/%5EHSI/history?period1=1336190400&period2=1493956800&interval=1d&filter=history&frequency=1d\n",
    "- Nikkei 225 : https://finance.yahoo.com/quote/%5EN225/history?period1=1462482232&period2=1494018232&interval=1d&filter=history&frequency=1d\n",
    "- DAX : https://finance.yahoo.com/quote/%5EGDAXI/history?period1=1336190400&period2=1493956800&interval=1d&filter=history&frequency=1d\n",
    "- FTSE 100 : https://www.investing.com/indices/uk-100-historical-data\n"
   ]
  },
  {
   "cell_type": "code",
   "execution_count": null,
   "metadata": {},
   "outputs": [],
   "source": []
  },
  {
   "cell_type": "code",
   "execution_count": null,
   "metadata": {},
   "outputs": [],
   "source": []
  },
  {
   "cell_type": "markdown",
   "metadata": {},
   "source": []
  },
  {
   "cell_type": "markdown",
   "metadata": {},
   "source": [
    "## Importing Packages"
   ]
  },
  {
   "cell_type": "code",
   "execution_count": 1,
   "metadata": {},
   "outputs": [
    {
     "name": "stderr",
     "output_type": "stream",
     "text": [
      "/anaconda3/envs/tensorflow/lib/python3.5/site-packages/matplotlib/font_manager.py:229: UserWarning: Matplotlib is building the font cache using fc-list. This may take a moment.\n",
      "  'Matplotlib is building the font cache using fc-list. '\n"
     ]
    }
   ],
   "source": [
    "import pandas as pd\n",
    "import os\n",
    "import datetime\n",
    "from datetime import date, datetime, timedelta, time\n",
    "import numpy as np\n",
    "import matplotlib.pyplot as plt\n",
    "import tensorflow as tf"
   ]
  },
  {
   "cell_type": "markdown",
   "metadata": {},
   "source": [
    "## Wragling Data"
   ]
  },
  {
   "cell_type": "code",
   "execution_count": 2,
   "metadata": {},
   "outputs": [],
   "source": [
    "SNPraw=pd.read_csv(\"../data/S&P500.csv\")\n",
    "ASXraw=pd.read_csv(\"../data/ASX200.csv\")\n",
    "NIKraw=pd.read_csv(\"../data/Nikkei225.csv\")\n",
    "HSraw = pd.read_csv(\"../data/HangSeng.csv\")\n",
    "DAXraw = pd.read_csv(\"../data/DAX.csv\")\n",
    "FTSEraw=pd.read_csv(\"../data/FTSE100.csv\")"
   ]
  },
  {
   "cell_type": "markdown",
   "metadata": {},
   "source": [
    "\n",
    "Let's have a quick look at the data."
   ]
  },
  {
   "cell_type": "code",
   "execution_count": 3,
   "metadata": {},
   "outputs": [
    {
     "data": {
      "text/html": [
       "<div>\n",
       "<style scoped>\n",
       "    .dataframe tbody tr th:only-of-type {\n",
       "        vertical-align: middle;\n",
       "    }\n",
       "\n",
       "    .dataframe tbody tr th {\n",
       "        vertical-align: top;\n",
       "    }\n",
       "\n",
       "    .dataframe thead th {\n",
       "        text-align: right;\n",
       "    }\n",
       "</style>\n",
       "<table border=\"1\" class=\"dataframe\">\n",
       "  <thead>\n",
       "    <tr style=\"text-align: right;\">\n",
       "      <th></th>\n",
       "      <th>Date</th>\n",
       "      <th>Open</th>\n",
       "      <th>High</th>\n",
       "      <th>Low</th>\n",
       "      <th>Close</th>\n",
       "      <th>Adj Close</th>\n",
       "      <th>Volume</th>\n",
       "    </tr>\n",
       "  </thead>\n",
       "  <tbody>\n",
       "    <tr>\n",
       "      <th>0</th>\n",
       "      <td>2012-05-07</td>\n",
       "      <td>1368.790039</td>\n",
       "      <td>1373.910034</td>\n",
       "      <td>1363.939941</td>\n",
       "      <td>1369.579956</td>\n",
       "      <td>1369.579956</td>\n",
       "      <td>3.559390e+09</td>\n",
       "    </tr>\n",
       "    <tr>\n",
       "      <th>1</th>\n",
       "      <td>2012-05-08</td>\n",
       "      <td>1369.160034</td>\n",
       "      <td>1369.160034</td>\n",
       "      <td>1347.750000</td>\n",
       "      <td>1363.719971</td>\n",
       "      <td>1363.719971</td>\n",
       "      <td>4.261670e+09</td>\n",
       "    </tr>\n",
       "    <tr>\n",
       "      <th>2</th>\n",
       "      <td>2012-05-09</td>\n",
       "      <td>1363.199951</td>\n",
       "      <td>1363.729980</td>\n",
       "      <td>1343.130005</td>\n",
       "      <td>1354.579956</td>\n",
       "      <td>1354.579956</td>\n",
       "      <td>4.288540e+09</td>\n",
       "    </tr>\n",
       "    <tr>\n",
       "      <th>3</th>\n",
       "      <td>2012-05-10</td>\n",
       "      <td>1354.579956</td>\n",
       "      <td>1365.880005</td>\n",
       "      <td>1354.579956</td>\n",
       "      <td>1357.989990</td>\n",
       "      <td>1357.989990</td>\n",
       "      <td>3.727990e+09</td>\n",
       "    </tr>\n",
       "    <tr>\n",
       "      <th>4</th>\n",
       "      <td>2012-05-11</td>\n",
       "      <td>1358.109985</td>\n",
       "      <td>1365.660034</td>\n",
       "      <td>1348.890015</td>\n",
       "      <td>1353.390015</td>\n",
       "      <td>1353.390015</td>\n",
       "      <td>3.869070e+09</td>\n",
       "    </tr>\n",
       "  </tbody>\n",
       "</table>\n",
       "</div>"
      ],
      "text/plain": [
       "         Date         Open         High          Low        Close  \\\n",
       "0  2012-05-07  1368.790039  1373.910034  1363.939941  1369.579956   \n",
       "1  2012-05-08  1369.160034  1369.160034  1347.750000  1363.719971   \n",
       "2  2012-05-09  1363.199951  1363.729980  1343.130005  1354.579956   \n",
       "3  2012-05-10  1354.579956  1365.880005  1354.579956  1357.989990   \n",
       "4  2012-05-11  1358.109985  1365.660034  1348.890015  1353.390015   \n",
       "\n",
       "     Adj Close        Volume  \n",
       "0  1369.579956  3.559390e+09  \n",
       "1  1363.719971  4.261670e+09  \n",
       "2  1354.579956  4.288540e+09  \n",
       "3  1357.989990  3.727990e+09  \n",
       "4  1353.390015  3.869070e+09  "
      ]
     },
     "execution_count": 3,
     "metadata": {},
     "output_type": "execute_result"
    }
   ],
   "source": [
    "SNPraw.head()"
   ]
  },
  {
   "cell_type": "code",
   "execution_count": 4,
   "metadata": {},
   "outputs": [
    {
     "data": {
      "text/html": [
       "<div>\n",
       "<style scoped>\n",
       "    .dataframe tbody tr th:only-of-type {\n",
       "        vertical-align: middle;\n",
       "    }\n",
       "\n",
       "    .dataframe tbody tr th {\n",
       "        vertical-align: top;\n",
       "    }\n",
       "\n",
       "    .dataframe thead th {\n",
       "        text-align: right;\n",
       "    }\n",
       "</style>\n",
       "<table border=\"1\" class=\"dataframe\">\n",
       "  <thead>\n",
       "    <tr style=\"text-align: right;\">\n",
       "      <th></th>\n",
       "      <th>Date</th>\n",
       "      <th>Open</th>\n",
       "      <th>High</th>\n",
       "      <th>Low</th>\n",
       "      <th>Close</th>\n",
       "      <th>Adj Close</th>\n",
       "      <th>Volume</th>\n",
       "    </tr>\n",
       "  </thead>\n",
       "  <tbody>\n",
       "    <tr>\n",
       "      <th>0</th>\n",
       "      <td>2012-05-07</td>\n",
       "      <td>4375.399902</td>\n",
       "      <td>4375.399902</td>\n",
       "      <td>4299.000000</td>\n",
       "      <td>4301.299805</td>\n",
       "      <td>4301.299805</td>\n",
       "      <td>0.0</td>\n",
       "    </tr>\n",
       "    <tr>\n",
       "      <th>1</th>\n",
       "      <td>2012-05-08</td>\n",
       "      <td>4310.299805</td>\n",
       "      <td>4327.200195</td>\n",
       "      <td>4297.399902</td>\n",
       "      <td>4314.399902</td>\n",
       "      <td>4314.399902</td>\n",
       "      <td>0.0</td>\n",
       "    </tr>\n",
       "    <tr>\n",
       "      <th>2</th>\n",
       "      <td>2012-05-09</td>\n",
       "      <td>4310.799805</td>\n",
       "      <td>4312.200195</td>\n",
       "      <td>4257.899902</td>\n",
       "      <td>4275.100098</td>\n",
       "      <td>4275.100098</td>\n",
       "      <td>0.0</td>\n",
       "    </tr>\n",
       "    <tr>\n",
       "      <th>3</th>\n",
       "      <td>2012-05-10</td>\n",
       "      <td>4269.899902</td>\n",
       "      <td>4296.100098</td>\n",
       "      <td>4269.899902</td>\n",
       "      <td>4295.600098</td>\n",
       "      <td>4295.600098</td>\n",
       "      <td>0.0</td>\n",
       "    </tr>\n",
       "    <tr>\n",
       "      <th>4</th>\n",
       "      <td>2012-05-11</td>\n",
       "      <td>4296.000000</td>\n",
       "      <td>4302.200195</td>\n",
       "      <td>4274.399902</td>\n",
       "      <td>4285.100098</td>\n",
       "      <td>4285.100098</td>\n",
       "      <td>0.0</td>\n",
       "    </tr>\n",
       "  </tbody>\n",
       "</table>\n",
       "</div>"
      ],
      "text/plain": [
       "         Date         Open         High          Low        Close  \\\n",
       "0  2012-05-07  4375.399902  4375.399902  4299.000000  4301.299805   \n",
       "1  2012-05-08  4310.299805  4327.200195  4297.399902  4314.399902   \n",
       "2  2012-05-09  4310.799805  4312.200195  4257.899902  4275.100098   \n",
       "3  2012-05-10  4269.899902  4296.100098  4269.899902  4295.600098   \n",
       "4  2012-05-11  4296.000000  4302.200195  4274.399902  4285.100098   \n",
       "\n",
       "     Adj Close  Volume  \n",
       "0  4301.299805     0.0  \n",
       "1  4314.399902     0.0  \n",
       "2  4275.100098     0.0  \n",
       "3  4295.600098     0.0  \n",
       "4  4285.100098     0.0  "
      ]
     },
     "execution_count": 4,
     "metadata": {},
     "output_type": "execute_result"
    }
   ],
   "source": [
    "ASXraw.head()"
   ]
  },
  {
   "cell_type": "code",
   "execution_count": 5,
   "metadata": {},
   "outputs": [
    {
     "data": {
      "text/html": [
       "<div>\n",
       "<style scoped>\n",
       "    .dataframe tbody tr th:only-of-type {\n",
       "        vertical-align: middle;\n",
       "    }\n",
       "\n",
       "    .dataframe tbody tr th {\n",
       "        vertical-align: top;\n",
       "    }\n",
       "\n",
       "    .dataframe thead th {\n",
       "        text-align: right;\n",
       "    }\n",
       "</style>\n",
       "<table border=\"1\" class=\"dataframe\">\n",
       "  <thead>\n",
       "    <tr style=\"text-align: right;\">\n",
       "      <th></th>\n",
       "      <th>Date</th>\n",
       "      <th>Open</th>\n",
       "      <th>High</th>\n",
       "      <th>Low</th>\n",
       "      <th>Close</th>\n",
       "      <th>Adj Close</th>\n",
       "      <th>Volume</th>\n",
       "    </tr>\n",
       "  </thead>\n",
       "  <tbody>\n",
       "    <tr>\n",
       "      <th>0</th>\n",
       "      <td>2012-05-07</td>\n",
       "      <td>9198.169922</td>\n",
       "      <td>9206.450195</td>\n",
       "      <td>9109.009766</td>\n",
       "      <td>9119.139648</td>\n",
       "      <td>9119.139648</td>\n",
       "      <td>133000</td>\n",
       "    </tr>\n",
       "    <tr>\n",
       "      <th>1</th>\n",
       "      <td>2012-05-08</td>\n",
       "      <td>9190.500000</td>\n",
       "      <td>9207.559570</td>\n",
       "      <td>9159.469727</td>\n",
       "      <td>9181.650391</td>\n",
       "      <td>9181.650391</td>\n",
       "      <td>112400</td>\n",
       "    </tr>\n",
       "    <tr>\n",
       "      <th>2</th>\n",
       "      <td>2012-05-09</td>\n",
       "      <td>9112.719727</td>\n",
       "      <td>9115.940430</td>\n",
       "      <td>9021.200195</td>\n",
       "      <td>9045.059570</td>\n",
       "      <td>9045.059570</td>\n",
       "      <td>131600</td>\n",
       "    </tr>\n",
       "    <tr>\n",
       "      <th>3</th>\n",
       "      <td>2012-05-10</td>\n",
       "      <td>9013.259766</td>\n",
       "      <td>9075.629883</td>\n",
       "      <td>8985.900391</td>\n",
       "      <td>9009.650391</td>\n",
       "      <td>9009.650391</td>\n",
       "      <td>141600</td>\n",
       "    </tr>\n",
       "    <tr>\n",
       "      <th>4</th>\n",
       "      <td>2012-05-11</td>\n",
       "      <td>9019.400391</td>\n",
       "      <td>9050.610352</td>\n",
       "      <td>8944.629883</td>\n",
       "      <td>8953.309570</td>\n",
       "      <td>8953.309570</td>\n",
       "      <td>143400</td>\n",
       "    </tr>\n",
       "  </tbody>\n",
       "</table>\n",
       "</div>"
      ],
      "text/plain": [
       "         Date         Open         High          Low        Close  \\\n",
       "0  2012-05-07  9198.169922  9206.450195  9109.009766  9119.139648   \n",
       "1  2012-05-08  9190.500000  9207.559570  9159.469727  9181.650391   \n",
       "2  2012-05-09  9112.719727  9115.940430  9021.200195  9045.059570   \n",
       "3  2012-05-10  9013.259766  9075.629883  8985.900391  9009.650391   \n",
       "4  2012-05-11  9019.400391  9050.610352  8944.629883  8953.309570   \n",
       "\n",
       "     Adj Close  Volume  \n",
       "0  9119.139648  133000  \n",
       "1  9181.650391  112400  \n",
       "2  9045.059570  131600  \n",
       "3  9009.650391  141600  \n",
       "4  8953.309570  143400  "
      ]
     },
     "execution_count": 5,
     "metadata": {},
     "output_type": "execute_result"
    }
   ],
   "source": [
    "NIKraw.head()"
   ]
  },
  {
   "cell_type": "code",
   "execution_count": 6,
   "metadata": {},
   "outputs": [
    {
     "data": {
      "text/html": [
       "<div>\n",
       "<style scoped>\n",
       "    .dataframe tbody tr th:only-of-type {\n",
       "        vertical-align: middle;\n",
       "    }\n",
       "\n",
       "    .dataframe tbody tr th {\n",
       "        vertical-align: top;\n",
       "    }\n",
       "\n",
       "    .dataframe thead th {\n",
       "        text-align: right;\n",
       "    }\n",
       "</style>\n",
       "<table border=\"1\" class=\"dataframe\">\n",
       "  <thead>\n",
       "    <tr style=\"text-align: right;\">\n",
       "      <th></th>\n",
       "      <th>Date</th>\n",
       "      <th>Open</th>\n",
       "      <th>High</th>\n",
       "      <th>Low</th>\n",
       "      <th>Close</th>\n",
       "      <th>Adj Close</th>\n",
       "      <th>Volume</th>\n",
       "    </tr>\n",
       "  </thead>\n",
       "  <tbody>\n",
       "    <tr>\n",
       "      <th>0</th>\n",
       "      <td>2012-05-07</td>\n",
       "      <td>20658.410156</td>\n",
       "      <td>20674.449219</td>\n",
       "      <td>20477.859375</td>\n",
       "      <td>20536.650391</td>\n",
       "      <td>20536.650391</td>\n",
       "      <td>2.201042e+09</td>\n",
       "    </tr>\n",
       "    <tr>\n",
       "      <th>1</th>\n",
       "      <td>2012-05-08</td>\n",
       "      <td>20647.380859</td>\n",
       "      <td>20647.380859</td>\n",
       "      <td>20399.380859</td>\n",
       "      <td>20484.750000</td>\n",
       "      <td>20484.750000</td>\n",
       "      <td>1.480445e+09</td>\n",
       "    </tr>\n",
       "    <tr>\n",
       "      <th>2</th>\n",
       "      <td>2012-05-09</td>\n",
       "      <td>20361.550781</td>\n",
       "      <td>20371.660156</td>\n",
       "      <td>20257.609375</td>\n",
       "      <td>20330.640625</td>\n",
       "      <td>20330.640625</td>\n",
       "      <td>1.797879e+09</td>\n",
       "    </tr>\n",
       "    <tr>\n",
       "      <th>3</th>\n",
       "      <td>2012-05-10</td>\n",
       "      <td>20313.970703</td>\n",
       "      <td>20375.039063</td>\n",
       "      <td>20091.679688</td>\n",
       "      <td>20227.279297</td>\n",
       "      <td>20227.279297</td>\n",
       "      <td>1.720960e+09</td>\n",
       "    </tr>\n",
       "    <tr>\n",
       "      <th>4</th>\n",
       "      <td>2012-05-11</td>\n",
       "      <td>20083.269531</td>\n",
       "      <td>20083.269531</td>\n",
       "      <td>19901.410156</td>\n",
       "      <td>19964.630859</td>\n",
       "      <td>19964.630859</td>\n",
       "      <td>1.624695e+09</td>\n",
       "    </tr>\n",
       "  </tbody>\n",
       "</table>\n",
       "</div>"
      ],
      "text/plain": [
       "         Date          Open          High           Low         Close  \\\n",
       "0  2012-05-07  20658.410156  20674.449219  20477.859375  20536.650391   \n",
       "1  2012-05-08  20647.380859  20647.380859  20399.380859  20484.750000   \n",
       "2  2012-05-09  20361.550781  20371.660156  20257.609375  20330.640625   \n",
       "3  2012-05-10  20313.970703  20375.039063  20091.679688  20227.279297   \n",
       "4  2012-05-11  20083.269531  20083.269531  19901.410156  19964.630859   \n",
       "\n",
       "      Adj Close        Volume  \n",
       "0  20536.650391  2.201042e+09  \n",
       "1  20484.750000  1.480445e+09  \n",
       "2  20330.640625  1.797879e+09  \n",
       "3  20227.279297  1.720960e+09  \n",
       "4  19964.630859  1.624695e+09  "
      ]
     },
     "execution_count": 6,
     "metadata": {},
     "output_type": "execute_result"
    }
   ],
   "source": [
    "HSraw.head()"
   ]
  },
  {
   "cell_type": "code",
   "execution_count": 7,
   "metadata": {
    "scrolled": true
   },
   "outputs": [
    {
     "data": {
      "text/html": [
       "<div>\n",
       "<style scoped>\n",
       "    .dataframe tbody tr th:only-of-type {\n",
       "        vertical-align: middle;\n",
       "    }\n",
       "\n",
       "    .dataframe tbody tr th {\n",
       "        vertical-align: top;\n",
       "    }\n",
       "\n",
       "    .dataframe thead th {\n",
       "        text-align: right;\n",
       "    }\n",
       "</style>\n",
       "<table border=\"1\" class=\"dataframe\">\n",
       "  <thead>\n",
       "    <tr style=\"text-align: right;\">\n",
       "      <th></th>\n",
       "      <th>Date</th>\n",
       "      <th>Open</th>\n",
       "      <th>High</th>\n",
       "      <th>Low</th>\n",
       "      <th>Close</th>\n",
       "      <th>Adj Close</th>\n",
       "      <th>Volume</th>\n",
       "    </tr>\n",
       "  </thead>\n",
       "  <tbody>\n",
       "    <tr>\n",
       "      <th>0</th>\n",
       "      <td>2012-05-07</td>\n",
       "      <td>6515.939941</td>\n",
       "      <td>6578.950195</td>\n",
       "      <td>6410.029785</td>\n",
       "      <td>6569.479980</td>\n",
       "      <td>6569.479980</td>\n",
       "      <td>26200000.0</td>\n",
       "    </tr>\n",
       "    <tr>\n",
       "      <th>1</th>\n",
       "      <td>2012-05-08</td>\n",
       "      <td>6548.740234</td>\n",
       "      <td>6576.720215</td>\n",
       "      <td>6415.029785</td>\n",
       "      <td>6444.740234</td>\n",
       "      <td>6444.740234</td>\n",
       "      <td>28639600.0</td>\n",
       "    </tr>\n",
       "    <tr>\n",
       "      <th>2</th>\n",
       "      <td>2012-05-09</td>\n",
       "      <td>6483.270020</td>\n",
       "      <td>6506.209961</td>\n",
       "      <td>6375.790039</td>\n",
       "      <td>6475.310059</td>\n",
       "      <td>6475.310059</td>\n",
       "      <td>37212700.0</td>\n",
       "    </tr>\n",
       "    <tr>\n",
       "      <th>3</th>\n",
       "      <td>2012-05-10</td>\n",
       "      <td>6531.149902</td>\n",
       "      <td>6549.770020</td>\n",
       "      <td>6440.229980</td>\n",
       "      <td>6518.000000</td>\n",
       "      <td>6518.000000</td>\n",
       "      <td>37107900.0</td>\n",
       "    </tr>\n",
       "    <tr>\n",
       "      <th>4</th>\n",
       "      <td>2012-05-11</td>\n",
       "      <td>6465.189941</td>\n",
       "      <td>6589.009766</td>\n",
       "      <td>6454.209961</td>\n",
       "      <td>6579.930176</td>\n",
       "      <td>6579.930176</td>\n",
       "      <td>27864600.0</td>\n",
       "    </tr>\n",
       "  </tbody>\n",
       "</table>\n",
       "</div>"
      ],
      "text/plain": [
       "         Date         Open         High          Low        Close  \\\n",
       "0  2012-05-07  6515.939941  6578.950195  6410.029785  6569.479980   \n",
       "1  2012-05-08  6548.740234  6576.720215  6415.029785  6444.740234   \n",
       "2  2012-05-09  6483.270020  6506.209961  6375.790039  6475.310059   \n",
       "3  2012-05-10  6531.149902  6549.770020  6440.229980  6518.000000   \n",
       "4  2012-05-11  6465.189941  6589.009766  6454.209961  6579.930176   \n",
       "\n",
       "     Adj Close      Volume  \n",
       "0  6569.479980  26200000.0  \n",
       "1  6444.740234  28639600.0  \n",
       "2  6475.310059  37212700.0  \n",
       "3  6518.000000  37107900.0  \n",
       "4  6579.930176  27864600.0  "
      ]
     },
     "execution_count": 7,
     "metadata": {},
     "output_type": "execute_result"
    }
   ],
   "source": [
    "DAXraw.head()"
   ]
  },
  {
   "cell_type": "code",
   "execution_count": 8,
   "metadata": {
    "scrolled": false
   },
   "outputs": [
    {
     "data": {
      "text/html": [
       "<div>\n",
       "<style scoped>\n",
       "    .dataframe tbody tr th:only-of-type {\n",
       "        vertical-align: middle;\n",
       "    }\n",
       "\n",
       "    .dataframe tbody tr th {\n",
       "        vertical-align: top;\n",
       "    }\n",
       "\n",
       "    .dataframe thead th {\n",
       "        text-align: right;\n",
       "    }\n",
       "</style>\n",
       "<table border=\"1\" class=\"dataframe\">\n",
       "  <thead>\n",
       "    <tr style=\"text-align: right;\">\n",
       "      <th></th>\n",
       "      <th>Date</th>\n",
       "      <th>Price</th>\n",
       "      <th>Open</th>\n",
       "      <th>High</th>\n",
       "      <th>Low</th>\n",
       "      <th>Volume</th>\n",
       "      <th>Change(%)</th>\n",
       "    </tr>\n",
       "  </thead>\n",
       "  <tbody>\n",
       "    <tr>\n",
       "      <th>0</th>\n",
       "      <td>5-May-17</td>\n",
       "      <td>7,297.43</td>\n",
       "      <td>7,248.10</td>\n",
       "      <td>7,297.43</td>\n",
       "      <td>7,222.81</td>\n",
       "      <td>-</td>\n",
       "      <td>0.68%</td>\n",
       "    </tr>\n",
       "    <tr>\n",
       "      <th>1</th>\n",
       "      <td>4-May-17</td>\n",
       "      <td>7,248.10</td>\n",
       "      <td>7,234.53</td>\n",
       "      <td>7,280.70</td>\n",
       "      <td>7,226.07</td>\n",
       "      <td>947.13M</td>\n",
       "      <td>0.19%</td>\n",
       "    </tr>\n",
       "    <tr>\n",
       "      <th>2</th>\n",
       "      <td>3-May-17</td>\n",
       "      <td>7,234.53</td>\n",
       "      <td>7,250.05</td>\n",
       "      <td>7,250.05</td>\n",
       "      <td>7,218.56</td>\n",
       "      <td>790.04M</td>\n",
       "      <td>-0.21%</td>\n",
       "    </tr>\n",
       "    <tr>\n",
       "      <th>3</th>\n",
       "      <td>2-May-17</td>\n",
       "      <td>7,250.05</td>\n",
       "      <td>7,203.94</td>\n",
       "      <td>7,254.32</td>\n",
       "      <td>7,203.94</td>\n",
       "      <td>939.01M</td>\n",
       "      <td>0.64%</td>\n",
       "    </tr>\n",
       "    <tr>\n",
       "      <th>4</th>\n",
       "      <td>28-Apr-17</td>\n",
       "      <td>7,203.94</td>\n",
       "      <td>7,237.17</td>\n",
       "      <td>7,243.31</td>\n",
       "      <td>7,197.28</td>\n",
       "      <td>1.18B</td>\n",
       "      <td>-0.46%</td>\n",
       "    </tr>\n",
       "  </tbody>\n",
       "</table>\n",
       "</div>"
      ],
      "text/plain": [
       "        Date     Price      Open      High       Low   Volume Change(%)\n",
       "0   5-May-17  7,297.43  7,248.10  7,297.43  7,222.81        -     0.68%\n",
       "1   4-May-17  7,248.10  7,234.53  7,280.70  7,226.07  947.13M     0.19%\n",
       "2   3-May-17  7,234.53  7,250.05  7,250.05  7,218.56  790.04M    -0.21%\n",
       "3   2-May-17  7,250.05  7,203.94  7,254.32  7,203.94  939.01M     0.64%\n",
       "4  28-Apr-17  7,203.94  7,237.17  7,243.31  7,197.28    1.18B    -0.46%"
      ]
     },
     "execution_count": 8,
     "metadata": {},
     "output_type": "execute_result"
    }
   ],
   "source": [
    "FTSEraw.head()"
   ]
  },
  {
   "cell_type": "markdown",
   "metadata": {},
   "source": [
    "Quick glance at the data already suggest a couple of data cleaning challenges"
   ]
  },
  {
   "cell_type": "markdown",
   "metadata": {},
   "source": [
    "## 1. Data type of Date\n",
    "### -string to datetime"
   ]
  },
  {
   "cell_type": "code",
   "execution_count": 9,
   "metadata": {},
   "outputs": [],
   "source": [
    "All=[SNPraw,ASXraw,NIKraw,HSraw,DAXraw,FTSEraw]"
   ]
  },
  {
   "cell_type": "code",
   "execution_count": 10,
   "metadata": {},
   "outputs": [
    {
     "name": "stdout",
     "output_type": "stream",
     "text": [
      "count           1257\n",
      "unique          1257\n",
      "top       2016-10-18\n",
      "freq               1\n",
      "Name: Date, dtype: object \n",
      "\n",
      "count           1267\n",
      "unique          1267\n",
      "top       2016-10-18\n",
      "freq               1\n",
      "Name: Date, dtype: object \n",
      "\n",
      "count           1226\n",
      "unique          1226\n",
      "top       2016-10-18\n",
      "freq               1\n",
      "Name: Date, dtype: object \n",
      "\n",
      "count           1233\n",
      "unique          1233\n",
      "top       2016-10-18\n",
      "freq               1\n",
      "Name: Date, dtype: object \n",
      "\n",
      "count           1265\n",
      "unique          1265\n",
      "top       2016-10-18\n",
      "freq               1\n",
      "Name: Date, dtype: object \n",
      "\n",
      "count         1263\n",
      "unique        1263\n",
      "top       9-Oct-12\n",
      "freq             1\n",
      "Name: Date, dtype: object \n",
      "\n"
     ]
    }
   ],
   "source": [
    "for i in All:\n",
    "    print(i.Date.describe(),'\\n')"
   ]
  },
  {
   "cell_type": "markdown",
   "metadata": {},
   "source": [
    "All data under Date is not a true datetime type but simple strings. If I leave it as they are, it is impossible to merge each dataframe based on dates. Using datetime.strptime I will convert the Date data."
   ]
  },
  {
   "cell_type": "code",
   "execution_count": 11,
   "metadata": {},
   "outputs": [],
   "source": [
    "SNPraw.iloc[:,0]=[datetime.strptime(i,'%Y-%m-%d') for i in SNPraw.iloc[:,0]]\n",
    "ASXraw.iloc[:,0]=[datetime.strptime(i,'%Y-%m-%d') for i in ASXraw.iloc[:,0]]\n",
    "NIKraw.iloc[:,0]=[datetime.strptime(i,'%Y-%m-%d') for i in NIKraw.iloc[:,0]]\n",
    "HSraw.iloc[:,0]=[datetime.strptime(i,'%Y-%m-%d') for i in HSraw.iloc[:,0]]\n",
    "DAXraw.iloc[:,0]=[datetime.strptime(i,'%Y-%m-%d') for i in DAXraw.iloc[:,0]]\n",
    "FTSEraw.iloc[:,0] = [datetime.strptime(i,'%d-%b-%y') for i in FTSEraw.iloc[:,0]]"
   ]
  },
  {
   "cell_type": "markdown",
   "metadata": {},
   "source": [
    "Let's look at the data again."
   ]
  },
  {
   "cell_type": "code",
   "execution_count": 12,
   "metadata": {},
   "outputs": [
    {
     "name": "stdout",
     "output_type": "stream",
     "text": [
      "count                    1257\n",
      "unique                   1257\n",
      "top       2016-09-08 00:00:00\n",
      "freq                        1\n",
      "first     2012-05-07 00:00:00\n",
      "last      2017-05-04 00:00:00\n",
      "Name: Date, dtype: object \n",
      "\n",
      "datetime64[ns] \n",
      " \n",
      "\n",
      "count                    1267\n",
      "unique                   1267\n",
      "top       2016-09-08 00:00:00\n",
      "freq                        1\n",
      "first     2012-05-07 00:00:00\n",
      "last      2017-05-05 00:00:00\n",
      "Name: Date, dtype: object \n",
      "\n",
      "datetime64[ns] \n",
      " \n",
      "\n",
      "count                    1226\n",
      "unique                   1226\n",
      "top       2016-09-08 00:00:00\n",
      "freq                        1\n",
      "first     2012-05-07 00:00:00\n",
      "last      2017-05-02 00:00:00\n",
      "Name: Date, dtype: object \n",
      "\n",
      "datetime64[ns] \n",
      " \n",
      "\n",
      "count                    1233\n",
      "unique                   1233\n",
      "top       2016-09-08 00:00:00\n",
      "freq                        1\n",
      "first     2012-05-07 00:00:00\n",
      "last      2017-05-05 00:00:00\n",
      "Name: Date, dtype: object \n",
      "\n",
      "datetime64[ns] \n",
      " \n",
      "\n",
      "count                    1265\n",
      "unique                   1265\n",
      "top       2016-09-08 00:00:00\n",
      "freq                        1\n",
      "first     2012-05-07 00:00:00\n",
      "last      2017-05-04 00:00:00\n",
      "Name: Date, dtype: object \n",
      "\n",
      "datetime64[ns] \n",
      " \n",
      "\n",
      "count                    1263\n",
      "unique                   1263\n",
      "top       2016-09-08 00:00:00\n",
      "freq                        1\n",
      "first     2012-05-08 00:00:00\n",
      "last      2017-05-05 00:00:00\n",
      "Name: Date, dtype: object \n",
      "\n",
      "datetime64[ns] \n",
      " \n",
      "\n"
     ]
    }
   ],
   "source": [
    "for i in All:\n",
    "    print(i.Date.describe(),'\\n')\n",
    "    print(i.Date.dtypes,'\\n','\\n')\n"
   ]
  },
  {
   "cell_type": "markdown",
   "metadata": {},
   "source": [
    "## 2. Price data type\n",
    "### - string to float"
   ]
  },
  {
   "cell_type": "markdown",
   "metadata": {},
   "source": [
    "The price data is not exactly integer or float that can be used. I will convert them from string to float.\n",
    "\n",
    "Before diving into 6 different dataframes, I want to focus on the FTSEraw dataframe."
   ]
  },
  {
   "cell_type": "code",
   "execution_count": 13,
   "metadata": {},
   "outputs": [
    {
     "data": {
      "text/html": [
       "<div>\n",
       "<style scoped>\n",
       "    .dataframe tbody tr th:only-of-type {\n",
       "        vertical-align: middle;\n",
       "    }\n",
       "\n",
       "    .dataframe tbody tr th {\n",
       "        vertical-align: top;\n",
       "    }\n",
       "\n",
       "    .dataframe thead th {\n",
       "        text-align: right;\n",
       "    }\n",
       "</style>\n",
       "<table border=\"1\" class=\"dataframe\">\n",
       "  <thead>\n",
       "    <tr style=\"text-align: right;\">\n",
       "      <th></th>\n",
       "      <th>Date</th>\n",
       "      <th>Price</th>\n",
       "      <th>Open</th>\n",
       "      <th>High</th>\n",
       "      <th>Low</th>\n",
       "      <th>Volume</th>\n",
       "      <th>Change(%)</th>\n",
       "    </tr>\n",
       "  </thead>\n",
       "  <tbody>\n",
       "    <tr>\n",
       "      <th>0</th>\n",
       "      <td>2017-05-05</td>\n",
       "      <td>7,297.43</td>\n",
       "      <td>7,248.10</td>\n",
       "      <td>7,297.43</td>\n",
       "      <td>7,222.81</td>\n",
       "      <td>-</td>\n",
       "      <td>0.68%</td>\n",
       "    </tr>\n",
       "    <tr>\n",
       "      <th>1</th>\n",
       "      <td>2017-05-04</td>\n",
       "      <td>7,248.10</td>\n",
       "      <td>7,234.53</td>\n",
       "      <td>7,280.70</td>\n",
       "      <td>7,226.07</td>\n",
       "      <td>947.13M</td>\n",
       "      <td>0.19%</td>\n",
       "    </tr>\n",
       "    <tr>\n",
       "      <th>2</th>\n",
       "      <td>2017-05-03</td>\n",
       "      <td>7,234.53</td>\n",
       "      <td>7,250.05</td>\n",
       "      <td>7,250.05</td>\n",
       "      <td>7,218.56</td>\n",
       "      <td>790.04M</td>\n",
       "      <td>-0.21%</td>\n",
       "    </tr>\n",
       "    <tr>\n",
       "      <th>3</th>\n",
       "      <td>2017-05-02</td>\n",
       "      <td>7,250.05</td>\n",
       "      <td>7,203.94</td>\n",
       "      <td>7,254.32</td>\n",
       "      <td>7,203.94</td>\n",
       "      <td>939.01M</td>\n",
       "      <td>0.64%</td>\n",
       "    </tr>\n",
       "    <tr>\n",
       "      <th>4</th>\n",
       "      <td>2017-04-28</td>\n",
       "      <td>7,203.94</td>\n",
       "      <td>7,237.17</td>\n",
       "      <td>7,243.31</td>\n",
       "      <td>7,197.28</td>\n",
       "      <td>1.18B</td>\n",
       "      <td>-0.46%</td>\n",
       "    </tr>\n",
       "  </tbody>\n",
       "</table>\n",
       "</div>"
      ],
      "text/plain": [
       "        Date     Price      Open      High       Low   Volume Change(%)\n",
       "0 2017-05-05  7,297.43  7,248.10  7,297.43  7,222.81        -     0.68%\n",
       "1 2017-05-04  7,248.10  7,234.53  7,280.70  7,226.07  947.13M     0.19%\n",
       "2 2017-05-03  7,234.53  7,250.05  7,250.05  7,218.56  790.04M    -0.21%\n",
       "3 2017-05-02  7,250.05  7,203.94  7,254.32  7,203.94  939.01M     0.64%\n",
       "4 2017-04-28  7,203.94  7,237.17  7,243.31  7,197.28    1.18B    -0.46%"
      ]
     },
     "execution_count": 13,
     "metadata": {},
     "output_type": "execute_result"
    }
   ],
   "source": [
    "FTSEraw.head()"
   ]
  },
  {
   "cell_type": "markdown",
   "metadata": {},
   "source": [
    "The Volume column data is string and contains M or B. I need to convert it to actual numberic value."
   ]
  },
  {
   "cell_type": "code",
   "execution_count": 17,
   "metadata": {},
   "outputs": [],
   "source": [
    "#A custom function that changes string with M or B to decimal digits\n",
    "\n",
    "from decimal import Decimal\n",
    "d = {\n",
    "        'M': 6,\n",
    "        'B': 9\n",
    "}\n",
    "def text_to_num(text):\n",
    "        if text[-1] in d:\n",
    "            num, magnitude = text[:-1], text[-1]\n",
    "            return Decimal(num) * 10 ** d[magnitude]\n",
    "        else:\n",
    "            return text"
   ]
  },
  {
   "cell_type": "markdown",
   "metadata": {},
   "source": [
    "*https://stackoverflow.com/questions/11896560/how-can-i-consistently-convert-strings-like-3-71b-and-4m-to-numbers-in-pytho/11896814*"
   ]
  },
  {
   "cell_type": "code",
   "execution_count": 18,
   "metadata": {},
   "outputs": [],
   "source": [
    "for i in range(0,FTSEraw.shape[0]):\n",
    "    if FTSEraw.iloc[i,5] !='-':\n",
    "        FTSEraw.iloc[i,5] = float(text_to_num(FTSEraw.iloc[i,5]))"
   ]
  },
  {
   "cell_type": "code",
   "execution_count": 27,
   "metadata": {},
   "outputs": [
    {
     "data": {
      "text/html": [
       "<div>\n",
       "<style scoped>\n",
       "    .dataframe tbody tr th:only-of-type {\n",
       "        vertical-align: middle;\n",
       "    }\n",
       "\n",
       "    .dataframe tbody tr th {\n",
       "        vertical-align: top;\n",
       "    }\n",
       "\n",
       "    .dataframe thead th {\n",
       "        text-align: right;\n",
       "    }\n",
       "</style>\n",
       "<table border=\"1\" class=\"dataframe\">\n",
       "  <thead>\n",
       "    <tr style=\"text-align: right;\">\n",
       "      <th></th>\n",
       "      <th>Date</th>\n",
       "      <th>Price</th>\n",
       "      <th>Open</th>\n",
       "      <th>High</th>\n",
       "      <th>Low</th>\n",
       "      <th>Volume</th>\n",
       "      <th>Change(%)</th>\n",
       "    </tr>\n",
       "  </thead>\n",
       "  <tbody>\n",
       "    <tr>\n",
       "      <th>0</th>\n",
       "      <td>2017-05-05</td>\n",
       "      <td>7,297.43</td>\n",
       "      <td>7,248.10</td>\n",
       "      <td>7,297.43</td>\n",
       "      <td>7,222.81</td>\n",
       "      <td>-</td>\n",
       "      <td>0.68%</td>\n",
       "    </tr>\n",
       "    <tr>\n",
       "      <th>1</th>\n",
       "      <td>2017-05-04</td>\n",
       "      <td>7,248.10</td>\n",
       "      <td>7,234.53</td>\n",
       "      <td>7,280.70</td>\n",
       "      <td>7,226.07</td>\n",
       "      <td>9.4713e+08</td>\n",
       "      <td>0.19%</td>\n",
       "    </tr>\n",
       "    <tr>\n",
       "      <th>2</th>\n",
       "      <td>2017-05-03</td>\n",
       "      <td>7,234.53</td>\n",
       "      <td>7,250.05</td>\n",
       "      <td>7,250.05</td>\n",
       "      <td>7,218.56</td>\n",
       "      <td>7.9004e+08</td>\n",
       "      <td>-0.21%</td>\n",
       "    </tr>\n",
       "    <tr>\n",
       "      <th>3</th>\n",
       "      <td>2017-05-02</td>\n",
       "      <td>7,250.05</td>\n",
       "      <td>7,203.94</td>\n",
       "      <td>7,254.32</td>\n",
       "      <td>7,203.94</td>\n",
       "      <td>9.3901e+08</td>\n",
       "      <td>0.64%</td>\n",
       "    </tr>\n",
       "    <tr>\n",
       "      <th>4</th>\n",
       "      <td>2017-04-28</td>\n",
       "      <td>7,203.94</td>\n",
       "      <td>7,237.17</td>\n",
       "      <td>7,243.31</td>\n",
       "      <td>7,197.28</td>\n",
       "      <td>1.18e+09</td>\n",
       "      <td>-0.46%</td>\n",
       "    </tr>\n",
       "  </tbody>\n",
       "</table>\n",
       "</div>"
      ],
      "text/plain": [
       "        Date     Price      Open      High       Low      Volume Change(%)\n",
       "0 2017-05-05  7,297.43  7,248.10  7,297.43  7,222.81           -     0.68%\n",
       "1 2017-05-04  7,248.10  7,234.53  7,280.70  7,226.07  9.4713e+08     0.19%\n",
       "2 2017-05-03  7,234.53  7,250.05  7,250.05  7,218.56  7.9004e+08    -0.21%\n",
       "3 2017-05-02  7,250.05  7,203.94  7,254.32  7,203.94  9.3901e+08     0.64%\n",
       "4 2017-04-28  7,203.94  7,237.17  7,243.31  7,197.28    1.18e+09    -0.46%"
      ]
     },
     "execution_count": 27,
     "metadata": {},
     "output_type": "execute_result"
    }
   ],
   "source": [
    "FTSEraw.head()"
   ]
  },
  {
   "cell_type": "markdown",
   "metadata": {},
   "source": [
    "For other price information, we see thousands seperator. Would it matter if we want to convert it to numeric data?"
   ]
  },
  {
   "cell_type": "code",
   "execution_count": 31,
   "metadata": {},
   "outputs": [
    {
     "ename": "ValueError",
     "evalue": "Unable to parse string \"7,297.43\" at position 0",
     "output_type": "error",
     "traceback": [
      "\u001b[0;31m---------------------------------------------------------------------------\u001b[0m",
      "\u001b[0;31mValueError\u001b[0m                                Traceback (most recent call last)",
      "\u001b[0;32mpandas/_libs/src/inference.pyx\u001b[0m in \u001b[0;36mpandas._libs.lib.maybe_convert_numeric\u001b[0;34m()\u001b[0m\n",
      "\u001b[0;31mValueError\u001b[0m: Unable to parse string \"7,297.43\"",
      "\nDuring handling of the above exception, another exception occurred:\n",
      "\u001b[0;31mValueError\u001b[0m                                Traceback (most recent call last)",
      "\u001b[0;32m<ipython-input-31-3f8e4e450042>\u001b[0m in \u001b[0;36m<module>\u001b[0;34m()\u001b[0m\n\u001b[0;32m----> 1\u001b[0;31m \u001b[0mpd\u001b[0m\u001b[0;34m.\u001b[0m\u001b[0mto_numeric\u001b[0m\u001b[0;34m(\u001b[0m\u001b[0mFTSEraw\u001b[0m\u001b[0;34m.\u001b[0m\u001b[0mPrice\u001b[0m\u001b[0;34m)\u001b[0m\u001b[0;34m\u001b[0m\u001b[0m\n\u001b[0m",
      "\u001b[0;32m/anaconda3/envs/tensorflow/lib/python3.5/site-packages/pandas/core/tools/numeric.py\u001b[0m in \u001b[0;36mto_numeric\u001b[0;34m(arg, errors, downcast)\u001b[0m\n\u001b[1;32m    131\u001b[0m             \u001b[0mcoerce_numeric\u001b[0m \u001b[0;34m=\u001b[0m \u001b[0;32mFalse\u001b[0m \u001b[0;32mif\u001b[0m \u001b[0merrors\u001b[0m \u001b[0;32min\u001b[0m \u001b[0;34m(\u001b[0m\u001b[0;34m'ignore'\u001b[0m\u001b[0;34m,\u001b[0m \u001b[0;34m'raise'\u001b[0m\u001b[0;34m)\u001b[0m \u001b[0;32melse\u001b[0m \u001b[0;32mTrue\u001b[0m\u001b[0;34m\u001b[0m\u001b[0m\n\u001b[1;32m    132\u001b[0m             values = lib.maybe_convert_numeric(values, set(),\n\u001b[0;32m--> 133\u001b[0;31m                                                coerce_numeric=coerce_numeric)\n\u001b[0m\u001b[1;32m    134\u001b[0m \u001b[0;34m\u001b[0m\u001b[0m\n\u001b[1;32m    135\u001b[0m     \u001b[0;32mexcept\u001b[0m \u001b[0mException\u001b[0m\u001b[0;34m:\u001b[0m\u001b[0;34m\u001b[0m\u001b[0m\n",
      "\u001b[0;32mpandas/_libs/src/inference.pyx\u001b[0m in \u001b[0;36mpandas._libs.lib.maybe_convert_numeric\u001b[0;34m()\u001b[0m\n",
      "\u001b[0;31mValueError\u001b[0m: Unable to parse string \"7,297.43\" at position 0"
     ]
    }
   ],
   "source": [
    "pd.to_numeric(FTSEraw.Price)"
   ]
  },
  {
   "cell_type": "markdown",
   "metadata": {},
   "source": [
    "Initially I replaced ',' to '' to enable to_numeric. "
   ]
  },
  {
   "cell_type": "code",
   "execution_count": 32,
   "metadata": {},
   "outputs": [
    {
     "data": {
      "text/plain": [
       "0    7297.43\n",
       "1    7248.10\n",
       "2    7234.53\n",
       "3    7250.05\n",
       "4    7203.94\n",
       "Name: Price, dtype: object"
      ]
     },
     "execution_count": 32,
     "metadata": {},
     "output_type": "execute_result"
    }
   ],
   "source": [
    "FTSEraw.iloc[:,1].str.replace(',','').head()"
   ]
  },
  {
   "cell_type": "markdown",
   "metadata": {},
   "source": [
    "However there is a smater way to do the same. "
   ]
  },
  {
   "cell_type": "markdown",
   "metadata": {},
   "source": [
    "*https://stackoverflow.com/questions/1779288/how-to-convert-a-string-to-a-number-if-it-has-commas-in-it-as-thousands-separato*"
   ]
  },
  {
   "cell_type": "code",
   "execution_count": 39,
   "metadata": {},
   "outputs": [
    {
     "data": {
      "text/plain": [
       "float"
      ]
     },
     "execution_count": 39,
     "metadata": {},
     "output_type": "execute_result"
    }
   ],
   "source": [
    "import locale\n",
    "locale.setlocale( locale.LC_ALL, 'en_US.UTF-8' ) \n",
    "type(locale.atof(\"7,297.43\"))"
   ]
  },
  {
   "cell_type": "markdown",
   "metadata": {},
   "source": [
    "So let's convert all data to float."
   ]
  },
  {
   "cell_type": "code",
   "execution_count": 44,
   "metadata": {},
   "outputs": [
    {
     "data": {
      "text/html": [
       "<div>\n",
       "<style scoped>\n",
       "    .dataframe tbody tr th:only-of-type {\n",
       "        vertical-align: middle;\n",
       "    }\n",
       "\n",
       "    .dataframe tbody tr th {\n",
       "        vertical-align: top;\n",
       "    }\n",
       "\n",
       "    .dataframe thead th {\n",
       "        text-align: right;\n",
       "    }\n",
       "</style>\n",
       "<table border=\"1\" class=\"dataframe\">\n",
       "  <thead>\n",
       "    <tr style=\"text-align: right;\">\n",
       "      <th></th>\n",
       "      <th>Date</th>\n",
       "      <th>Price</th>\n",
       "      <th>Open</th>\n",
       "      <th>High</th>\n",
       "      <th>Low</th>\n",
       "      <th>Volume</th>\n",
       "      <th>Change(%)</th>\n",
       "    </tr>\n",
       "  </thead>\n",
       "  <tbody>\n",
       "    <tr>\n",
       "      <th>0</th>\n",
       "      <td>2017-05-05</td>\n",
       "      <td>7297.43</td>\n",
       "      <td>7248.10</td>\n",
       "      <td>7297.43</td>\n",
       "      <td>7222.81</td>\n",
       "      <td>-</td>\n",
       "      <td>0.68%</td>\n",
       "    </tr>\n",
       "    <tr>\n",
       "      <th>1</th>\n",
       "      <td>2017-05-04</td>\n",
       "      <td>7248.10</td>\n",
       "      <td>7234.53</td>\n",
       "      <td>7280.70</td>\n",
       "      <td>7226.07</td>\n",
       "      <td>9.4713e+08</td>\n",
       "      <td>0.19%</td>\n",
       "    </tr>\n",
       "    <tr>\n",
       "      <th>2</th>\n",
       "      <td>2017-05-03</td>\n",
       "      <td>7234.53</td>\n",
       "      <td>7250.05</td>\n",
       "      <td>7250.05</td>\n",
       "      <td>7218.56</td>\n",
       "      <td>7.9004e+08</td>\n",
       "      <td>-0.21%</td>\n",
       "    </tr>\n",
       "    <tr>\n",
       "      <th>3</th>\n",
       "      <td>2017-05-02</td>\n",
       "      <td>7250.05</td>\n",
       "      <td>7203.94</td>\n",
       "      <td>7254.32</td>\n",
       "      <td>7203.94</td>\n",
       "      <td>9.3901e+08</td>\n",
       "      <td>0.64%</td>\n",
       "    </tr>\n",
       "    <tr>\n",
       "      <th>4</th>\n",
       "      <td>2017-04-28</td>\n",
       "      <td>7203.94</td>\n",
       "      <td>7237.17</td>\n",
       "      <td>7243.31</td>\n",
       "      <td>7197.28</td>\n",
       "      <td>1.18e+09</td>\n",
       "      <td>-0.46%</td>\n",
       "    </tr>\n",
       "  </tbody>\n",
       "</table>\n",
       "</div>"
      ],
      "text/plain": [
       "        Date    Price     Open     High      Low      Volume Change(%)\n",
       "0 2017-05-05  7297.43  7248.10  7297.43  7222.81           -     0.68%\n",
       "1 2017-05-04  7248.10  7234.53  7280.70  7226.07  9.4713e+08     0.19%\n",
       "2 2017-05-03  7234.53  7250.05  7250.05  7218.56  7.9004e+08    -0.21%\n",
       "3 2017-05-02  7250.05  7203.94  7254.32  7203.94  9.3901e+08     0.64%\n",
       "4 2017-04-28  7203.94  7237.17  7243.31  7197.28    1.18e+09    -0.46%"
      ]
     },
     "execution_count": 44,
     "metadata": {},
     "output_type": "execute_result"
    }
   ],
   "source": [
    "FTSEraw.iloc[:,1:5] = FTSEraw.iloc[:,1:5].applymap(locale.atof)\n",
    "FTSEraw.head()"
   ]
  },
  {
   "cell_type": "code",
   "execution_count": 49,
   "metadata": {
    "scrolled": true
   },
   "outputs": [
    {
     "data": {
      "text/html": [
       "<div>\n",
       "<style scoped>\n",
       "    .dataframe tbody tr th:only-of-type {\n",
       "        vertical-align: middle;\n",
       "    }\n",
       "\n",
       "    .dataframe tbody tr th {\n",
       "        vertical-align: top;\n",
       "    }\n",
       "\n",
       "    .dataframe thead th {\n",
       "        text-align: right;\n",
       "    }\n",
       "</style>\n",
       "<table border=\"1\" class=\"dataframe\">\n",
       "  <thead>\n",
       "    <tr style=\"text-align: right;\">\n",
       "      <th></th>\n",
       "      <th>Price</th>\n",
       "      <th>Open</th>\n",
       "      <th>High</th>\n",
       "      <th>Low</th>\n",
       "    </tr>\n",
       "  </thead>\n",
       "  <tbody>\n",
       "    <tr>\n",
       "      <th>count</th>\n",
       "      <td>1263.000000</td>\n",
       "      <td>1263.000000</td>\n",
       "      <td>1263.000000</td>\n",
       "      <td>1263.000000</td>\n",
       "    </tr>\n",
       "    <tr>\n",
       "      <th>mean</th>\n",
       "      <td>6493.478409</td>\n",
       "      <td>6492.175439</td>\n",
       "      <td>6528.278353</td>\n",
       "      <td>6455.791314</td>\n",
       "    </tr>\n",
       "    <tr>\n",
       "      <th>std</th>\n",
       "      <td>446.704634</td>\n",
       "      <td>446.750822</td>\n",
       "      <td>441.990230</td>\n",
       "      <td>450.780939</td>\n",
       "    </tr>\n",
       "    <tr>\n",
       "      <th>min</th>\n",
       "      <td>5260.190000</td>\n",
       "      <td>5260.190000</td>\n",
       "      <td>5324.360000</td>\n",
       "      <td>5229.760000</td>\n",
       "    </tr>\n",
       "    <tr>\n",
       "      <th>25%</th>\n",
       "      <td>6195.005000</td>\n",
       "      <td>6193.420000</td>\n",
       "      <td>6241.090000</td>\n",
       "      <td>6146.240000</td>\n",
       "    </tr>\n",
       "    <tr>\n",
       "      <th>50%</th>\n",
       "      <td>6568.350000</td>\n",
       "      <td>6568.330000</td>\n",
       "      <td>6598.390000</td>\n",
       "      <td>6535.180000</td>\n",
       "    </tr>\n",
       "    <tr>\n",
       "      <th>75%</th>\n",
       "      <td>6805.200000</td>\n",
       "      <td>6804.405000</td>\n",
       "      <td>6830.895000</td>\n",
       "      <td>6771.225000</td>\n",
       "    </tr>\n",
       "    <tr>\n",
       "      <th>max</th>\n",
       "      <td>7429.810000</td>\n",
       "      <td>7429.810000</td>\n",
       "      <td>7447.000000</td>\n",
       "      <td>7402.640000</td>\n",
       "    </tr>\n",
       "  </tbody>\n",
       "</table>\n",
       "</div>"
      ],
      "text/plain": [
       "             Price         Open         High          Low\n",
       "count  1263.000000  1263.000000  1263.000000  1263.000000\n",
       "mean   6493.478409  6492.175439  6528.278353  6455.791314\n",
       "std     446.704634   446.750822   441.990230   450.780939\n",
       "min    5260.190000  5260.190000  5324.360000  5229.760000\n",
       "25%    6195.005000  6193.420000  6241.090000  6146.240000\n",
       "50%    6568.350000  6568.330000  6598.390000  6535.180000\n",
       "75%    6805.200000  6804.405000  6830.895000  6771.225000\n",
       "max    7429.810000  7429.810000  7447.000000  7402.640000"
      ]
     },
     "execution_count": 49,
     "metadata": {},
     "output_type": "execute_result"
    }
   ],
   "source": [
    "FTSEraw.describe()"
   ]
  },
  {
   "cell_type": "markdown",
   "metadata": {},
   "source": [
    "Other dataframes should be converted to data type that can be investigated."
   ]
  },
  {
   "cell_type": "code",
   "execution_count": 54,
   "metadata": {},
   "outputs": [
    {
     "name": "stdout",
     "output_type": "stream",
     "text": [
      "              Open         High          Low        Close    Adj Close  \\\n",
      "count  1256.000000  1256.000000  1256.000000  1256.000000  1256.000000   \n",
      "mean   1888.432858  1896.895424  1879.482509  1889.030787  1889.030787   \n",
      "std     281.692212   281.836013   281.240488   281.569206   281.569206   \n",
      "min    1277.819946  1282.550049  1266.739990  1278.040039  1278.040039   \n",
      "25%    1673.679993  1680.044952  1662.222534  1674.192505  1674.192505   \n",
      "50%    1963.600037  1974.580017  1953.875000  1964.750000  1964.750000   \n",
      "75%    2092.167419  2100.924927  2083.075012  2091.882446  2091.882446   \n",
      "max    2394.750000  2400.979980  2386.780029  2395.959961  2395.959961   \n",
      "\n",
      "             Volume  \n",
      "count  1.256000e+03  \n",
      "mean   3.557088e+09  \n",
      "std    6.814312e+08  \n",
      "min    5.362000e+08  \n",
      "25%    3.154670e+09  \n",
      "50%    3.483950e+09  \n",
      "75%    3.855888e+09  \n",
      "max    7.597450e+09  \n",
      "              Open         High          Low        Close    Adj Close  \\\n",
      "count  1265.000000  1265.000000  1265.000000  1265.000000  1265.000000   \n",
      "mean   5212.464745  5238.770441  5186.116284  5213.555969  5213.555969   \n",
      "std     444.601990   444.875384   443.234823   444.430585   444.430585   \n",
      "min    3985.000000  4027.800049  3985.000000  3985.000000  3985.000000   \n",
      "25%    5010.299805  5051.299805  4982.200195  5010.500000  5010.500000   \n",
      "50%    5295.600098  5324.299805  5269.500000  5295.899902  5295.899902   \n",
      "75%    5497.399902  5522.000000  5473.200195  5498.200195  5498.200195   \n",
      "max    5982.700195  5996.899902  5961.500000  5982.700195  5982.700195   \n",
      "\n",
      "             Volume  \n",
      "count  1.265000e+03  \n",
      "mean   1.654020e+08  \n",
      "std    2.806277e+08  \n",
      "min    0.000000e+00  \n",
      "25%    0.000000e+00  \n",
      "50%    0.000000e+00  \n",
      "75%    4.453443e+08  \n",
      "max    1.353735e+09  \n",
      "               Open          High           Low         Close     Adj Close  \\\n",
      "count   1226.000000   1226.000000   1226.000000   1226.000000   1226.000000   \n",
      "mean   15496.329738  15591.596975  15396.412931  15494.836832  15494.836832   \n",
      "std     3399.467790   3411.562236   3382.920018   3398.745994   3398.745994   \n",
      "min     8278.650391   8303.349609   8238.959961   8295.629883   8295.629883   \n",
      "25%    14087.922363  14149.952148  13972.257324  14054.292480  14054.292480   \n",
      "50%    15851.259765  15970.030274  15754.234863  15864.819825  15864.819825   \n",
      "75%    18168.059570  18326.257324  18048.683105  18157.497070  18157.497070   \n",
      "max    20920.599609  20952.710938  20838.220703  20868.029297  20868.029297   \n",
      "\n",
      "              Volume  \n",
      "count    1226.000000  \n",
      "mean   153007.993475  \n",
      "std     59299.938959  \n",
      "min         0.000000  \n",
      "25%    119000.000000  \n",
      "50%    140550.000000  \n",
      "75%    171025.000000  \n",
      "max    595200.000000  \n",
      "               Open          High           Low         Close     Adj Close  \\\n",
      "count   1229.000000   1229.000000   1229.000000   1229.000000   1229.000000   \n",
      "mean   22633.086940  22745.553941  22492.128482  22617.255224  22617.255224   \n",
      "std     1892.952103   1893.877260   1874.125326   1881.401962   1881.401962   \n",
      "min    18249.609375  18249.609375  18056.400391  18185.589844  18185.589844   \n",
      "25%    21542.300781  21648.640625  21423.029297  21524.359375  21524.359375   \n",
      "50%    22753.750000  22866.509766  22644.580078  22744.849609  22744.849609   \n",
      "75%    23645.900391  23735.109375  23511.599609  23654.300781  23654.300781   \n",
      "max    28462.320313  28588.519531  28251.990234  28442.750000  28442.750000   \n",
      "\n",
      "             Volume  \n",
      "count  1.229000e+03  \n",
      "mean   1.690788e+09  \n",
      "std    5.839572e+08  \n",
      "min    0.000000e+00  \n",
      "25%    1.324712e+09  \n",
      "50%    1.574961e+09  \n",
      "75%    1.907805e+09  \n",
      "max    5.441411e+09  \n",
      "               Open          High           Low         Close     Adj Close  \\\n",
      "count   1264.000000   1264.000000   1264.000000   1264.000000   1264.000000   \n",
      "mean    9525.483382   9587.868141   9458.356849   9526.376879   9526.376879   \n",
      "std     1533.119219   1541.476849   1524.467315   1533.254724   1533.254724   \n",
      "min     5976.459961   6011.560059   5914.430176   5969.399902   5969.399902   \n",
      "25%     8342.950195   8389.979736   8284.212647   8338.004639   8338.004639   \n",
      "50%     9672.310058   9722.290039   9596.455078   9659.915039   9659.915039   \n",
      "75%    10640.552735  10711.237549  10583.755127  10654.842529  10654.842529   \n",
      "max    12552.059570  12648.219727  12539.709961  12647.780273  12647.780273   \n",
      "\n",
      "             Volume  \n",
      "count  1.264000e+03  \n",
      "mean   3.849593e+07  \n",
      "std    4.231196e+07  \n",
      "min    0.000000e+00  \n",
      "25%    0.000000e+00  \n",
      "50%    2.703130e+07  \n",
      "75%    7.420295e+07  \n",
      "max    2.495851e+08  \n"
     ]
    }
   ],
   "source": [
    "for i in All[:-1]:\n",
    "    i.iloc[:,1:]=i.iloc[:,1:].applymap(pd.to_numeric)\n",
    "    print(i.describe())"
   ]
  },
  {
   "cell_type": "markdown",
   "metadata": {},
   "source": [
    "## 3. Merging dataframes into one"
   ]
  },
  {
   "cell_type": "code",
   "execution_count": 55,
   "metadata": {},
   "outputs": [],
   "source": [
    "#Creating a range of dates from 2012-05-05 to 2017-05-05\n",
    "def perdelta(start, end, delta):\n",
    "    curr = start\n",
    "    while curr < end:\n",
    "        yield curr\n",
    "        curr += delta\n",
    "datelist=[]\n",
    "for result in perdelta(date(2012, 5, 8), date(2017, 5, 5), timedelta(days=1)):\n",
    "    datelist.append(result)"
   ]
  },
  {
   "cell_type": "code",
   "execution_count": null,
   "metadata": {},
   "outputs": [],
   "source": []
  },
  {
   "cell_type": "code",
   "execution_count": null,
   "metadata": {},
   "outputs": [],
   "source": []
  },
  {
   "cell_type": "code",
   "execution_count": null,
   "metadata": {},
   "outputs": [],
   "source": []
  },
  {
   "cell_type": "code",
   "execution_count": null,
   "metadata": {},
   "outputs": [],
   "source": []
  },
  {
   "cell_type": "code",
   "execution_count": null,
   "metadata": {},
   "outputs": [],
   "source": []
  },
  {
   "cell_type": "code",
   "execution_count": null,
   "metadata": {},
   "outputs": [],
   "source": []
  },
  {
   "cell_type": "code",
   "execution_count": null,
   "metadata": {},
   "outputs": [],
   "source": []
  },
  {
   "cell_type": "code",
   "execution_count": null,
   "metadata": {},
   "outputs": [],
   "source": []
  },
  {
   "cell_type": "code",
   "execution_count": null,
   "metadata": {},
   "outputs": [],
   "source": []
  },
  {
   "cell_type": "markdown",
   "metadata": {},
   "source": [
    "Clean the data so that all shares the same type of values. - date, price, openprice, high price and low price. I will try to incorporate these.\n",
    "It is also important to fill in datas for missing dates. I will use forward data filling. Such as if May 3rd data is empty, May 2nd data will fill in the balnk. If May 2nd data is also NA, May 1st data will be used. "
   ]
  },
  {
   "cell_type": "code",
   "execution_count": null,
   "metadata": {
    "collapsed": true
   },
   "outputs": [],
   "source": [
    "#Deleting unnecessary columns and changing column names \n",
    "del SNPraw['Adj Close']\n",
    "del ASXraw['Adj Close']\n",
    "del NIKraw['Adj Close']\n",
    "del HSraw['Adj Close']\n",
    "del DAXraw['Adj Close']\n",
    "del FTSEraw['Change(%)']\n",
    "#Changing a single column name of FTSEraw\n",
    "FTSEraw.rename(columns={'Price':'Close'}, inplace=True)\n",
    "FTSEraw.rename(columns={FTSEraw.columns[0]:'Date'}, inplace=True)"
   ]
  },
  {
   "cell_type": "code",
   "execution_count": null,
   "metadata": {
    "collapsed": true
   },
   "outputs": [],
   "source": [
    "close_data = pd.DataFrame({\"Date\":datelist})\n",
    "HL_data = pd.DataFrame({\"Date\":datelist})\n",
    "Vol_data =pd.DataFrame({\"Date\":datelist})\n",
    "\n",
    "close_data[\"SNPclose\"] = \"\"\n",
    "close_data[\"ASXclose\"]= \"\"\n",
    "close_data[\"NIKclose\"]= \"\"\n",
    "close_data[\"HSclose\"]= \"\"\n",
    "close_data[\"DAXclose\"]= \"\"\n",
    "close_data[\"FTSEclose\"]= \"\"\n",
    "\n",
    "HL_data[\"SNPHigh\"] = \"\"\n",
    "HL_data[\"SNPLow\"] = \"\"\n",
    "HL_data[\"ASXHigh\"]= \"\"\n",
    "HL_data[\"ASXLow\"]= \"\"\n",
    "HL_data[\"NIKHigh\"]= \"\"\n",
    "HL_data[\"NIKLow\"]= \"\"\n",
    "HL_data[\"HSHigh\"]= \"\"\n",
    "HL_data[\"HSLow\"]= \"\"\n",
    "HL_data[\"DAXHigh\"]= \"\"\n",
    "HL_data[\"DAXLow\"]= \"\"\n",
    "HL_data[\"FTSEHigh\"]= \"\"\n",
    "HL_data[\"FTSELow\"]= \"\"\n",
    "\n",
    "Vol_data[\"SNPVol\"] = \"\"\n",
    "Vol_data[\"ASXVol\"]= \"\"\n",
    "Vol_data[\"NIKVol\"]= \"\"\n",
    "Vol_data[\"HSVol\"]= \"\"\n",
    "Vol_data[\"DAXVol\"]= \"\"\n",
    "Vol_data[\"FTSEVol\"]= \"\""
   ]
  },
  {
   "cell_type": "code",
   "execution_count": null,
   "metadata": {
    "collapsed": true
   },
   "outputs": [],
   "source": [
    "counter=0\n",
    "for i in close_data.iloc[:,0]:\n",
    "    tmpidx=SNPraw.Date[SNPraw.Date==i].index.tolist()\n",
    "    if len(tmpidx)!=0:\n",
    "        close_data.iloc[counter,1]=SNPraw.iloc[tmpidx[0],4]\n",
    "        HL_data.iloc[counter,1]=SNPraw.iloc[tmpidx[0],2]\n",
    "        HL_data.iloc[counter,2]=SNPraw.iloc[tmpidx[0],3]\n",
    "        Vol_data.iloc[counter,1]=SNPraw.iloc[tmpidx[0],5]\n",
    "    counter+=1"
   ]
  },
  {
   "cell_type": "code",
   "execution_count": null,
   "metadata": {
    "collapsed": true
   },
   "outputs": [],
   "source": [
    "counter=0\n",
    "for i in close_data.iloc[:,0]:\n",
    "    tmpidx=ASXraw.Date[ASXraw.Date==i].index.tolist()\n",
    "    if len(tmpidx)!=0:\n",
    "        close_data.iloc[counter,2]=ASXraw.iloc[tmpidx[0],4]\n",
    "        HL_data.iloc[counter,3]=ASXraw.iloc[tmpidx[0],2]\n",
    "        HL_data.iloc[counter,4]=ASXraw.iloc[tmpidx[0],3]\n",
    "        Vol_data.iloc[counter,2]=ASXraw.iloc[tmpidx[0],5]\n",
    "    counter+=1"
   ]
  },
  {
   "cell_type": "code",
   "execution_count": null,
   "metadata": {
    "collapsed": true
   },
   "outputs": [],
   "source": [
    "counter=0\n",
    "for i in close_data.iloc[:,0]:\n",
    "    tmpidx=NIKraw.Date[NIKraw.Date==i].index.tolist()\n",
    "    if len(tmpidx)!=0:\n",
    "        close_data.iloc[counter,3]=NIKraw.iloc[tmpidx[0],4]\n",
    "        HL_data.iloc[counter,5]=NIKraw.iloc[tmpidx[0],2]\n",
    "        HL_data.iloc[counter,6]=NIKraw.iloc[tmpidx[0],3]\n",
    "        Vol_data.iloc[counter,3]=NIKraw.iloc[tmpidx[0],5]\n",
    "    counter+=1"
   ]
  },
  {
   "cell_type": "code",
   "execution_count": null,
   "metadata": {
    "collapsed": true
   },
   "outputs": [],
   "source": [
    "counter=0\n",
    "for i in close_data.iloc[:,0]:\n",
    "    tmpidx=HSraw.Date[HSraw.Date==i].index.tolist()\n",
    "    if len(tmpidx)!=0:\n",
    "        close_data.iloc[counter,4]=HSraw.iloc[tmpidx[0],4]\n",
    "        HL_data.iloc[counter,7]=HSraw.iloc[tmpidx[0],2]\n",
    "        HL_data.iloc[counter,8]=HSraw.iloc[tmpidx[0],3]\n",
    "        Vol_data.iloc[counter,4]=HSraw.iloc[tmpidx[0],5]\n",
    "    counter+=1"
   ]
  },
  {
   "cell_type": "code",
   "execution_count": null,
   "metadata": {
    "collapsed": true
   },
   "outputs": [],
   "source": [
    "counter=0\n",
    "for i in close_data.iloc[:,0]:\n",
    "    tmpidx=DAXraw.Date[DAXraw.Date==i].index.tolist()\n",
    "    if len(tmpidx)!=0:\n",
    "        close_data.iloc[counter,5]=DAXraw.iloc[tmpidx[0],4]\n",
    "        HL_data.iloc[counter,9]=DAXraw.iloc[tmpidx[0],2]\n",
    "        HL_data.iloc[counter,10]=DAXraw.iloc[tmpidx[0],3]\n",
    "        Vol_data.iloc[counter,5]=DAXraw.iloc[tmpidx[0],5]\n",
    "    counter+=1\n",
    "    "
   ]
  },
  {
   "cell_type": "code",
   "execution_count": null,
   "metadata": {
    "collapsed": true
   },
   "outputs": [],
   "source": [
    "counter=0\n",
    "for i in close_data.iloc[:,0]:\n",
    "    tmpidx=FTSEraw.Date[FTSEraw.Date==i].index.tolist()\n",
    "    if len(tmpidx)!=0:\n",
    "        close_data.iloc[counter,6]=FTSEraw.iloc[tmpidx[0],1]\n",
    "        HL_data.iloc[counter,11]=FTSEraw.iloc[tmpidx[0],3]\n",
    "        HL_data.iloc[counter,12]=FTSEraw.iloc[tmpidx[0],4]\n",
    "        Vol_data.iloc[counter,6]=FTSEraw.iloc[tmpidx[0],5]\n",
    "    counter+=1"
   ]
  },
  {
   "cell_type": "code",
   "execution_count": null,
   "metadata": {
    "collapsed": true
   },
   "outputs": [],
   "source": [
    "close_data=close_data.replace('',np.nan, regex=True)\n",
    "close_data=close_data.fillna(method=\"ffill\")\n",
    "\n",
    "HL_data=HL_data.replace('',np.nan, regex=True)\n",
    "HL_data=HL_data.fillna(method=\"ffill\")\n",
    "\n",
    "Vol_data=Vol_data.replace('',np.nan, regex=True)\n",
    "Vol_data=Vol_data.fillna(method=\"ffill\")"
   ]
  },
  {
   "cell_type": "code",
   "execution_count": null,
   "metadata": {
    "collapsed": true
   },
   "outputs": [],
   "source": []
  },
  {
   "cell_type": "code",
   "execution_count": null,
   "metadata": {
    "collapsed": true
   },
   "outputs": [],
   "source": [
    "#Now all data is cleaned and converted to properly converted to float types."
   ]
  },
  {
   "cell_type": "code",
   "execution_count": null,
   "metadata": {
    "collapsed": true
   },
   "outputs": [],
   "source": [
    "plt.plot(close_data.iloc[:,0],close_data.iloc[:,1:7])\n",
    "plt.legend(close_data.columns[1:7])\n",
    "plt.show()"
   ]
  },
  {
   "cell_type": "code",
   "execution_count": null,
   "metadata": {
    "collapsed": true
   },
   "outputs": [],
   "source": [
    "plt.plot(Vol_data.iloc[:,0],Vol_data.iloc[:,1:])\n",
    "plt.legend(Vol_data.columns[1:])\n",
    "plt.show()"
   ]
  },
  {
   "cell_type": "code",
   "execution_count": null,
   "metadata": {
    "collapsed": true
   },
   "outputs": [],
   "source": [
    "plt.plot(HL_data.iloc[:,0],HL_data.iloc[:,1:])\n",
    "plt.legend(HL_data.columns[1:])\n",
    "plt.show()"
   ]
  },
  {
   "cell_type": "code",
   "execution_count": null,
   "metadata": {
    "collapsed": true
   },
   "outputs": [],
   "source": [
    "close_return=pd.DataFrame({\"SNP\" : close_data['SNPclose']/close_data['SNPclose'].shift(),\n",
    "                           \"ASX\" :close_data['ASXclose']/close_data['ASXclose'].shift() ,\n",
    "                           \"NIK\" :close_data['NIKclose']/close_data['NIKclose'].shift(),  \n",
    "                           \"HS\": close_data['HSclose']/close_data['HSclose'].shift(), \n",
    "                           \"DAX\": close_data['DAXclose']/close_data['DAXclose'].shift(), \n",
    "                           \"FTSE\" :close_data['FTSEclose']/close_data['FTSEclose'].shift()})"
   ]
  },
  {
   "cell_type": "code",
   "execution_count": null,
   "metadata": {
    "collapsed": true
   },
   "outputs": [],
   "source": [
    "close_return =close_return - 1"
   ]
  },
  {
   "cell_type": "code",
   "execution_count": null,
   "metadata": {
    "collapsed": true
   },
   "outputs": [],
   "source": [
    "HL_volatility = pd.DataFrame({\"SNP\" : \n",
    "                              (HL_data.iloc[:,1] - np.mean(HL_data.iloc[:,1:3].transpose()))/\n",
    "                              np.mean(HL_data.iloc[:,1:3].transpose()),\n",
    "                              \"ASX\" : \n",
    "                              (HL_data.iloc[:,3] - np.mean(HL_data.iloc[:,3:5].transpose()))/\n",
    "                              np.mean(HL_data.iloc[:,3:5].transpose()),\n",
    "                              \"NIK\" : \n",
    "                              (HL_data.iloc[:,5] - np.mean(HL_data.iloc[:,5:7].transpose()))/\n",
    "                              np.mean(HL_data.iloc[:,5:7].transpose()),\n",
    "                              \"HS\" : \n",
    "                              (HL_data.iloc[:,7] - np.mean(HL_data.iloc[:,7:9].transpose()))/\n",
    "                              np.mean(HL_data.iloc[:,7:9].transpose()),\n",
    "                              \"DAX\" : \n",
    "                              (HL_data.iloc[:,9] - np.mean(HL_data.iloc[:,9:11].transpose()))/\n",
    "                              np.mean(HL_data.iloc[:,9:11].transpose()),\n",
    "                              \"FTSE\" : \n",
    "                              (HL_data.iloc[:,11] - np.mean(HL_data.iloc[:,11:13].transpose()))/\n",
    "                              np.mean(HL_data.iloc[:,11:13].transpose())})"
   ]
  },
  {
   "cell_type": "code",
   "execution_count": null,
   "metadata": {
    "collapsed": true
   },
   "outputs": [],
   "source": [
    "close_return.corr().iloc[:,5]"
   ]
  },
  {
   "cell_type": "markdown",
   "metadata": {},
   "source": [
    "It is clear that there is strong correlation between returns of other indices. "
   ]
  },
  {
   "cell_type": "code",
   "execution_count": null,
   "metadata": {
    "collapsed": true
   },
   "outputs": [],
   "source": []
  },
  {
   "cell_type": "markdown",
   "metadata": {},
   "source": [
    "The Tensorflow model here will solve a classification model, positive return or negative return. To do this, the output prediction should be in a form called 'One hot encoding'. It means that each class choice will be an entry in an array. If the SNP return is possitive, array should be [1,0]. If it is negative, it should be [0,1]. The model prediction will not likely look like the examples before but more like a probability. Using argmax, the returned index value will be able to tell us how classification has been 'predicted', i.e. positive if 0, negative if 1."
   ]
  },
  {
   "cell_type": "code",
   "execution_count": null,
   "metadata": {
    "collapsed": true
   },
   "outputs": [],
   "source": [
    "Final_data = pd.DataFrame({'SNPpositive' : (close_return.SNP>=0)*1,\n",
    "                           'SNPnegative' : (close_return.SNP<0)*1,\n",
    "                           'ASXreturn' : close_return.ASX,\n",
    "                           'NIKreturn' : close_return.NIK,\n",
    "                           'HSreturn' : close_return.HS,\n",
    "                           'DAXreturn' : close_return.DAX,\n",
    "                           'FTSEreturn' : close_return.FTSE,\n",
    "                           'SNPvol' : HL_volatility.SNP,\n",
    "                           'ASXvol' : HL_volatility.ASX,\n",
    "                           'NIKvol' : HL_volatility.NIK,\n",
    "                           'HSvol' : HL_volatility.HS,\n",
    "                           'DAXvol' : HL_volatility.DAX,\n",
    "                           'FTSEvol' : HL_volatility.FTSE})"
   ]
  },
  {
   "cell_type": "code",
   "execution_count": null,
   "metadata": {
    "collapsed": true
   },
   "outputs": [],
   "source": [
    "#Droping the first row since it has Nan values\n",
    "Final_data = Final_data.drop(Final_data.index[0])"
   ]
  },
  {
   "cell_type": "code",
   "execution_count": null,
   "metadata": {
    "collapsed": true
   },
   "outputs": [],
   "source": [
    "#Normalizing the data\n",
    "Final_data = (Final_data - np.min(Final_data))/(np.max(Final_data)-np.min(Final_data))"
   ]
  },
  {
   "cell_type": "code",
   "execution_count": null,
   "metadata": {
    "collapsed": true
   },
   "outputs": [],
   "source": [
    "#Seperating the data into training and test dataset. 80% will be training and 20% will be test\n",
    "traininglegth = int(Final_data.shape[0] * 0.8)\n",
    "training_data = Final_data.iloc[:traininglegth,:]\n",
    "test_data = Final_data.iloc[traininglegth: , :]"
   ]
  },
  {
   "cell_type": "code",
   "execution_count": null,
   "metadata": {
    "collapsed": true
   },
   "outputs": [],
   "source": [
    "training_y = training_data[['SNPpositive','SNPnegative']]\n",
    "training_x = training_data.drop(['SNPpositive','SNPnegative'],axis=1)"
   ]
  },
  {
   "cell_type": "code",
   "execution_count": null,
   "metadata": {
    "collapsed": true
   },
   "outputs": [],
   "source": [
    "test_y = test_data[['SNPpositive','SNPnegative']]\n",
    "test_x = test_data.drop(['SNPpositive','SNPnegative'],axis=1)"
   ]
  },
  {
   "cell_type": "code",
   "execution_count": null,
   "metadata": {
    "collapsed": true
   },
   "outputs": [],
   "source": [
    "num_predictor = training_x.shape[1]\n",
    "num_class = training_y.shape[1]"
   ]
  },
  {
   "cell_type": "code",
   "execution_count": null,
   "metadata": {
    "collapsed": true
   },
   "outputs": [],
   "source": [
    "graph = tf.Graph()\n",
    "with graph.as_default():\n",
    "    with tf.name_scope(\"Input\"):\n",
    "        x = tf.placeholder(shape=[None,num_predictor], dtype=tf.float32, name='x')\n",
    "        y = tf.placeholder(shape=[None,num_class], dtype=tf.float32, name='y')\n",
    "    \n",
    "    with tf.name_scope(\"Simple_Model\"):\n",
    "        with tf.name_scope(\"Variables\"):\n",
    "            w = tf.Variable(tf.truncated_normal([num_predictor, num_class], stddev=0.1), name=\"W\")\n",
    "            b = tf.Variable(tf.truncated_normal([num_class], stddev=0.1), name=\"b\")\n",
    "\n",
    "        model = tf.nn.softmax(tf.matmul(x, w) + b)\n",
    "        \n",
    "        with tf.name_scope(\"Result\"):\n",
    "            cost = tf.reduce_mean(tf.nn.softmax_cross_entropy_with_logits(logits=model, labels=y), name=\"cost\")\n",
    "            correct_prediction = tf.equal(tf.argmax(model,1),tf.argmax(y,1))\n",
    "            accuracy = tf.reduce_mean(tf.cast(correct_prediction, tf.float32))\n",
    "        \n",
    "        with tf.name_scope(\"Train\"):\n",
    "            training = tf.train.AdamOptimizer(0.1).minimize(cost)\n",
    "    \n",
    "    with tf.name_scope(\"Two_Layer\"):\n",
    "        node_1 = 5\n",
    "        node_2 = 3\n",
    "        with tf.name_scope(\"Variables2\"):\n",
    "            w1 = tf.Variable(tf.truncated_normal([num_predictor, node_1], stddev=0.1), name=\"W1\")\n",
    "            b1 = tf.Variable(tf.truncated_normal([node_1], stddev=0.1), name=\"b1\")\n",
    "            w2 = tf.Variable(tf.truncated_normal([node_1, node_2], stddev=0.1), name =\"W2\")\n",
    "            b2 = tf.Variable(tf.truncated_normal([node_2], stddev=0.1), name=\"b2\")\n",
    "            w3 = tf.Variable(tf.truncated_normal([node_2, num_class], stddev=0.1), name=\"W3\")\n",
    "            b3 = tf.Variable(tf.truncated_normal([num_class], stddev=0.1), name=\"b3\")\n",
    "        \n",
    "        with tf.name_scope(\"Layer1\"):\n",
    "            hidden_layer_1 = tf.nn.relu(tf.matmul(x, w1) + b1)\n",
    "\n",
    "        with tf.name_scope(\"Layer2\"):\n",
    "            hidden_layer_2 = tf.nn.relu(tf.matmul(hidden_layer_1, w2) + b2)\n",
    "        \n",
    "        model2 = tf.nn.softmax(tf.matmul(hidden_layer_2, w3) + b3)\n",
    "        \n",
    "        with tf.name_scope(\"Result2\"):\n",
    "            cost2 = tf.reduce_mean(tf.nn.softmax_cross_entropy_with_logits(logits=model2, labels=y), name=\"cost2\")\n",
    "            correct_prediction2 = tf.equal(tf.argmax(model2,1),tf.argmax(y,1))\n",
    "            accuracy2 = tf.reduce_mean(tf.cast(correct_prediction2, tf.float32))  \n",
    "            \n",
    "        with tf.name_scope(\"Train2\"):\n",
    "            training2 = tf.train.AdamOptimizer(0.005).minimize(cost2)\n",
    "            \n",
    "    with tf.name_scope(\"Summary\"):\n",
    "        tf.summary.scalar(\"Accuracy_1\", accuracy)\n",
    "        tf.summary.scalar(\"Accuracy_2\", accuracy2)\n",
    "        \n",
    "    with tf.name_scope(\"global_ops\"):\n",
    "        init = tf.global_variables_initializer()\n",
    "        # Collect all summary Ops in graph\n",
    "        summ = tf.summary.merge_all()"
   ]
  },
  {
   "cell_type": "code",
   "execution_count": null,
   "metadata": {
    "collapsed": true
   },
   "outputs": [],
   "source": [
    "sess = tf.Session(graph=graph)\n",
    "writer = tf.summary.FileWriter('./FinalGraph', graph=graph)\n",
    "sess.run(init)"
   ]
  },
  {
   "cell_type": "code",
   "execution_count": null,
   "metadata": {
    "collapsed": true
   },
   "outputs": [],
   "source": [
    "starting_time = datetime.now()\n",
    "for i in range(1, 100000):\n",
    "    _,__, _accuracy, _accuracy2, _cost, _cost2, _summ = sess.run([training, training2, accuracy, accuracy2, cost, cost2, summ],\n",
    "                                                                feed_dict={x: training_x.values,\n",
    "                                                                          y: training_y.values.reshape(len(training_y.values),2)})\n",
    "    if i%100 == 0:\n",
    "        writer.add_summary(_summ, i)\n",
    "    if i%1000 == 0:\n",
    "        print(_accuracy)\n",
    "        print(_accuracy2)\n",
    "        print(\"Processing... %sth loop\" %i)\n",
    "\n",
    "Processing_time = datetime.now() - starting_time"
   ]
  },
  {
   "cell_type": "code",
   "execution_count": null,
   "metadata": {
    "collapsed": true
   },
   "outputs": [],
   "source": [
    "print(\"Final Accuracy of Simple model %s\" %_accuracy)"
   ]
  },
  {
   "cell_type": "code",
   "execution_count": null,
   "metadata": {
    "collapsed": true
   },
   "outputs": [],
   "source": [
    "print(\"Final Accuracy of Two Layer model %s\" %_accuracy2)"
   ]
  },
  {
   "cell_type": "code",
   "execution_count": null,
   "metadata": {
    "collapsed": true
   },
   "outputs": [],
   "source": [
    "_Predict1,_Predict2 = sess.run([accuracy,accuracy2], feed_dict={x: test_x.values,\n",
    "                                                                y: test_y.values.reshape(len(test_y.values),2)})"
   ]
  },
  {
   "cell_type": "code",
   "execution_count": null,
   "metadata": {
    "collapsed": true
   },
   "outputs": [],
   "source": [
    "print(\"Using Simple Model, test accuracy is %s\" %_Predict1)"
   ]
  },
  {
   "cell_type": "code",
   "execution_count": null,
   "metadata": {
    "collapsed": true
   },
   "outputs": [],
   "source": [
    "print(\"Usint Two Hidden Layers, test accuracy is %s\" %_Predict2)"
   ]
  },
  {
   "cell_type": "code",
   "execution_count": null,
   "metadata": {
    "collapsed": true
   },
   "outputs": [],
   "source": [
    "print(\"Total time %s\" %Processing_time)"
   ]
  },
  {
   "cell_type": "code",
   "execution_count": null,
   "metadata": {
    "collapsed": true
   },
   "outputs": [],
   "source": [
    "Final_data.to_csv(\"./finaldata.csv\")"
   ]
  },
  {
   "cell_type": "code",
   "execution_count": null,
   "metadata": {
    "collapsed": true
   },
   "outputs": [],
   "source": []
  }
 ],
 "metadata": {
  "anaconda-cloud": {},
  "kernelspec": {
   "display_name": "Python 3",
   "language": "python",
   "name": "python3"
  },
  "language_info": {
   "codemirror_mode": {
    "name": "ipython",
    "version": 3
   },
   "file_extension": ".py",
   "mimetype": "text/x-python",
   "name": "python",
   "nbconvert_exporter": "python",
   "pygments_lexer": "ipython3",
   "version": "3.5.6"
  }
 },
 "nbformat": 4,
 "nbformat_minor": 1
}
