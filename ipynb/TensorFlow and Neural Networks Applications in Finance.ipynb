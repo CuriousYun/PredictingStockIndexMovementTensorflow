{
 "cells": [
  {
   "cell_type": "markdown",
   "metadata": {},
   "source": [
    "# Predicting S&P 500 Price Movement \n",
    "\n",
    "### Based on major global stock market indices using Neural Network"
   ]
  },
  {
   "cell_type": "markdown",
   "metadata": {},
   "source": [
    "### Description\n",
    "- Finance industry has numerous information and its complexity is suitable for using neural network. \n",
    "- Instead of predicting a stock price, we are going to predict return’s direction, positive or negative. It will be treated as two classes. "
   ]
  },
  {
   "cell_type": "markdown",
   "metadata": {
    "collapsed": true
   },
   "source": [
    "### Dataset\n",
    "- 6 major stock market indices from different time zone\n",
    "![](../img/Picture1.png)\n",
    "\n",
    "- US S&P500\n",
    "- Austrialia S&P ASX300\n",
    "- Japan Nikkei 225\n",
    "- Hongkong HangSeng \n",
    "- Frankfurt DAX\n",
    "- London FTSE 100"
   ]
  },
  {
   "cell_type": "markdown",
   "metadata": {
    "collapsed": true
   },
   "source": [
    "### Motives\n",
    "If financial market is perfect, all relevant information should be available to everyone immediately and price of any product or service should reflect it immediately. In other words, price is the product of all relevant information.\n",
    "In reality, there are a number of limitations that prevent the market to be perfect. However, due to advanced technology and relatively low cost of transactions, stock market resembles the ideal perfect market. \n",
    "Each major stock market indices should reflect all relevant information available. Can we use stock market indices to predict another stock market index? "
   ]
  },
  {
   "cell_type": "markdown",
   "metadata": {
    "collapsed": true
   },
   "source": [
    "### Limitations\n",
    "Given such a high degree globalization in business, country specific biases of stock market indices should be neutralized in a way. \n",
    "Stock market price fluctuate continuously during the market is open. I will focus on closing price of each indices. \n",
    "Predicting specific absolute number of price would be very challenging. But predicting positive or negative movement would be simpler. "
   ]
  },
  {
   "cell_type": "markdown",
   "metadata": {},
   "source": [
    "### Data Collection\n",
    "Source : finance.yahoo.com\n",
    "\n",
    "Duration : 2014/3/26 - 2019/3/26\n",
    "\n",
    "- S&P500  : https://finance.yahoo.com/quote/%5EGSPC/history/\n",
    "- S&P AXS300 : https://au.finance.yahoo.com/quote/%5EAXJO/history?period1=1336190400&period2=1493956800&interval=1d&filter=history&frequency=1d\n",
    "- HangSeng Index : https://finance.yahoo.com/quote/%5EHSI/history?period1=1336190400&period2=1493956800&interval=1d&filter=history&frequency=1d\n",
    "- Nikkei 225 : https://finance.yahoo.com/quote/%5EN225/history?period1=1462482232&period2=1494018232&interval=1d&filter=history&frequency=1d\n",
    "- DAX : https://finance.yahoo.com/quote/%5EGDAXI/history?period1=1336190400&period2=1493956800&interval=1d&filter=history&frequency=1d\n",
    "- FTSE 100 : https://www.investing.com/indices/uk-100-historical-data\n"
   ]
  },
  {
   "cell_type": "code",
   "execution_count": null,
   "metadata": {},
   "outputs": [],
   "source": []
  },
  {
   "cell_type": "code",
   "execution_count": null,
   "metadata": {},
   "outputs": [],
   "source": []
  },
  {
   "cell_type": "markdown",
   "metadata": {},
   "source": []
  },
  {
   "cell_type": "markdown",
   "metadata": {},
   "source": [
    "## Importing Packages"
   ]
  },
  {
   "cell_type": "code",
   "execution_count": 91,
   "metadata": {},
   "outputs": [],
   "source": [
    "import pandas as pd\n",
    "import os\n",
    "import datetime\n",
    "from datetime import date, datetime, timedelta, time\n",
    "import numpy as np\n",
    "import matplotlib.pyplot as plt\n",
    "import plotly\n",
    "import plotly.plotly as py\n",
    "import plotly.graph_objs as go\n",
    "import tensorflow as tf"
   ]
  },
  {
   "cell_type": "markdown",
   "metadata": {},
   "source": [
    "## Wragling Data"
   ]
  },
  {
   "cell_type": "code",
   "execution_count": 92,
   "metadata": {},
   "outputs": [],
   "source": [
    "SNPraw=pd.read_csv(\"../data/S&P500.csv\")\n",
    "ASXraw=pd.read_csv(\"../data/ASX200.csv\")\n",
    "NIKraw=pd.read_csv(\"../data/Nikkei225.csv\")\n",
    "HSraw = pd.read_csv(\"../data/HangSeng.csv\")\n",
    "DAXraw = pd.read_csv(\"../data/DAX.csv\")\n",
    "FTSEraw=pd.read_csv(\"../data/FTSE100.csv\")"
   ]
  },
  {
   "cell_type": "markdown",
   "metadata": {},
   "source": [
    "\n",
    "Let's have a quick look at the data."
   ]
  },
  {
   "cell_type": "code",
   "execution_count": 93,
   "metadata": {},
   "outputs": [
    {
     "data": {
      "text/html": [
       "<div>\n",
       "<style scoped>\n",
       "    .dataframe tbody tr th:only-of-type {\n",
       "        vertical-align: middle;\n",
       "    }\n",
       "\n",
       "    .dataframe tbody tr th {\n",
       "        vertical-align: top;\n",
       "    }\n",
       "\n",
       "    .dataframe thead th {\n",
       "        text-align: right;\n",
       "    }\n",
       "</style>\n",
       "<table border=\"1\" class=\"dataframe\">\n",
       "  <thead>\n",
       "    <tr style=\"text-align: right;\">\n",
       "      <th></th>\n",
       "      <th>Date</th>\n",
       "      <th>Open</th>\n",
       "      <th>High</th>\n",
       "      <th>Low</th>\n",
       "      <th>Close</th>\n",
       "      <th>Adj Close</th>\n",
       "      <th>Volume</th>\n",
       "    </tr>\n",
       "  </thead>\n",
       "  <tbody>\n",
       "    <tr>\n",
       "      <th>0</th>\n",
       "      <td>2014-03-26</td>\n",
       "      <td>1867.089966</td>\n",
       "      <td>1875.920044</td>\n",
       "      <td>1852.560059</td>\n",
       "      <td>1852.560059</td>\n",
       "      <td>1852.560059</td>\n",
       "      <td>3480850000</td>\n",
       "    </tr>\n",
       "    <tr>\n",
       "      <th>1</th>\n",
       "      <td>2014-03-27</td>\n",
       "      <td>1852.109985</td>\n",
       "      <td>1855.550049</td>\n",
       "      <td>1842.109985</td>\n",
       "      <td>1849.040039</td>\n",
       "      <td>1849.040039</td>\n",
       "      <td>3733430000</td>\n",
       "    </tr>\n",
       "    <tr>\n",
       "      <th>2</th>\n",
       "      <td>2014-03-28</td>\n",
       "      <td>1850.069946</td>\n",
       "      <td>1866.630005</td>\n",
       "      <td>1850.069946</td>\n",
       "      <td>1857.619995</td>\n",
       "      <td>1857.619995</td>\n",
       "      <td>2955520000</td>\n",
       "    </tr>\n",
       "    <tr>\n",
       "      <th>3</th>\n",
       "      <td>2014-03-31</td>\n",
       "      <td>1859.160034</td>\n",
       "      <td>1875.180054</td>\n",
       "      <td>1859.160034</td>\n",
       "      <td>1872.339966</td>\n",
       "      <td>1872.339966</td>\n",
       "      <td>3274300000</td>\n",
       "    </tr>\n",
       "    <tr>\n",
       "      <th>4</th>\n",
       "      <td>2014-04-01</td>\n",
       "      <td>1873.959961</td>\n",
       "      <td>1885.839966</td>\n",
       "      <td>1873.959961</td>\n",
       "      <td>1885.520020</td>\n",
       "      <td>1885.520020</td>\n",
       "      <td>3336190000</td>\n",
       "    </tr>\n",
       "  </tbody>\n",
       "</table>\n",
       "</div>"
      ],
      "text/plain": [
       "         Date         Open         High          Low        Close  \\\n",
       "0  2014-03-26  1867.089966  1875.920044  1852.560059  1852.560059   \n",
       "1  2014-03-27  1852.109985  1855.550049  1842.109985  1849.040039   \n",
       "2  2014-03-28  1850.069946  1866.630005  1850.069946  1857.619995   \n",
       "3  2014-03-31  1859.160034  1875.180054  1859.160034  1872.339966   \n",
       "4  2014-04-01  1873.959961  1885.839966  1873.959961  1885.520020   \n",
       "\n",
       "     Adj Close      Volume  \n",
       "0  1852.560059  3480850000  \n",
       "1  1849.040039  3733430000  \n",
       "2  1857.619995  2955520000  \n",
       "3  1872.339966  3274300000  \n",
       "4  1885.520020  3336190000  "
      ]
     },
     "execution_count": 93,
     "metadata": {},
     "output_type": "execute_result"
    }
   ],
   "source": [
    "SNPraw.head()"
   ]
  },
  {
   "cell_type": "code",
   "execution_count": 94,
   "metadata": {},
   "outputs": [
    {
     "data": {
      "text/html": [
       "<div>\n",
       "<style scoped>\n",
       "    .dataframe tbody tr th:only-of-type {\n",
       "        vertical-align: middle;\n",
       "    }\n",
       "\n",
       "    .dataframe tbody tr th {\n",
       "        vertical-align: top;\n",
       "    }\n",
       "\n",
       "    .dataframe thead th {\n",
       "        text-align: right;\n",
       "    }\n",
       "</style>\n",
       "<table border=\"1\" class=\"dataframe\">\n",
       "  <thead>\n",
       "    <tr style=\"text-align: right;\">\n",
       "      <th></th>\n",
       "      <th>Date</th>\n",
       "      <th>Open</th>\n",
       "      <th>High</th>\n",
       "      <th>Low</th>\n",
       "      <th>Close</th>\n",
       "      <th>Adj Close</th>\n",
       "      <th>Volume</th>\n",
       "    </tr>\n",
       "  </thead>\n",
       "  <tbody>\n",
       "    <tr>\n",
       "      <th>0</th>\n",
       "      <td>2014-03-24</td>\n",
       "      <td>5346.899902</td>\n",
       "      <td>5346.899902</td>\n",
       "      <td>5310.700195</td>\n",
       "      <td>5336.600098</td>\n",
       "      <td>5336.600098</td>\n",
       "      <td>667344800.0</td>\n",
       "    </tr>\n",
       "    <tr>\n",
       "      <th>1</th>\n",
       "      <td>2014-03-25</td>\n",
       "      <td>5336.600098</td>\n",
       "      <td>5394.200195</td>\n",
       "      <td>5336.600098</td>\n",
       "      <td>5376.799805</td>\n",
       "      <td>5376.799805</td>\n",
       "      <td>701665500.0</td>\n",
       "    </tr>\n",
       "    <tr>\n",
       "      <th>2</th>\n",
       "      <td>2014-03-26</td>\n",
       "      <td>5376.799805</td>\n",
       "      <td>5376.799805</td>\n",
       "      <td>5322.200195</td>\n",
       "      <td>5350.100098</td>\n",
       "      <td>5350.100098</td>\n",
       "      <td>638887700.0</td>\n",
       "    </tr>\n",
       "    <tr>\n",
       "      <th>3</th>\n",
       "      <td>2014-03-27</td>\n",
       "      <td>5350.100098</td>\n",
       "      <td>5372.500000</td>\n",
       "      <td>5342.700195</td>\n",
       "      <td>5366.899902</td>\n",
       "      <td>5366.899902</td>\n",
       "      <td>709931000.0</td>\n",
       "    </tr>\n",
       "    <tr>\n",
       "      <th>4</th>\n",
       "      <td>2014-03-30</td>\n",
       "      <td>5366.899902</td>\n",
       "      <td>5416.000000</td>\n",
       "      <td>5366.899902</td>\n",
       "      <td>5394.799805</td>\n",
       "      <td>5394.799805</td>\n",
       "      <td>611515200.0</td>\n",
       "    </tr>\n",
       "  </tbody>\n",
       "</table>\n",
       "</div>"
      ],
      "text/plain": [
       "         Date         Open         High          Low        Close  \\\n",
       "0  2014-03-24  5346.899902  5346.899902  5310.700195  5336.600098   \n",
       "1  2014-03-25  5336.600098  5394.200195  5336.600098  5376.799805   \n",
       "2  2014-03-26  5376.799805  5376.799805  5322.200195  5350.100098   \n",
       "3  2014-03-27  5350.100098  5372.500000  5342.700195  5366.899902   \n",
       "4  2014-03-30  5366.899902  5416.000000  5366.899902  5394.799805   \n",
       "\n",
       "     Adj Close       Volume  \n",
       "0  5336.600098  667344800.0  \n",
       "1  5376.799805  701665500.0  \n",
       "2  5350.100098  638887700.0  \n",
       "3  5366.899902  709931000.0  \n",
       "4  5394.799805  611515200.0  "
      ]
     },
     "execution_count": 94,
     "metadata": {},
     "output_type": "execute_result"
    }
   ],
   "source": [
    "ASXraw.head()"
   ]
  },
  {
   "cell_type": "code",
   "execution_count": 95,
   "metadata": {},
   "outputs": [
    {
     "data": {
      "text/html": [
       "<div>\n",
       "<style scoped>\n",
       "    .dataframe tbody tr th:only-of-type {\n",
       "        vertical-align: middle;\n",
       "    }\n",
       "\n",
       "    .dataframe tbody tr th {\n",
       "        vertical-align: top;\n",
       "    }\n",
       "\n",
       "    .dataframe thead th {\n",
       "        text-align: right;\n",
       "    }\n",
       "</style>\n",
       "<table border=\"1\" class=\"dataframe\">\n",
       "  <thead>\n",
       "    <tr style=\"text-align: right;\">\n",
       "      <th></th>\n",
       "      <th>Date</th>\n",
       "      <th>Open</th>\n",
       "      <th>High</th>\n",
       "      <th>Low</th>\n",
       "      <th>Close</th>\n",
       "      <th>Adj Close</th>\n",
       "      <th>Volume</th>\n",
       "    </tr>\n",
       "  </thead>\n",
       "  <tbody>\n",
       "    <tr>\n",
       "      <th>0</th>\n",
       "      <td>2014-03-26</td>\n",
       "      <td>14521.000000</td>\n",
       "      <td>14569.900391</td>\n",
       "      <td>14401.419922</td>\n",
       "      <td>14477.160156</td>\n",
       "      <td>14477.160156</td>\n",
       "      <td>166600.0</td>\n",
       "    </tr>\n",
       "    <tr>\n",
       "      <th>1</th>\n",
       "      <td>2014-03-27</td>\n",
       "      <td>14305.669922</td>\n",
       "      <td>14659.849609</td>\n",
       "      <td>14227.809570</td>\n",
       "      <td>14622.889648</td>\n",
       "      <td>14622.889648</td>\n",
       "      <td>179000.0</td>\n",
       "    </tr>\n",
       "    <tr>\n",
       "      <th>2</th>\n",
       "      <td>2014-03-28</td>\n",
       "      <td>14576.250000</td>\n",
       "      <td>14713.450195</td>\n",
       "      <td>14520.570313</td>\n",
       "      <td>14696.030273</td>\n",
       "      <td>14696.030273</td>\n",
       "      <td>149300.0</td>\n",
       "    </tr>\n",
       "    <tr>\n",
       "      <th>3</th>\n",
       "      <td>2014-03-31</td>\n",
       "      <td>14839.540039</td>\n",
       "      <td>14843.669922</td>\n",
       "      <td>14718.009766</td>\n",
       "      <td>14827.830078</td>\n",
       "      <td>14827.830078</td>\n",
       "      <td>141600.0</td>\n",
       "    </tr>\n",
       "    <tr>\n",
       "      <th>4</th>\n",
       "      <td>2014-04-01</td>\n",
       "      <td>14870.509766</td>\n",
       "      <td>14870.509766</td>\n",
       "      <td>14751.290039</td>\n",
       "      <td>14791.990234</td>\n",
       "      <td>14791.990234</td>\n",
       "      <td>139200.0</td>\n",
       "    </tr>\n",
       "  </tbody>\n",
       "</table>\n",
       "</div>"
      ],
      "text/plain": [
       "         Date          Open          High           Low         Close  \\\n",
       "0  2014-03-26  14521.000000  14569.900391  14401.419922  14477.160156   \n",
       "1  2014-03-27  14305.669922  14659.849609  14227.809570  14622.889648   \n",
       "2  2014-03-28  14576.250000  14713.450195  14520.570313  14696.030273   \n",
       "3  2014-03-31  14839.540039  14843.669922  14718.009766  14827.830078   \n",
       "4  2014-04-01  14870.509766  14870.509766  14751.290039  14791.990234   \n",
       "\n",
       "      Adj Close    Volume  \n",
       "0  14477.160156  166600.0  \n",
       "1  14622.889648  179000.0  \n",
       "2  14696.030273  149300.0  \n",
       "3  14827.830078  141600.0  \n",
       "4  14791.990234  139200.0  "
      ]
     },
     "execution_count": 95,
     "metadata": {},
     "output_type": "execute_result"
    }
   ],
   "source": [
    "NIKraw.head()"
   ]
  },
  {
   "cell_type": "code",
   "execution_count": 96,
   "metadata": {},
   "outputs": [
    {
     "data": {
      "text/html": [
       "<div>\n",
       "<style scoped>\n",
       "    .dataframe tbody tr th:only-of-type {\n",
       "        vertical-align: middle;\n",
       "    }\n",
       "\n",
       "    .dataframe tbody tr th {\n",
       "        vertical-align: top;\n",
       "    }\n",
       "\n",
       "    .dataframe thead th {\n",
       "        text-align: right;\n",
       "    }\n",
       "</style>\n",
       "<table border=\"1\" class=\"dataframe\">\n",
       "  <thead>\n",
       "    <tr style=\"text-align: right;\">\n",
       "      <th></th>\n",
       "      <th>Date</th>\n",
       "      <th>Open</th>\n",
       "      <th>High</th>\n",
       "      <th>Low</th>\n",
       "      <th>Close</th>\n",
       "      <th>Adj Close</th>\n",
       "      <th>Volume</th>\n",
       "    </tr>\n",
       "  </thead>\n",
       "  <tbody>\n",
       "    <tr>\n",
       "      <th>0</th>\n",
       "      <td>2014-03-26</td>\n",
       "      <td>21889.759766</td>\n",
       "      <td>22006.640625</td>\n",
       "      <td>21865.330078</td>\n",
       "      <td>21887.750000</td>\n",
       "      <td>21887.750000</td>\n",
       "      <td>1.917734e+09</td>\n",
       "    </tr>\n",
       "    <tr>\n",
       "      <th>1</th>\n",
       "      <td>2014-03-27</td>\n",
       "      <td>21897.070313</td>\n",
       "      <td>21926.830078</td>\n",
       "      <td>21715.630859</td>\n",
       "      <td>21834.449219</td>\n",
       "      <td>21834.449219</td>\n",
       "      <td>2.222326e+09</td>\n",
       "    </tr>\n",
       "    <tr>\n",
       "      <th>2</th>\n",
       "      <td>2014-03-28</td>\n",
       "      <td>21930.400391</td>\n",
       "      <td>22143.240234</td>\n",
       "      <td>21930.400391</td>\n",
       "      <td>22065.529297</td>\n",
       "      <td>22065.529297</td>\n",
       "      <td>2.147316e+09</td>\n",
       "    </tr>\n",
       "    <tr>\n",
       "      <th>3</th>\n",
       "      <td>2014-03-31</td>\n",
       "      <td>22244.160156</td>\n",
       "      <td>22244.160156</td>\n",
       "      <td>22043.509766</td>\n",
       "      <td>22151.060547</td>\n",
       "      <td>22151.060547</td>\n",
       "      <td>1.919012e+09</td>\n",
       "    </tr>\n",
       "    <tr>\n",
       "      <th>4</th>\n",
       "      <td>2014-04-01</td>\n",
       "      <td>22292.320313</td>\n",
       "      <td>22458.939453</td>\n",
       "      <td>22250.660156</td>\n",
       "      <td>22448.539063</td>\n",
       "      <td>22448.539063</td>\n",
       "      <td>1.598523e+09</td>\n",
       "    </tr>\n",
       "  </tbody>\n",
       "</table>\n",
       "</div>"
      ],
      "text/plain": [
       "         Date          Open          High           Low         Close  \\\n",
       "0  2014-03-26  21889.759766  22006.640625  21865.330078  21887.750000   \n",
       "1  2014-03-27  21897.070313  21926.830078  21715.630859  21834.449219   \n",
       "2  2014-03-28  21930.400391  22143.240234  21930.400391  22065.529297   \n",
       "3  2014-03-31  22244.160156  22244.160156  22043.509766  22151.060547   \n",
       "4  2014-04-01  22292.320313  22458.939453  22250.660156  22448.539063   \n",
       "\n",
       "      Adj Close        Volume  \n",
       "0  21887.750000  1.917734e+09  \n",
       "1  21834.449219  2.222326e+09  \n",
       "2  22065.529297  2.147316e+09  \n",
       "3  22151.060547  1.919012e+09  \n",
       "4  22448.539063  1.598523e+09  "
      ]
     },
     "execution_count": 96,
     "metadata": {},
     "output_type": "execute_result"
    }
   ],
   "source": [
    "HSraw.head()"
   ]
  },
  {
   "cell_type": "code",
   "execution_count": 97,
   "metadata": {
    "scrolled": true
   },
   "outputs": [
    {
     "data": {
      "text/html": [
       "<div>\n",
       "<style scoped>\n",
       "    .dataframe tbody tr th:only-of-type {\n",
       "        vertical-align: middle;\n",
       "    }\n",
       "\n",
       "    .dataframe tbody tr th {\n",
       "        vertical-align: top;\n",
       "    }\n",
       "\n",
       "    .dataframe thead th {\n",
       "        text-align: right;\n",
       "    }\n",
       "</style>\n",
       "<table border=\"1\" class=\"dataframe\">\n",
       "  <thead>\n",
       "    <tr style=\"text-align: right;\">\n",
       "      <th></th>\n",
       "      <th>Date</th>\n",
       "      <th>Open</th>\n",
       "      <th>High</th>\n",
       "      <th>Low</th>\n",
       "      <th>Close</th>\n",
       "      <th>Adj Close</th>\n",
       "      <th>Volume</th>\n",
       "    </tr>\n",
       "  </thead>\n",
       "  <tbody>\n",
       "    <tr>\n",
       "      <th>0</th>\n",
       "      <td>2014-03-26</td>\n",
       "      <td>9367.530273</td>\n",
       "      <td>9488.740234</td>\n",
       "      <td>9360.299805</td>\n",
       "      <td>9448.580078</td>\n",
       "      <td>9448.580078</td>\n",
       "      <td>75841600.0</td>\n",
       "    </tr>\n",
       "    <tr>\n",
       "      <th>1</th>\n",
       "      <td>2014-03-27</td>\n",
       "      <td>9428.910156</td>\n",
       "      <td>9469.389648</td>\n",
       "      <td>9397.980469</td>\n",
       "      <td>9451.209961</td>\n",
       "      <td>9451.209961</td>\n",
       "      <td>66826100.0</td>\n",
       "    </tr>\n",
       "    <tr>\n",
       "      <th>2</th>\n",
       "      <td>2014-03-28</td>\n",
       "      <td>9487.120117</td>\n",
       "      <td>9587.190430</td>\n",
       "      <td>9484.900391</td>\n",
       "      <td>9587.190430</td>\n",
       "      <td>9587.190430</td>\n",
       "      <td>70498400.0</td>\n",
       "    </tr>\n",
       "    <tr>\n",
       "      <th>3</th>\n",
       "      <td>2014-03-31</td>\n",
       "      <td>9621.919922</td>\n",
       "      <td>9634.820313</td>\n",
       "      <td>9543.089844</td>\n",
       "      <td>9555.910156</td>\n",
       "      <td>9555.910156</td>\n",
       "      <td>68772900.0</td>\n",
       "    </tr>\n",
       "    <tr>\n",
       "      <th>4</th>\n",
       "      <td>2014-04-01</td>\n",
       "      <td>9601.959961</td>\n",
       "      <td>9631.059570</td>\n",
       "      <td>9574.629883</td>\n",
       "      <td>9603.709961</td>\n",
       "      <td>9603.709961</td>\n",
       "      <td>72835100.0</td>\n",
       "    </tr>\n",
       "  </tbody>\n",
       "</table>\n",
       "</div>"
      ],
      "text/plain": [
       "         Date         Open         High          Low        Close  \\\n",
       "0  2014-03-26  9367.530273  9488.740234  9360.299805  9448.580078   \n",
       "1  2014-03-27  9428.910156  9469.389648  9397.980469  9451.209961   \n",
       "2  2014-03-28  9487.120117  9587.190430  9484.900391  9587.190430   \n",
       "3  2014-03-31  9621.919922  9634.820313  9543.089844  9555.910156   \n",
       "4  2014-04-01  9601.959961  9631.059570  9574.629883  9603.709961   \n",
       "\n",
       "     Adj Close      Volume  \n",
       "0  9448.580078  75841600.0  \n",
       "1  9451.209961  66826100.0  \n",
       "2  9587.190430  70498400.0  \n",
       "3  9555.910156  68772900.0  \n",
       "4  9603.709961  72835100.0  "
      ]
     },
     "execution_count": 97,
     "metadata": {},
     "output_type": "execute_result"
    }
   ],
   "source": [
    "DAXraw.head()"
   ]
  },
  {
   "cell_type": "code",
   "execution_count": 98,
   "metadata": {
    "scrolled": false
   },
   "outputs": [
    {
     "data": {
      "text/html": [
       "<div>\n",
       "<style scoped>\n",
       "    .dataframe tbody tr th:only-of-type {\n",
       "        vertical-align: middle;\n",
       "    }\n",
       "\n",
       "    .dataframe tbody tr th {\n",
       "        vertical-align: top;\n",
       "    }\n",
       "\n",
       "    .dataframe thead th {\n",
       "        text-align: right;\n",
       "    }\n",
       "</style>\n",
       "<table border=\"1\" class=\"dataframe\">\n",
       "  <thead>\n",
       "    <tr style=\"text-align: right;\">\n",
       "      <th></th>\n",
       "      <th>Date</th>\n",
       "      <th>Price</th>\n",
       "      <th>Open</th>\n",
       "      <th>High</th>\n",
       "      <th>Low</th>\n",
       "      <th>Vol.</th>\n",
       "      <th>Change %</th>\n",
       "    </tr>\n",
       "  </thead>\n",
       "  <tbody>\n",
       "    <tr>\n",
       "      <th>0</th>\n",
       "      <td>Mar 26, 2019</td>\n",
       "      <td>7,196.29</td>\n",
       "      <td>7,177.58</td>\n",
       "      <td>7,221.02</td>\n",
       "      <td>7,169.37</td>\n",
       "      <td>-</td>\n",
       "      <td>0.26%</td>\n",
       "    </tr>\n",
       "    <tr>\n",
       "      <th>1</th>\n",
       "      <td>Mar 25, 2019</td>\n",
       "      <td>7,177.58</td>\n",
       "      <td>7,207.59</td>\n",
       "      <td>7,208.09</td>\n",
       "      <td>7,146.83</td>\n",
       "      <td>604.28M</td>\n",
       "      <td>-0.42%</td>\n",
       "    </tr>\n",
       "    <tr>\n",
       "      <th>2</th>\n",
       "      <td>Mar 22, 2019</td>\n",
       "      <td>7,207.59</td>\n",
       "      <td>7,355.31</td>\n",
       "      <td>7,356.37</td>\n",
       "      <td>7,192.76</td>\n",
       "      <td>716.21M</td>\n",
       "      <td>-2.01%</td>\n",
       "    </tr>\n",
       "    <tr>\n",
       "      <th>3</th>\n",
       "      <td>Mar 21, 2019</td>\n",
       "      <td>7,355.31</td>\n",
       "      <td>7,291.01</td>\n",
       "      <td>7,370.61</td>\n",
       "      <td>7,290.62</td>\n",
       "      <td>731.35M</td>\n",
       "      <td>0.88%</td>\n",
       "    </tr>\n",
       "    <tr>\n",
       "      <th>4</th>\n",
       "      <td>Mar 20, 2019</td>\n",
       "      <td>7,291.01</td>\n",
       "      <td>7,324.00</td>\n",
       "      <td>7,341.57</td>\n",
       "      <td>7,291.01</td>\n",
       "      <td>771.73M</td>\n",
       "      <td>-0.45%</td>\n",
       "    </tr>\n",
       "  </tbody>\n",
       "</table>\n",
       "</div>"
      ],
      "text/plain": [
       "           Date     Price      Open      High       Low     Vol. Change %\n",
       "0  Mar 26, 2019  7,196.29  7,177.58  7,221.02  7,169.37        -    0.26%\n",
       "1  Mar 25, 2019  7,177.58  7,207.59  7,208.09  7,146.83  604.28M   -0.42%\n",
       "2  Mar 22, 2019  7,207.59  7,355.31  7,356.37  7,192.76  716.21M   -2.01%\n",
       "3  Mar 21, 2019  7,355.31  7,291.01  7,370.61  7,290.62  731.35M    0.88%\n",
       "4  Mar 20, 2019  7,291.01  7,324.00  7,341.57  7,291.01  771.73M   -0.45%"
      ]
     },
     "execution_count": 98,
     "metadata": {},
     "output_type": "execute_result"
    }
   ],
   "source": [
    "FTSEraw.head()"
   ]
  },
  {
   "cell_type": "markdown",
   "metadata": {},
   "source": [
    "Quick glance at the data already suggest a couple of data cleaning challenges"
   ]
  },
  {
   "cell_type": "markdown",
   "metadata": {},
   "source": [
    "## 1. Data type of Date\n",
    "### -string to datetime"
   ]
  },
  {
   "cell_type": "code",
   "execution_count": 99,
   "metadata": {},
   "outputs": [],
   "source": [
    "Allraw=[SNPraw,ASXraw,NIKraw,HSraw,DAXraw,FTSEraw]"
   ]
  },
  {
   "cell_type": "code",
   "execution_count": 100,
   "metadata": {},
   "outputs": [
    {
     "name": "stdout",
     "output_type": "stream",
     "text": [
      "<class 'str'> \n",
      "\n",
      "<class 'str'> \n",
      "\n",
      "<class 'str'> \n",
      "\n",
      "<class 'str'> \n",
      "\n",
      "<class 'str'> \n",
      "\n",
      "<class 'str'> \n",
      "\n"
     ]
    }
   ],
   "source": [
    "for i in Allraw:\n",
    "    print(type(i.iloc[0,0]),'\\n')"
   ]
  },
  {
   "cell_type": "markdown",
   "metadata": {},
   "source": [
    "All data under Date is not a true datetime type but simple strings. If I leave it as they are, it is impossible to merge each dataframe based on dates. Using datetime.strptime I will convert the Date data."
   ]
  },
  {
   "cell_type": "code",
   "execution_count": 101,
   "metadata": {
    "scrolled": true
   },
   "outputs": [],
   "source": [
    "SNPraw.iloc[:,0]=[datetime.strptime(i,'%Y-%m-%d').date() for i in SNPraw.iloc[:,0]]\n",
    "ASXraw.iloc[:,0]=[datetime.strptime(i,'%Y-%m-%d').date() for i in ASXraw.iloc[:,0]]\n",
    "NIKraw.iloc[:,0]=[datetime.strptime(i,'%Y-%m-%d').date() for i in NIKraw.iloc[:,0]]\n",
    "HSraw.iloc[:,0]=[datetime.strptime(i,'%Y-%m-%d').date() for i in HSraw.iloc[:,0]]\n",
    "DAXraw.iloc[:,0]=[datetime.strptime(i,'%Y-%m-%d').date() for i in DAXraw.iloc[:,0]]\n",
    "FTSEraw.iloc[:,0] = [datetime.strptime(i,'%b %d, %Y').date() for i in FTSEraw.iloc[:,0]]"
   ]
  },
  {
   "cell_type": "markdown",
   "metadata": {},
   "source": [
    "Let's look at the data again."
   ]
  },
  {
   "cell_type": "code",
   "execution_count": 102,
   "metadata": {},
   "outputs": [
    {
     "name": "stdout",
     "output_type": "stream",
     "text": [
      "<class 'datetime.date'> \n",
      "\n",
      "<class 'datetime.date'> \n",
      "\n",
      "<class 'datetime.date'> \n",
      "\n",
      "<class 'datetime.date'> \n",
      "\n",
      "<class 'datetime.date'> \n",
      "\n",
      "<class 'datetime.date'> \n",
      "\n"
     ]
    }
   ],
   "source": [
    "for i in Allraw:\n",
    "    print(type(i.iloc[0,0]),'\\n')"
   ]
  },
  {
   "cell_type": "markdown",
   "metadata": {},
   "source": [
    "## 2. Price data type\n",
    "### - string to float"
   ]
  },
  {
   "cell_type": "markdown",
   "metadata": {},
   "source": [
    "The price data is not exactly integer or float that can be used. I will convert them from string to float.\n",
    "\n",
    "Before diving into 6 different dataframes, I want to focus on the FTSEraw dataframe."
   ]
  },
  {
   "cell_type": "code",
   "execution_count": 103,
   "metadata": {},
   "outputs": [
    {
     "data": {
      "text/html": [
       "<div>\n",
       "<style scoped>\n",
       "    .dataframe tbody tr th:only-of-type {\n",
       "        vertical-align: middle;\n",
       "    }\n",
       "\n",
       "    .dataframe tbody tr th {\n",
       "        vertical-align: top;\n",
       "    }\n",
       "\n",
       "    .dataframe thead th {\n",
       "        text-align: right;\n",
       "    }\n",
       "</style>\n",
       "<table border=\"1\" class=\"dataframe\">\n",
       "  <thead>\n",
       "    <tr style=\"text-align: right;\">\n",
       "      <th></th>\n",
       "      <th>Date</th>\n",
       "      <th>Price</th>\n",
       "      <th>Open</th>\n",
       "      <th>High</th>\n",
       "      <th>Low</th>\n",
       "      <th>Vol.</th>\n",
       "      <th>Change %</th>\n",
       "    </tr>\n",
       "  </thead>\n",
       "  <tbody>\n",
       "    <tr>\n",
       "      <th>0</th>\n",
       "      <td>2019-03-26</td>\n",
       "      <td>7,196.29</td>\n",
       "      <td>7,177.58</td>\n",
       "      <td>7,221.02</td>\n",
       "      <td>7,169.37</td>\n",
       "      <td>-</td>\n",
       "      <td>0.26%</td>\n",
       "    </tr>\n",
       "    <tr>\n",
       "      <th>1</th>\n",
       "      <td>2019-03-25</td>\n",
       "      <td>7,177.58</td>\n",
       "      <td>7,207.59</td>\n",
       "      <td>7,208.09</td>\n",
       "      <td>7,146.83</td>\n",
       "      <td>604.28M</td>\n",
       "      <td>-0.42%</td>\n",
       "    </tr>\n",
       "    <tr>\n",
       "      <th>2</th>\n",
       "      <td>2019-03-22</td>\n",
       "      <td>7,207.59</td>\n",
       "      <td>7,355.31</td>\n",
       "      <td>7,356.37</td>\n",
       "      <td>7,192.76</td>\n",
       "      <td>716.21M</td>\n",
       "      <td>-2.01%</td>\n",
       "    </tr>\n",
       "    <tr>\n",
       "      <th>3</th>\n",
       "      <td>2019-03-21</td>\n",
       "      <td>7,355.31</td>\n",
       "      <td>7,291.01</td>\n",
       "      <td>7,370.61</td>\n",
       "      <td>7,290.62</td>\n",
       "      <td>731.35M</td>\n",
       "      <td>0.88%</td>\n",
       "    </tr>\n",
       "    <tr>\n",
       "      <th>4</th>\n",
       "      <td>2019-03-20</td>\n",
       "      <td>7,291.01</td>\n",
       "      <td>7,324.00</td>\n",
       "      <td>7,341.57</td>\n",
       "      <td>7,291.01</td>\n",
       "      <td>771.73M</td>\n",
       "      <td>-0.45%</td>\n",
       "    </tr>\n",
       "  </tbody>\n",
       "</table>\n",
       "</div>"
      ],
      "text/plain": [
       "         Date     Price      Open      High       Low     Vol. Change %\n",
       "0  2019-03-26  7,196.29  7,177.58  7,221.02  7,169.37        -    0.26%\n",
       "1  2019-03-25  7,177.58  7,207.59  7,208.09  7,146.83  604.28M   -0.42%\n",
       "2  2019-03-22  7,207.59  7,355.31  7,356.37  7,192.76  716.21M   -2.01%\n",
       "3  2019-03-21  7,355.31  7,291.01  7,370.61  7,290.62  731.35M    0.88%\n",
       "4  2019-03-20  7,291.01  7,324.00  7,341.57  7,291.01  771.73M   -0.45%"
      ]
     },
     "execution_count": 103,
     "metadata": {},
     "output_type": "execute_result"
    }
   ],
   "source": [
    "FTSEraw.head()"
   ]
  },
  {
   "cell_type": "markdown",
   "metadata": {},
   "source": [
    "The Volume column data is string and contains M or B. I need to convert it to actual numberic value."
   ]
  },
  {
   "cell_type": "code",
   "execution_count": 104,
   "metadata": {},
   "outputs": [],
   "source": [
    "#A custom function that changes string with M or B to decimal digits\n",
    "\n",
    "from decimal import Decimal\n",
    "d = {\n",
    "        'M': 6,\n",
    "        'B': 9\n",
    "}\n",
    "def text_to_num(text):\n",
    "        if text[-1] in d:\n",
    "            num, magnitude = text[:-1], text[-1]\n",
    "            return Decimal(num) * 10 ** d[magnitude]\n",
    "        else:\n",
    "            return text"
   ]
  },
  {
   "cell_type": "markdown",
   "metadata": {},
   "source": [
    "*https://stackoverflow.com/questions/11896560/how-can-i-consistently-convert-strings-like-3-71b-and-4m-to-numbers-in-pytho/11896814*"
   ]
  },
  {
   "cell_type": "code",
   "execution_count": 105,
   "metadata": {},
   "outputs": [],
   "source": [
    "for i in range(0,FTSEraw.shape[0]):\n",
    "    if FTSEraw.iloc[i,5] !='-':\n",
    "        FTSEraw.iloc[i,5] = float(text_to_num(FTSEraw.iloc[i,5]))"
   ]
  },
  {
   "cell_type": "code",
   "execution_count": 106,
   "metadata": {},
   "outputs": [
    {
     "data": {
      "text/html": [
       "<div>\n",
       "<style scoped>\n",
       "    .dataframe tbody tr th:only-of-type {\n",
       "        vertical-align: middle;\n",
       "    }\n",
       "\n",
       "    .dataframe tbody tr th {\n",
       "        vertical-align: top;\n",
       "    }\n",
       "\n",
       "    .dataframe thead th {\n",
       "        text-align: right;\n",
       "    }\n",
       "</style>\n",
       "<table border=\"1\" class=\"dataframe\">\n",
       "  <thead>\n",
       "    <tr style=\"text-align: right;\">\n",
       "      <th></th>\n",
       "      <th>Date</th>\n",
       "      <th>Price</th>\n",
       "      <th>Open</th>\n",
       "      <th>High</th>\n",
       "      <th>Low</th>\n",
       "      <th>Vol.</th>\n",
       "      <th>Change %</th>\n",
       "    </tr>\n",
       "  </thead>\n",
       "  <tbody>\n",
       "    <tr>\n",
       "      <th>0</th>\n",
       "      <td>2019-03-26</td>\n",
       "      <td>7,196.29</td>\n",
       "      <td>7,177.58</td>\n",
       "      <td>7,221.02</td>\n",
       "      <td>7,169.37</td>\n",
       "      <td>-</td>\n",
       "      <td>0.26%</td>\n",
       "    </tr>\n",
       "    <tr>\n",
       "      <th>1</th>\n",
       "      <td>2019-03-25</td>\n",
       "      <td>7,177.58</td>\n",
       "      <td>7,207.59</td>\n",
       "      <td>7,208.09</td>\n",
       "      <td>7,146.83</td>\n",
       "      <td>6.0428e+08</td>\n",
       "      <td>-0.42%</td>\n",
       "    </tr>\n",
       "    <tr>\n",
       "      <th>2</th>\n",
       "      <td>2019-03-22</td>\n",
       "      <td>7,207.59</td>\n",
       "      <td>7,355.31</td>\n",
       "      <td>7,356.37</td>\n",
       "      <td>7,192.76</td>\n",
       "      <td>7.1621e+08</td>\n",
       "      <td>-2.01%</td>\n",
       "    </tr>\n",
       "    <tr>\n",
       "      <th>3</th>\n",
       "      <td>2019-03-21</td>\n",
       "      <td>7,355.31</td>\n",
       "      <td>7,291.01</td>\n",
       "      <td>7,370.61</td>\n",
       "      <td>7,290.62</td>\n",
       "      <td>7.3135e+08</td>\n",
       "      <td>0.88%</td>\n",
       "    </tr>\n",
       "    <tr>\n",
       "      <th>4</th>\n",
       "      <td>2019-03-20</td>\n",
       "      <td>7,291.01</td>\n",
       "      <td>7,324.00</td>\n",
       "      <td>7,341.57</td>\n",
       "      <td>7,291.01</td>\n",
       "      <td>7.7173e+08</td>\n",
       "      <td>-0.45%</td>\n",
       "    </tr>\n",
       "  </tbody>\n",
       "</table>\n",
       "</div>"
      ],
      "text/plain": [
       "         Date     Price      Open      High       Low        Vol. Change %\n",
       "0  2019-03-26  7,196.29  7,177.58  7,221.02  7,169.37           -    0.26%\n",
       "1  2019-03-25  7,177.58  7,207.59  7,208.09  7,146.83  6.0428e+08   -0.42%\n",
       "2  2019-03-22  7,207.59  7,355.31  7,356.37  7,192.76  7.1621e+08   -2.01%\n",
       "3  2019-03-21  7,355.31  7,291.01  7,370.61  7,290.62  7.3135e+08    0.88%\n",
       "4  2019-03-20  7,291.01  7,324.00  7,341.57  7,291.01  7.7173e+08   -0.45%"
      ]
     },
     "execution_count": 106,
     "metadata": {},
     "output_type": "execute_result"
    }
   ],
   "source": [
    "FTSEraw.head()"
   ]
  },
  {
   "cell_type": "markdown",
   "metadata": {},
   "source": [
    "For other price information, we see thousands seperator. Would it matter if we want to convert it to numeric data?"
   ]
  },
  {
   "cell_type": "code",
   "execution_count": 107,
   "metadata": {},
   "outputs": [],
   "source": [
    "#pd.to_numeric(FTSEraw.Price)"
   ]
  },
  {
   "cell_type": "markdown",
   "metadata": {},
   "source": [
    "Initially I replaced ',' to '' to enable to_numeric. "
   ]
  },
  {
   "cell_type": "code",
   "execution_count": 108,
   "metadata": {},
   "outputs": [
    {
     "data": {
      "text/plain": [
       "0    7196.29\n",
       "1    7177.58\n",
       "2    7207.59\n",
       "3    7355.31\n",
       "4    7291.01\n",
       "Name: Price, dtype: object"
      ]
     },
     "execution_count": 108,
     "metadata": {},
     "output_type": "execute_result"
    }
   ],
   "source": [
    "FTSEraw.iloc[:,1].str.replace(',','').head()"
   ]
  },
  {
   "cell_type": "markdown",
   "metadata": {},
   "source": [
    "However there is a smater way to do the same. "
   ]
  },
  {
   "cell_type": "markdown",
   "metadata": {},
   "source": [
    "*https://stackoverflow.com/questions/1779288/how-to-convert-a-string-to-a-number-if-it-has-commas-in-it-as-thousands-separato*"
   ]
  },
  {
   "cell_type": "code",
   "execution_count": 109,
   "metadata": {},
   "outputs": [
    {
     "data": {
      "text/plain": [
       "float"
      ]
     },
     "execution_count": 109,
     "metadata": {},
     "output_type": "execute_result"
    }
   ],
   "source": [
    "import locale\n",
    "locale.setlocale( locale.LC_ALL, 'en_US.UTF-8' ) \n",
    "type(locale.atof(\"7,297.43\"))"
   ]
  },
  {
   "cell_type": "markdown",
   "metadata": {},
   "source": [
    "So let's convert all data to float."
   ]
  },
  {
   "cell_type": "code",
   "execution_count": 110,
   "metadata": {},
   "outputs": [
    {
     "data": {
      "text/html": [
       "<div>\n",
       "<style scoped>\n",
       "    .dataframe tbody tr th:only-of-type {\n",
       "        vertical-align: middle;\n",
       "    }\n",
       "\n",
       "    .dataframe tbody tr th {\n",
       "        vertical-align: top;\n",
       "    }\n",
       "\n",
       "    .dataframe thead th {\n",
       "        text-align: right;\n",
       "    }\n",
       "</style>\n",
       "<table border=\"1\" class=\"dataframe\">\n",
       "  <thead>\n",
       "    <tr style=\"text-align: right;\">\n",
       "      <th></th>\n",
       "      <th>Date</th>\n",
       "      <th>Price</th>\n",
       "      <th>Open</th>\n",
       "      <th>High</th>\n",
       "      <th>Low</th>\n",
       "      <th>Vol.</th>\n",
       "      <th>Change %</th>\n",
       "    </tr>\n",
       "  </thead>\n",
       "  <tbody>\n",
       "    <tr>\n",
       "      <th>0</th>\n",
       "      <td>2019-03-26</td>\n",
       "      <td>7196.29</td>\n",
       "      <td>7177.58</td>\n",
       "      <td>7221.02</td>\n",
       "      <td>7169.37</td>\n",
       "      <td>-</td>\n",
       "      <td>0.26%</td>\n",
       "    </tr>\n",
       "    <tr>\n",
       "      <th>1</th>\n",
       "      <td>2019-03-25</td>\n",
       "      <td>7177.58</td>\n",
       "      <td>7207.59</td>\n",
       "      <td>7208.09</td>\n",
       "      <td>7146.83</td>\n",
       "      <td>6.0428e+08</td>\n",
       "      <td>-0.42%</td>\n",
       "    </tr>\n",
       "    <tr>\n",
       "      <th>2</th>\n",
       "      <td>2019-03-22</td>\n",
       "      <td>7207.59</td>\n",
       "      <td>7355.31</td>\n",
       "      <td>7356.37</td>\n",
       "      <td>7192.76</td>\n",
       "      <td>7.1621e+08</td>\n",
       "      <td>-2.01%</td>\n",
       "    </tr>\n",
       "    <tr>\n",
       "      <th>3</th>\n",
       "      <td>2019-03-21</td>\n",
       "      <td>7355.31</td>\n",
       "      <td>7291.01</td>\n",
       "      <td>7370.61</td>\n",
       "      <td>7290.62</td>\n",
       "      <td>7.3135e+08</td>\n",
       "      <td>0.88%</td>\n",
       "    </tr>\n",
       "    <tr>\n",
       "      <th>4</th>\n",
       "      <td>2019-03-20</td>\n",
       "      <td>7291.01</td>\n",
       "      <td>7324</td>\n",
       "      <td>7341.57</td>\n",
       "      <td>7291.01</td>\n",
       "      <td>7.7173e+08</td>\n",
       "      <td>-0.45%</td>\n",
       "    </tr>\n",
       "  </tbody>\n",
       "</table>\n",
       "</div>"
      ],
      "text/plain": [
       "         Date    Price     Open     High      Low        Vol. Change %\n",
       "0  2019-03-26  7196.29  7177.58  7221.02  7169.37           -    0.26%\n",
       "1  2019-03-25  7177.58  7207.59  7208.09  7146.83  6.0428e+08   -0.42%\n",
       "2  2019-03-22  7207.59  7355.31  7356.37  7192.76  7.1621e+08   -2.01%\n",
       "3  2019-03-21  7355.31  7291.01  7370.61  7290.62  7.3135e+08    0.88%\n",
       "4  2019-03-20  7291.01     7324  7341.57  7291.01  7.7173e+08   -0.45%"
      ]
     },
     "execution_count": 110,
     "metadata": {},
     "output_type": "execute_result"
    }
   ],
   "source": [
    "FTSEraw.iloc[:,1:5] = FTSEraw.iloc[:,1:5].applymap(locale.atof)\n",
    "FTSEraw.head()"
   ]
  },
  {
   "cell_type": "code",
   "execution_count": 111,
   "metadata": {
    "scrolled": true
   },
   "outputs": [
    {
     "data": {
      "text/html": [
       "<div>\n",
       "<style scoped>\n",
       "    .dataframe tbody tr th:only-of-type {\n",
       "        vertical-align: middle;\n",
       "    }\n",
       "\n",
       "    .dataframe tbody tr th {\n",
       "        vertical-align: top;\n",
       "    }\n",
       "\n",
       "    .dataframe thead th {\n",
       "        text-align: right;\n",
       "    }\n",
       "</style>\n",
       "<table border=\"1\" class=\"dataframe\">\n",
       "  <thead>\n",
       "    <tr style=\"text-align: right;\">\n",
       "      <th></th>\n",
       "      <th>Date</th>\n",
       "      <th>Price</th>\n",
       "      <th>Open</th>\n",
       "      <th>High</th>\n",
       "      <th>Low</th>\n",
       "      <th>Vol.</th>\n",
       "      <th>Change %</th>\n",
       "    </tr>\n",
       "  </thead>\n",
       "  <tbody>\n",
       "    <tr>\n",
       "      <th>count</th>\n",
       "      <td>1265</td>\n",
       "      <td>1265.00</td>\n",
       "      <td>1265.00</td>\n",
       "      <td>1265.00</td>\n",
       "      <td>1265.00</td>\n",
       "      <td>1.265000e+03</td>\n",
       "      <td>1265</td>\n",
       "    </tr>\n",
       "    <tr>\n",
       "      <th>unique</th>\n",
       "      <td>1265</td>\n",
       "      <td>1258.00</td>\n",
       "      <td>1258.00</td>\n",
       "      <td>1261.00</td>\n",
       "      <td>1252.00</td>\n",
       "      <td>1.156000e+03</td>\n",
       "      <td>355</td>\n",
       "    </tr>\n",
       "    <tr>\n",
       "      <th>top</th>\n",
       "      <td>2014-10-14</td>\n",
       "      <td>6753.75</td>\n",
       "      <td>7281.57</td>\n",
       "      <td>6314.57</td>\n",
       "      <td>7099.15</td>\n",
       "      <td>1.060000e+09</td>\n",
       "      <td>-0.01%</td>\n",
       "    </tr>\n",
       "    <tr>\n",
       "      <th>freq</th>\n",
       "      <td>1</td>\n",
       "      <td>2.00</td>\n",
       "      <td>2.00</td>\n",
       "      <td>2.00</td>\n",
       "      <td>2.00</td>\n",
       "      <td>1.100000e+01</td>\n",
       "      <td>14</td>\n",
       "    </tr>\n",
       "  </tbody>\n",
       "</table>\n",
       "</div>"
      ],
      "text/plain": [
       "              Date    Price     Open     High      Low          Vol. Change %\n",
       "count         1265  1265.00  1265.00  1265.00  1265.00  1.265000e+03     1265\n",
       "unique        1265  1258.00  1258.00  1261.00  1252.00  1.156000e+03      355\n",
       "top     2014-10-14  6753.75  7281.57  6314.57  7099.15  1.060000e+09   -0.01%\n",
       "freq             1     2.00     2.00     2.00     2.00  1.100000e+01       14"
      ]
     },
     "execution_count": 111,
     "metadata": {},
     "output_type": "execute_result"
    }
   ],
   "source": [
    "FTSEraw.describe()"
   ]
  },
  {
   "cell_type": "markdown",
   "metadata": {},
   "source": [
    "Other dataframes should be converted to data type that can be investigated."
   ]
  },
  {
   "cell_type": "code",
   "execution_count": 112,
   "metadata": {},
   "outputs": [
    {
     "name": "stdout",
     "output_type": "stream",
     "text": [
      "              Open         High          Low        Close    Adj Close  \\\n",
      "count  1258.000000  1258.000000  1258.000000  1258.000000  1258.000000   \n",
      "mean   2295.599936  2305.631360  2284.542393  2295.848903  2295.848903   \n",
      "std     313.091310   313.913100   312.210738   312.866020   312.866020   \n",
      "min    1818.180054  1834.189941  1810.099976  1815.689941  1815.689941   \n",
      "25%    2047.892517  2060.602600  2040.632446  2048.934998  2048.934998   \n",
      "50%    2166.075074  2172.534912  2158.444946  2164.929931  2164.929931   \n",
      "75%    2590.354981  2601.174926  2579.980042  2595.789978  2595.789978   \n",
      "max    2936.760010  2940.909912  2927.110107  2930.750000  2930.750000   \n",
      "\n",
      "             Volume  \n",
      "count  1.258000e+03  \n",
      "mean   3.597409e+09  \n",
      "std    6.940283e+08  \n",
      "min    1.349780e+09  \n",
      "25%    3.190855e+09  \n",
      "50%    3.506820e+09  \n",
      "75%    3.893518e+09  \n",
      "max    7.609010e+09  \n",
      "              Open         High          Low        Close    Adj Close  \\\n",
      "count  1265.000000  1265.000000  1265.000000  1265.000000  1265.000000   \n",
      "mean   5628.169643  5654.691866  5600.716839  5628.776916  5628.776916   \n",
      "std     341.164066   336.733262   346.237087   341.456885   341.456885   \n",
      "min    4765.299805  4821.100098  4706.700195  4765.299805  4765.299805   \n",
      "25%    5383.100098  5412.299805  5358.899902  5383.100098  5383.100098   \n",
      "50%    5651.799805  5676.500000  5624.600098  5652.100098  5652.100098   \n",
      "75%    5881.000000  5907.600098  5853.799805  5881.500000  5881.500000   \n",
      "max    6352.200195  6373.500000  6348.200195  6352.200195  6352.200195   \n",
      "\n",
      "             Volume  \n",
      "count  1.265000e+03  \n",
      "mean   8.594285e+07  \n",
      "std    2.123949e+08  \n",
      "min    0.000000e+00  \n",
      "25%    0.000000e+00  \n",
      "50%    0.000000e+00  \n",
      "75%    0.000000e+00  \n",
      "max    1.072303e+09  \n",
      "               Open          High           Low         Close     Adj Close  \\\n",
      "count   1228.000000   1228.000000   1228.000000   1228.000000   1228.000000   \n",
      "mean   19083.213404  19182.276318  18975.819207  19097.931327  19097.931327   \n",
      "std     2585.382834   2584.573891   2582.755038   2527.558642   2527.558642   \n",
      "min        0.000000      0.000000      0.000000  13910.160156  13910.160156   \n",
      "25%    16921.265137  17025.670410  16819.765626  16917.770020  16917.770020   \n",
      "50%    19354.945313  19435.990235  19261.110351  19379.035157  19379.035157   \n",
      "75%    21251.030762  21331.144531  21040.915527  21164.720215  21164.720215   \n",
      "max    24376.169922  24448.070313  24217.259766  24270.619141  24270.619141   \n",
      "\n",
      "              Volume  \n",
      "count    1228.000000  \n",
      "mean   119392.752443  \n",
      "std     43552.616498  \n",
      "min         0.000000  \n",
      "25%     85425.000000  \n",
      "50%    117950.000000  \n",
      "75%    144300.000000  \n",
      "max    340500.000000  \n",
      "               Open          High           Low         Close     Adj Close  \\\n",
      "count   1231.000000   1231.000000   1231.000000   1231.000000   1231.000000   \n",
      "mean   25082.897635  25212.783124  24920.679841  25067.649577  25067.649577   \n",
      "std     3165.368012   3175.390108   3139.773511   3159.598626   3159.598626   \n",
      "min    18278.800781  18482.330078  18278.800781  18319.580078  18319.580078   \n",
      "25%    22844.089844  22939.474610  22726.089844  22821.059571  22821.059571   \n",
      "50%    24498.830078  24589.710938  24358.720703  24497.080078  24497.080078   \n",
      "75%    27686.429688  27800.209961  27484.659180  27641.669922  27641.669922   \n",
      "max    33335.480469  33484.078125  32897.039063  33154.121094  33154.121094   \n",
      "\n",
      "             Volume  \n",
      "count  1.231000e+03  \n",
      "mean   1.804511e+09  \n",
      "std    6.200472e+08  \n",
      "min    0.000000e+00  \n",
      "25%    1.421770e+09  \n",
      "50%    1.693214e+09  \n",
      "75%    2.042755e+09  \n",
      "max    5.531270e+09  \n",
      "               Open          High           Low         Close     Adj Close  \\\n",
      "count   1263.000000   1263.000000   1263.000000   1263.000000   1263.000000   \n",
      "mean   11162.780307  11229.985732  11087.727517  11159.767266  11159.767266   \n",
      "std     1213.540335   1207.147488   1219.608461   1212.897099   1212.897099   \n",
      "min     8623.280273   8662.860352   8354.969727   8571.950195   8571.950195   \n",
      "25%    10013.629883  10086.709961   9931.475097  10012.035156  10012.035156   \n",
      "50%    11198.419922  11283.759766  11125.530273  11200.620117  11200.620117   \n",
      "75%    12237.270019  12302.154785  12175.354981  12232.839844  12232.839844   \n",
      "max    13577.139648  13596.889648  13517.809570  13559.599609  13559.599609   \n",
      "\n",
      "             Volume  \n",
      "count  1.263000e+03  \n",
      "mean   5.484275e+07  \n",
      "std    5.015952e+07  \n",
      "min    0.000000e+00  \n",
      "25%    0.000000e+00  \n",
      "50%    6.976680e+07  \n",
      "75%    9.239165e+07  \n",
      "max    4.001654e+08  \n"
     ]
    }
   ],
   "source": [
    "for i in Allraw[:-1]:\n",
    "    i.iloc[:,1:]=i.iloc[:,1:].applymap(pd.to_numeric)\n",
    "    print(i.describe())"
   ]
  },
  {
   "cell_type": "markdown",
   "metadata": {},
   "source": [
    "## 3. Merging dataframes into one"
   ]
  },
  {
   "cell_type": "code",
   "execution_count": null,
   "metadata": {},
   "outputs": [],
   "source": []
  },
  {
   "cell_type": "code",
   "execution_count": 113,
   "metadata": {},
   "outputs": [
    {
     "name": "stdout",
     "output_type": "stream",
     "text": [
      "Index(['Date', 'Open', 'High', 'Low', 'Close', 'Adj Close', 'Volume'], dtype='object')\n",
      "Index(['Date', 'Open', 'High', 'Low', 'Close', 'Adj Close', 'Volume'], dtype='object')\n",
      "Index(['Date', 'Open', 'High', 'Low', 'Close', 'Adj Close', 'Volume'], dtype='object')\n",
      "Index(['Date', 'Open', 'High', 'Low', 'Close', 'Adj Close', 'Volume'], dtype='object')\n",
      "Index(['Date', 'Open', 'High', 'Low', 'Close', 'Adj Close', 'Volume'], dtype='object')\n",
      "Index(['Date', 'Price', 'Open', 'High', 'Low', 'Vol.', 'Change %'], dtype='object')\n"
     ]
    }
   ],
   "source": [
    "for i in Allraw:\n",
    "    print(i.columns)"
   ]
  },
  {
   "cell_type": "markdown",
   "metadata": {},
   "source": [
    "The last dataframe, FTSEraw has different column names than others. I will change it to match others."
   ]
  },
  {
   "cell_type": "code",
   "execution_count": 114,
   "metadata": {},
   "outputs": [],
   "source": [
    "FTSEraw.rename(columns={'Price':'Close','Vol.':'Volume'}, inplace=True)\n"
   ]
  },
  {
   "cell_type": "code",
   "execution_count": 115,
   "metadata": {},
   "outputs": [
    {
     "name": "stdout",
     "output_type": "stream",
     "text": [
      "Index(['Date', 'Open', 'High', 'Low', 'Close', 'Adj Close', 'Volume'], dtype='object')\n",
      "Index(['Date', 'Open', 'High', 'Low', 'Close', 'Adj Close', 'Volume'], dtype='object')\n",
      "Index(['Date', 'Open', 'High', 'Low', 'Close', 'Adj Close', 'Volume'], dtype='object')\n",
      "Index(['Date', 'Open', 'High', 'Low', 'Close', 'Adj Close', 'Volume'], dtype='object')\n",
      "Index(['Date', 'Open', 'High', 'Low', 'Close', 'Adj Close', 'Volume'], dtype='object')\n",
      "Index(['Date', 'Close', 'Open', 'High', 'Low', 'Volume', 'Change %'], dtype='object')\n"
     ]
    }
   ],
   "source": [
    "for i in Allraw:\n",
    "    print(i.columns)"
   ]
  },
  {
   "cell_type": "code",
   "execution_count": 116,
   "metadata": {},
   "outputs": [
    {
     "name": "stdout",
     "output_type": "stream",
     "text": [
      "0    3480850000\n",
      "1    3733430000\n",
      "2    2955520000\n",
      "3    3274300000\n",
      "4    3336190000\n",
      "Name: Volume, dtype: int64\n",
      "0    667344800.0\n",
      "1    701665500.0\n",
      "2    638887700.0\n",
      "3    709931000.0\n",
      "4    611515200.0\n",
      "Name: Volume, dtype: float64\n",
      "0    166600.0\n",
      "1    179000.0\n",
      "2    149300.0\n",
      "3    141600.0\n",
      "4    139200.0\n",
      "Name: Volume, dtype: float64\n",
      "0    1.917734e+09\n",
      "1    2.222326e+09\n",
      "2    2.147316e+09\n",
      "3    1.919012e+09\n",
      "4    1.598523e+09\n",
      "Name: Volume, dtype: float64\n",
      "0    75841600.0\n",
      "1    66826100.0\n",
      "2    70498400.0\n",
      "3    68772900.0\n",
      "4    72835100.0\n",
      "Name: Volume, dtype: float64\n",
      "0             -\n",
      "1    6.0428e+08\n",
      "2    7.1621e+08\n",
      "3    7.3135e+08\n",
      "4    7.7173e+08\n",
      "Name: Volume, dtype: object\n"
     ]
    }
   ],
   "source": [
    "for i in Allraw:\n",
    "    print(i.Volume.head())"
   ]
  },
  {
   "cell_type": "markdown",
   "metadata": {},
   "source": [
    "Volume of daily transactions for specific indices might have highly relevant information. However ASX is missing the information entirely. So I will not incorporate Volume data.\n",
    "But Volatility may be helpful. It will be calcualted as below"
   ]
  },
  {
   "cell_type": "markdown",
   "metadata": {},
   "source": [
    "![](../img/Volatility.png)"
   ]
  },
  {
   "cell_type": "code",
   "execution_count": 117,
   "metadata": {},
   "outputs": [],
   "source": [
    "#Creating a range of dates from 2012-05-05 to 2017-05-05\n",
    "def perdelta(start, end, delta):\n",
    "    curr = start\n",
    "    while curr < end:\n",
    "        yield curr\n",
    "        curr += delta\n",
    "datelist=[]\n",
    "for result in perdelta(date(2014,3,26), date(2019,3,27), timedelta(days=1)):\n",
    "    datelist.append(result)\n",
    "\n",
    "datelistdf=pd.DataFrame({\"Date\":datelist})"
   ]
  },
  {
   "cell_type": "markdown",
   "metadata": {},
   "source": [
    "We need to handle the missing data. I will use forward filling to deal with them. If data for March 3rd is missing, March 2nd data will be copied over. If March 2nd data is also blank, March 1st data will be copied to March 2nd and March 3rd row."
   ]
  },
  {
   "cell_type": "code",
   "execution_count": 133,
   "metadata": {},
   "outputs": [],
   "source": [
    "def fulldates(df):\n",
    "    return(pd.merge(datelistdf, df, how='left', on='Date'))\n",
    "\n",
    "SNP, ASX, NIK, HS, DAX, FTSE = [fulldates(i).fillna(method='ffill') for i in Allraw]"
   ]
  },
  {
   "cell_type": "markdown",
   "metadata": {},
   "source": [
    "As we can see from the graph below, ranges for each indices vary greatly. It is due to their different currency denominations and it doesn't mean anything significant. Thus using the closing prices as they are would be misleading. As we are trying to look at the influence of each indices' price on S&P500 movement, it would be more beneficial to convert absolute daily price to daily return. stock index at 1,000 doesn't mean anything unless it is presented in relation to other price points in the past. "
   ]
  },
  {
   "cell_type": "code",
   "execution_count": 136,
   "metadata": {},
   "outputs": [
    {
     "data": {
      "text/plain": [
       "<matplotlib.legend.Legend at 0x127cadac8>"
      ]
     },
     "execution_count": 136,
     "metadata": {},
     "output_type": "execute_result"
    },
    {
     "data": {
      "image/png": "[encoded data removed]",
      "text/plain": [
       "<Figure size 432x288 with 1 Axes>"
      ]
     },
     "metadata": {
      "needs_background": "light"
     },
     "output_type": "display_data"
    }
   ],
   "source": [
    "##using matplotlib\n",
    "plt.plot(SNP.iloc[:,0],pd.DataFrame({\"ASX\":ASX['Close'],\n",
    "                                     \"NIK\":NIK['Close'],\n",
    "                                     \"HS\":HS['Close'],\n",
    "                                    \"DAX\":DAX['Close'],\n",
    "                                    \"FTSE\":FTSE['Close'],}))\n",
    "plt.legend([\"ASX\",'NIK','HS','DAX','FTSE'])"
   ]
  },
  {
   "cell_type": "code",
   "execution_count": 137,
   "metadata": {
    "scrolled": false
   },
   "outputs": [
    {
     "data": {
      "text/html": [
       "<iframe id=\"igraph\" scrolling=\"no\" style=\"border:none;\" seamless=\"seamless\" src=\"https://plot.ly/~hypark/106.embed\" height=\"525px\" width=\"100%\"></iframe>"
      ],
      "text/plain": [
       "<plotly.tools.PlotlyDisplay object>"
      ]
     },
     "execution_count": 137,
     "metadata": {},
     "output_type": "execute_result"
    }
   ],
   "source": [
    "#Using Plotly. I prefer this plot since you can check specific data info with the iteractive graphs.\n",
    "trace0 = go.Scatter(\n",
    "    x = datelist,\n",
    "    y = ASX['Close'],\n",
    "    mode = 'lines',\n",
    "    name = 'ASX'\n",
    ")\n",
    "trace1 = go.Scatter(\n",
    "    x = datelist,\n",
    "    y = NIK['Close'],\n",
    "    mode = 'lines',\n",
    "    name = 'NIK'\n",
    ")\n",
    "trace2 = go.Scatter(\n",
    "    x = datelist,\n",
    "    y = HS['Close'],\n",
    "    mode = 'lines',\n",
    "    name = 'HS'\n",
    ")\n",
    "trace3 = go.Scatter(\n",
    "    x = datelist,\n",
    "    y = DAX['Close'],\n",
    "    mode = 'lines',\n",
    "    name = 'DAX'\n",
    ")\n",
    "trace4 = go.Scatter(\n",
    "    x = datelist,\n",
    "    y = FTSE['Close'],\n",
    "    mode = 'lines',\n",
    "    name = 'FTSE'\n",
    ")\n",
    "\n",
    "data = [trace0, trace1, trace2, trace3, trace4]\n",
    "\n",
    "py.iplot(data)"
   ]
  },
  {
   "cell_type": "markdown",
   "metadata": {},
   "source": [
    "## 4. Data Conversion"
   ]
  },
  {
   "cell_type": "markdown",
   "metadata": {},
   "source": [
    "Final dataframe will include each indices' daily return rate and volatility calculated as mentioned before."
   ]
  },
  {
   "cell_type": "code",
   "execution_count": 138,
   "metadata": {},
   "outputs": [
    {
     "data": {
      "text/html": [
       "<div>\n",
       "<style scoped>\n",
       "    .dataframe tbody tr th:only-of-type {\n",
       "        vertical-align: middle;\n",
       "    }\n",
       "\n",
       "    .dataframe tbody tr th {\n",
       "        vertical-align: top;\n",
       "    }\n",
       "\n",
       "    .dataframe thead th {\n",
       "        text-align: right;\n",
       "    }\n",
       "</style>\n",
       "<table border=\"1\" class=\"dataframe\">\n",
       "  <thead>\n",
       "    <tr style=\"text-align: right;\">\n",
       "      <th></th>\n",
       "      <th>Date</th>\n",
       "      <th>Open</th>\n",
       "      <th>High</th>\n",
       "      <th>Low</th>\n",
       "      <th>Close</th>\n",
       "      <th>Adj Close</th>\n",
       "      <th>Volume</th>\n",
       "    </tr>\n",
       "  </thead>\n",
       "  <tbody>\n",
       "    <tr>\n",
       "      <th>0</th>\n",
       "      <td>2014-03-26</td>\n",
       "      <td>1867.089966</td>\n",
       "      <td>1875.920044</td>\n",
       "      <td>1852.560059</td>\n",
       "      <td>1852.560059</td>\n",
       "      <td>1852.560059</td>\n",
       "      <td>3.480850e+09</td>\n",
       "    </tr>\n",
       "    <tr>\n",
       "      <th>1</th>\n",
       "      <td>2014-03-27</td>\n",
       "      <td>1852.109985</td>\n",
       "      <td>1855.550049</td>\n",
       "      <td>1842.109985</td>\n",
       "      <td>1849.040039</td>\n",
       "      <td>1849.040039</td>\n",
       "      <td>3.733430e+09</td>\n",
       "    </tr>\n",
       "    <tr>\n",
       "      <th>2</th>\n",
       "      <td>2014-03-28</td>\n",
       "      <td>1850.069946</td>\n",
       "      <td>1866.630005</td>\n",
       "      <td>1850.069946</td>\n",
       "      <td>1857.619995</td>\n",
       "      <td>1857.619995</td>\n",
       "      <td>2.955520e+09</td>\n",
       "    </tr>\n",
       "    <tr>\n",
       "      <th>3</th>\n",
       "      <td>2014-03-29</td>\n",
       "      <td>1850.069946</td>\n",
       "      <td>1866.630005</td>\n",
       "      <td>1850.069946</td>\n",
       "      <td>1857.619995</td>\n",
       "      <td>1857.619995</td>\n",
       "      <td>2.955520e+09</td>\n",
       "    </tr>\n",
       "    <tr>\n",
       "      <th>4</th>\n",
       "      <td>2014-03-30</td>\n",
       "      <td>1850.069946</td>\n",
       "      <td>1866.630005</td>\n",
       "      <td>1850.069946</td>\n",
       "      <td>1857.619995</td>\n",
       "      <td>1857.619995</td>\n",
       "      <td>2.955520e+09</td>\n",
       "    </tr>\n",
       "    <tr>\n",
       "      <th>5</th>\n",
       "      <td>2014-03-31</td>\n",
       "      <td>1859.160034</td>\n",
       "      <td>1875.180054</td>\n",
       "      <td>1859.160034</td>\n",
       "      <td>1872.339966</td>\n",
       "      <td>1872.339966</td>\n",
       "      <td>3.274300e+09</td>\n",
       "    </tr>\n",
       "    <tr>\n",
       "      <th>6</th>\n",
       "      <td>2014-04-01</td>\n",
       "      <td>1873.959961</td>\n",
       "      <td>1885.839966</td>\n",
       "      <td>1873.959961</td>\n",
       "      <td>1885.520020</td>\n",
       "      <td>1885.520020</td>\n",
       "      <td>3.336190e+09</td>\n",
       "    </tr>\n",
       "    <tr>\n",
       "      <th>7</th>\n",
       "      <td>2014-04-02</td>\n",
       "      <td>1886.609985</td>\n",
       "      <td>1893.170044</td>\n",
       "      <td>1883.790039</td>\n",
       "      <td>1890.900024</td>\n",
       "      <td>1890.900024</td>\n",
       "      <td>3.131660e+09</td>\n",
       "    </tr>\n",
       "    <tr>\n",
       "      <th>8</th>\n",
       "      <td>2014-04-03</td>\n",
       "      <td>1891.430054</td>\n",
       "      <td>1893.800049</td>\n",
       "      <td>1882.650024</td>\n",
       "      <td>1888.770020</td>\n",
       "      <td>1888.770020</td>\n",
       "      <td>3.055600e+09</td>\n",
       "    </tr>\n",
       "    <tr>\n",
       "      <th>9</th>\n",
       "      <td>2014-04-04</td>\n",
       "      <td>1890.250000</td>\n",
       "      <td>1897.280029</td>\n",
       "      <td>1863.260010</td>\n",
       "      <td>1865.089966</td>\n",
       "      <td>1865.089966</td>\n",
       "      <td>3.583750e+09</td>\n",
       "    </tr>\n",
       "  </tbody>\n",
       "</table>\n",
       "</div>"
      ],
      "text/plain": [
       "         Date         Open         High          Low        Close  \\\n",
       "0  2014-03-26  1867.089966  1875.920044  1852.560059  1852.560059   \n",
       "1  2014-03-27  1852.109985  1855.550049  1842.109985  1849.040039   \n",
       "2  2014-03-28  1850.069946  1866.630005  1850.069946  1857.619995   \n",
       "3  2014-03-29  1850.069946  1866.630005  1850.069946  1857.619995   \n",
       "4  2014-03-30  1850.069946  1866.630005  1850.069946  1857.619995   \n",
       "5  2014-03-31  1859.160034  1875.180054  1859.160034  1872.339966   \n",
       "6  2014-04-01  1873.959961  1885.839966  1873.959961  1885.520020   \n",
       "7  2014-04-02  1886.609985  1893.170044  1883.790039  1890.900024   \n",
       "8  2014-04-03  1891.430054  1893.800049  1882.650024  1888.770020   \n",
       "9  2014-04-04  1890.250000  1897.280029  1863.260010  1865.089966   \n",
       "\n",
       "     Adj Close        Volume  \n",
       "0  1852.560059  3.480850e+09  \n",
       "1  1849.040039  3.733430e+09  \n",
       "2  1857.619995  2.955520e+09  \n",
       "3  1857.619995  2.955520e+09  \n",
       "4  1857.619995  2.955520e+09  \n",
       "5  1872.339966  3.274300e+09  \n",
       "6  1885.520020  3.336190e+09  \n",
       "7  1890.900024  3.131660e+09  \n",
       "8  1888.770020  3.055600e+09  \n",
       "9  1865.089966  3.583750e+09  "
      ]
     },
     "execution_count": 138,
     "metadata": {},
     "output_type": "execute_result"
    }
   ],
   "source": [
    "SNP.head(10)"
   ]
  },
  {
   "cell_type": "code",
   "execution_count": 139,
   "metadata": {},
   "outputs": [
    {
     "data": {
      "text/html": [
       "<div>\n",
       "<style scoped>\n",
       "    .dataframe tbody tr th:only-of-type {\n",
       "        vertical-align: middle;\n",
       "    }\n",
       "\n",
       "    .dataframe tbody tr th {\n",
       "        vertical-align: top;\n",
       "    }\n",
       "\n",
       "    .dataframe thead th {\n",
       "        text-align: right;\n",
       "    }\n",
       "</style>\n",
       "<table border=\"1\" class=\"dataframe\">\n",
       "  <thead>\n",
       "    <tr style=\"text-align: right;\">\n",
       "      <th></th>\n",
       "      <th>Date</th>\n",
       "      <th>Open</th>\n",
       "      <th>High</th>\n",
       "      <th>Low</th>\n",
       "      <th>Close</th>\n",
       "      <th>Adj Close</th>\n",
       "      <th>Volume</th>\n",
       "    </tr>\n",
       "  </thead>\n",
       "  <tbody>\n",
       "    <tr>\n",
       "      <th>0</th>\n",
       "      <td>NaN</td>\n",
       "      <td>NaN</td>\n",
       "      <td>NaN</td>\n",
       "      <td>NaN</td>\n",
       "      <td>NaN</td>\n",
       "      <td>NaN</td>\n",
       "      <td>NaN</td>\n",
       "    </tr>\n",
       "    <tr>\n",
       "      <th>1</th>\n",
       "      <td>2014-03-26</td>\n",
       "      <td>1867.089966</td>\n",
       "      <td>1875.920044</td>\n",
       "      <td>1852.560059</td>\n",
       "      <td>1852.560059</td>\n",
       "      <td>1852.560059</td>\n",
       "      <td>3.480850e+09</td>\n",
       "    </tr>\n",
       "    <tr>\n",
       "      <th>2</th>\n",
       "      <td>2014-03-27</td>\n",
       "      <td>1852.109985</td>\n",
       "      <td>1855.550049</td>\n",
       "      <td>1842.109985</td>\n",
       "      <td>1849.040039</td>\n",
       "      <td>1849.040039</td>\n",
       "      <td>3.733430e+09</td>\n",
       "    </tr>\n",
       "    <tr>\n",
       "      <th>3</th>\n",
       "      <td>2014-03-28</td>\n",
       "      <td>1850.069946</td>\n",
       "      <td>1866.630005</td>\n",
       "      <td>1850.069946</td>\n",
       "      <td>1857.619995</td>\n",
       "      <td>1857.619995</td>\n",
       "      <td>2.955520e+09</td>\n",
       "    </tr>\n",
       "    <tr>\n",
       "      <th>4</th>\n",
       "      <td>2014-03-29</td>\n",
       "      <td>1850.069946</td>\n",
       "      <td>1866.630005</td>\n",
       "      <td>1850.069946</td>\n",
       "      <td>1857.619995</td>\n",
       "      <td>1857.619995</td>\n",
       "      <td>2.955520e+09</td>\n",
       "    </tr>\n",
       "    <tr>\n",
       "      <th>5</th>\n",
       "      <td>2014-03-30</td>\n",
       "      <td>1850.069946</td>\n",
       "      <td>1866.630005</td>\n",
       "      <td>1850.069946</td>\n",
       "      <td>1857.619995</td>\n",
       "      <td>1857.619995</td>\n",
       "      <td>2.955520e+09</td>\n",
       "    </tr>\n",
       "    <tr>\n",
       "      <th>6</th>\n",
       "      <td>2014-03-31</td>\n",
       "      <td>1859.160034</td>\n",
       "      <td>1875.180054</td>\n",
       "      <td>1859.160034</td>\n",
       "      <td>1872.339966</td>\n",
       "      <td>1872.339966</td>\n",
       "      <td>3.274300e+09</td>\n",
       "    </tr>\n",
       "    <tr>\n",
       "      <th>7</th>\n",
       "      <td>2014-04-01</td>\n",
       "      <td>1873.959961</td>\n",
       "      <td>1885.839966</td>\n",
       "      <td>1873.959961</td>\n",
       "      <td>1885.520020</td>\n",
       "      <td>1885.520020</td>\n",
       "      <td>3.336190e+09</td>\n",
       "    </tr>\n",
       "    <tr>\n",
       "      <th>8</th>\n",
       "      <td>2014-04-02</td>\n",
       "      <td>1886.609985</td>\n",
       "      <td>1893.170044</td>\n",
       "      <td>1883.790039</td>\n",
       "      <td>1890.900024</td>\n",
       "      <td>1890.900024</td>\n",
       "      <td>3.131660e+09</td>\n",
       "    </tr>\n",
       "    <tr>\n",
       "      <th>9</th>\n",
       "      <td>2014-04-03</td>\n",
       "      <td>1891.430054</td>\n",
       "      <td>1893.800049</td>\n",
       "      <td>1882.650024</td>\n",
       "      <td>1888.770020</td>\n",
       "      <td>1888.770020</td>\n",
       "      <td>3.055600e+09</td>\n",
       "    </tr>\n",
       "  </tbody>\n",
       "</table>\n",
       "</div>"
      ],
      "text/plain": [
       "         Date         Open         High          Low        Close  \\\n",
       "0         NaN          NaN          NaN          NaN          NaN   \n",
       "1  2014-03-26  1867.089966  1875.920044  1852.560059  1852.560059   \n",
       "2  2014-03-27  1852.109985  1855.550049  1842.109985  1849.040039   \n",
       "3  2014-03-28  1850.069946  1866.630005  1850.069946  1857.619995   \n",
       "4  2014-03-29  1850.069946  1866.630005  1850.069946  1857.619995   \n",
       "5  2014-03-30  1850.069946  1866.630005  1850.069946  1857.619995   \n",
       "6  2014-03-31  1859.160034  1875.180054  1859.160034  1872.339966   \n",
       "7  2014-04-01  1873.959961  1885.839966  1873.959961  1885.520020   \n",
       "8  2014-04-02  1886.609985  1893.170044  1883.790039  1890.900024   \n",
       "9  2014-04-03  1891.430054  1893.800049  1882.650024  1888.770020   \n",
       "\n",
       "     Adj Close        Volume  \n",
       "0          NaN           NaN  \n",
       "1  1852.560059  3.480850e+09  \n",
       "2  1849.040039  3.733430e+09  \n",
       "3  1857.619995  2.955520e+09  \n",
       "4  1857.619995  2.955520e+09  \n",
       "5  1857.619995  2.955520e+09  \n",
       "6  1872.339966  3.274300e+09  \n",
       "7  1885.520020  3.336190e+09  \n",
       "8  1890.900024  3.131660e+09  \n",
       "9  1888.770020  3.055600e+09  "
      ]
     },
     "execution_count": 139,
     "metadata": {},
     "output_type": "execute_result"
    }
   ],
   "source": [
    "SNP.shift(periods=1,axis=0).head(10)"
   ]
  },
  {
   "cell_type": "code",
   "execution_count": 140,
   "metadata": {},
   "outputs": [],
   "source": [
    "def returncal(df,columnname):\n",
    "    todayprice=df[columnname]\n",
    "    yesterdayprice=df.shift(periods=1,axis=0)[columnname]\n",
    "    return((todayprice-yesterdayprice)/yesterdayprice*100)"
   ]
  },
  {
   "cell_type": "code",
   "execution_count": 141,
   "metadata": {},
   "outputs": [],
   "source": [
    "def volatilitycal(df,highcolumn,lowcolumn):\n",
    "    highprice=df[highcolumn]\n",
    "    lowprice = df[lowcolumn]\n",
    "    midprice = (highprice+lowprice)/2\n",
    "    return((highprice-midprice)/midprice*100)"
   ]
  },
  {
   "cell_type": "code",
   "execution_count": 166,
   "metadata": {},
   "outputs": [],
   "source": [
    "finaldata = pd.DataFrame({'Date':datelist,\n",
    "                         'SNPreturn':returncal(SNP,'Close'),\n",
    "                         'ASXreturn':returncal(ASX,'Close'),\n",
    "                         'NIKreturn':returncal(NIK,'Close'),\n",
    "                         'HSreturn':returncal(HS,'Close'),\n",
    "                         'DAXreturn':returncal(DAX,'Close'),\n",
    "                         'FTSEreturn':returncal(FTSE,'Close'),\n",
    "                         'ASXvolatility':volatilitycal(ASX,'High','Low'),\n",
    "                         'NIKvolatility':volatilitycal(NIK,'High','Low'),\n",
    "                         'HSvolatility':volatilitycal(HS,'High','Low'),\n",
    "                         'DAXvolatility':volatilitycal(DAX,'High','Low'),\n",
    "                         'FTSEvolatility':volatilitycal(FTSE,'High','Low')})"
   ]
  },
  {
   "cell_type": "code",
   "execution_count": 167,
   "metadata": {
    "scrolled": true
   },
   "outputs": [],
   "source": [
    "finaldata=finaldata[['Date','SNPreturn',\n",
    "                         'ASXreturn',\n",
    "                         'NIKreturn',\n",
    "                         'HSreturn',\n",
    "                         'DAXreturn',\n",
    "                         'FTSEreturn',\n",
    "                         'ASXvolatility',\n",
    "                         'NIKvolatility',\n",
    "                         'HSvolatility',\n",
    "                         'DAXvolatility',\n",
    "                         'FTSEvolatility']]"
   ]
  },
  {
   "cell_type": "code",
   "execution_count": 168,
   "metadata": {},
   "outputs": [],
   "source": [
    "finaldata=finaldata.fillna(method='bfill')"
   ]
  },
  {
   "cell_type": "code",
   "execution_count": 169,
   "metadata": {},
   "outputs": [
    {
     "data": {
      "text/html": [
       "<div>\n",
       "<style scoped>\n",
       "    .dataframe tbody tr th:only-of-type {\n",
       "        vertical-align: middle;\n",
       "    }\n",
       "\n",
       "    .dataframe tbody tr th {\n",
       "        vertical-align: top;\n",
       "    }\n",
       "\n",
       "    .dataframe thead th {\n",
       "        text-align: right;\n",
       "    }\n",
       "</style>\n",
       "<table border=\"1\" class=\"dataframe\">\n",
       "  <thead>\n",
       "    <tr style=\"text-align: right;\">\n",
       "      <th></th>\n",
       "      <th>Date</th>\n",
       "      <th>SNPreturn</th>\n",
       "      <th>ASXreturn</th>\n",
       "      <th>NIKreturn</th>\n",
       "      <th>HSreturn</th>\n",
       "      <th>DAXreturn</th>\n",
       "      <th>FTSEreturn</th>\n",
       "      <th>ASXvolatility</th>\n",
       "      <th>NIKvolatility</th>\n",
       "      <th>HSvolatility</th>\n",
       "      <th>DAXvolatility</th>\n",
       "      <th>FTSEvolatility</th>\n",
       "    </tr>\n",
       "  </thead>\n",
       "  <tbody>\n",
       "    <tr>\n",
       "      <th>0</th>\n",
       "      <td>2014-03-26</td>\n",
       "      <td>-0.190008</td>\n",
       "      <td>0.314009</td>\n",
       "      <td>1.006617</td>\n",
       "      <td>-0.243519</td>\n",
       "      <td>0.027834</td>\n",
       "      <td>-0.257066</td>\n",
       "      <td>0.510324</td>\n",
       "      <td>0.581542</td>\n",
       "      <td>0.322098</td>\n",
       "      <td>0.681416</td>\n",
       "      <td>0.315582</td>\n",
       "    </tr>\n",
       "    <tr>\n",
       "      <th>1</th>\n",
       "      <td>2014-03-27</td>\n",
       "      <td>-0.190008</td>\n",
       "      <td>0.314009</td>\n",
       "      <td>1.006617</td>\n",
       "      <td>-0.243519</td>\n",
       "      <td>0.027834</td>\n",
       "      <td>-0.257066</td>\n",
       "      <td>0.278108</td>\n",
       "      <td>1.495587</td>\n",
       "      <td>0.483931</td>\n",
       "      <td>0.378480</td>\n",
       "      <td>0.333493</td>\n",
       "    </tr>\n",
       "    <tr>\n",
       "      <th>2</th>\n",
       "      <td>2014-03-28</td>\n",
       "      <td>0.464022</td>\n",
       "      <td>0.000000</td>\n",
       "      <td>0.500179</td>\n",
       "      <td>1.058328</td>\n",
       "      <td>1.438763</td>\n",
       "      <td>0.413763</td>\n",
       "      <td>0.278108</td>\n",
       "      <td>0.659779</td>\n",
       "      <td>0.482919</td>\n",
       "      <td>0.536334</td>\n",
       "      <td>0.346140</td>\n",
       "    </tr>\n",
       "    <tr>\n",
       "      <th>3</th>\n",
       "      <td>2014-03-29</td>\n",
       "      <td>0.000000</td>\n",
       "      <td>0.000000</td>\n",
       "      <td>0.000000</td>\n",
       "      <td>0.000000</td>\n",
       "      <td>0.000000</td>\n",
       "      <td>0.000000</td>\n",
       "      <td>0.278108</td>\n",
       "      <td>0.659779</td>\n",
       "      <td>0.482919</td>\n",
       "      <td>0.536334</td>\n",
       "      <td>0.346140</td>\n",
       "    </tr>\n",
       "    <tr>\n",
       "      <th>4</th>\n",
       "      <td>2014-03-30</td>\n",
       "      <td>0.000000</td>\n",
       "      <td>0.519851</td>\n",
       "      <td>0.000000</td>\n",
       "      <td>0.000000</td>\n",
       "      <td>0.000000</td>\n",
       "      <td>0.000000</td>\n",
       "      <td>0.455352</td>\n",
       "      <td>0.659779</td>\n",
       "      <td>0.482919</td>\n",
       "      <td>0.536334</td>\n",
       "      <td>0.346140</td>\n",
       "    </tr>\n",
       "  </tbody>\n",
       "</table>\n",
       "</div>"
      ],
      "text/plain": [
       "         Date  SNPreturn  ASXreturn  NIKreturn  HSreturn  DAXreturn  \\\n",
       "0  2014-03-26  -0.190008   0.314009   1.006617 -0.243519   0.027834   \n",
       "1  2014-03-27  -0.190008   0.314009   1.006617 -0.243519   0.027834   \n",
       "2  2014-03-28   0.464022   0.000000   0.500179  1.058328   1.438763   \n",
       "3  2014-03-29   0.000000   0.000000   0.000000  0.000000   0.000000   \n",
       "4  2014-03-30   0.000000   0.519851   0.000000  0.000000   0.000000   \n",
       "\n",
       "   FTSEreturn  ASXvolatility  NIKvolatility  HSvolatility  DAXvolatility  \\\n",
       "0   -0.257066       0.510324       0.581542      0.322098       0.681416   \n",
       "1   -0.257066       0.278108       1.495587      0.483931       0.378480   \n",
       "2    0.413763       0.278108       0.659779      0.482919       0.536334   \n",
       "3    0.000000       0.278108       0.659779      0.482919       0.536334   \n",
       "4    0.000000       0.455352       0.659779      0.482919       0.536334   \n",
       "\n",
       "   FTSEvolatility  \n",
       "0        0.315582  \n",
       "1        0.333493  \n",
       "2        0.346140  \n",
       "3        0.346140  \n",
       "4        0.346140  "
      ]
     },
     "execution_count": 169,
     "metadata": {},
     "output_type": "execute_result"
    }
   ],
   "source": [
    "finaldata.head()"
   ]
  },
  {
   "cell_type": "code",
   "execution_count": 146,
   "metadata": {},
   "outputs": [
    {
     "data": {
      "text/plain": [
       "<matplotlib.legend.Legend at 0x12b0fe978>"
      ]
     },
     "execution_count": 146,
     "metadata": {},
     "output_type": "execute_result"
    },
    {
     "data": {
      "image/png": "[encoded data removed]",
      "text/plain": [
       "<Figure size 960x720 with 1 Axes>"
      ]
     },
     "metadata": {},
     "output_type": "display_data"
    }
   ],
   "source": [
    "plt.figure(num=None, figsize=(12, 9), dpi=80, facecolor='w', edgecolor='k')\n",
    "plt.plot(finaldata.iloc[:,0],finaldata.iloc[:,1:7])\n",
    "plt.legend(finaldata.columns[1:7])"
   ]
  },
  {
   "cell_type": "code",
   "execution_count": 147,
   "metadata": {
    "scrolled": false
   },
   "outputs": [
    {
     "data": {
      "text/plain": [
       "<matplotlib.legend.Legend at 0x12af76b00>"
      ]
     },
     "execution_count": 147,
     "metadata": {},
     "output_type": "execute_result"
    },
    {
     "data": {
      "image/png": "[encoded data removed]",
      "text/plain": [
       "<Figure size 960x720 with 1 Axes>"
      ]
     },
     "metadata": {},
     "output_type": "display_data"
    }
   ],
   "source": [
    "plt.figure(num=None, figsize=(12, 9), dpi=80, facecolor='w', edgecolor='k')\n",
    "plt.plot(finaldata.iloc[:,0],finaldata.iloc[:,7:])\n",
    "plt.legend(finaldata.columns[7:])"
   ]
  },
  {
   "cell_type": "code",
   "execution_count": 148,
   "metadata": {},
   "outputs": [
    {
     "data": {
      "text/html": [
       "<iframe id=\"igraph\" scrolling=\"no\" style=\"border:none;\" seamless=\"seamless\" src=\"https://plot.ly/~hypark/108.embed\" height=\"525px\" width=\"100%\"></iframe>"
      ],
      "text/plain": [
       "<plotly.tools.PlotlyDisplay object>"
      ]
     },
     "execution_count": 148,
     "metadata": {},
     "output_type": "execute_result"
    }
   ],
   "source": [
    "#Using Plotly. I prefer this plot since you can check specific data info with the iteractive graphs.\n",
    "trace0 = go.Scatter(\n",
    "    x = datelist,\n",
    "    y = finaldata['ASXreturn'],\n",
    "    mode = 'lines',\n",
    "    name = 'ASX'\n",
    ")\n",
    "trace1 = go.Scatter(\n",
    "    x = datelist,\n",
    "    y = finaldata['NIKreturn'],\n",
    "    mode = 'lines',\n",
    "    name = 'NIK'\n",
    ")\n",
    "trace2 = go.Scatter(\n",
    "    x = datelist,\n",
    "    y = finaldata['HSreturn'],\n",
    "    mode = 'lines',\n",
    "    name = 'HS'\n",
    ")\n",
    "trace3 = go.Scatter(\n",
    "    x = datelist,\n",
    "    y = finaldata['DAXreturn'],\n",
    "    mode = 'lines',\n",
    "    name = 'DAX'\n",
    ")\n",
    "trace4 = go.Scatter(\n",
    "    x = datelist,\n",
    "    y = finaldata['FTSEreturn'],\n",
    "    mode = 'lines',\n",
    "    name = 'FTSE'\n",
    ")\n",
    "\n",
    "data = [trace0, trace1, trace2, trace3, trace4]\n",
    "layout = dict(title = 'DAILY RETURN',\n",
    "              )\n",
    "\n",
    "fig = dict(data=data, layout=layout)\n",
    "py.iplot(fig)"
   ]
  },
  {
   "cell_type": "code",
   "execution_count": 149,
   "metadata": {},
   "outputs": [
    {
     "data": {
      "text/html": [
       "<iframe id=\"igraph\" scrolling=\"no\" style=\"border:none;\" seamless=\"seamless\" src=\"https://plot.ly/~hypark/110.embed\" height=\"525px\" width=\"100%\"></iframe>"
      ],
      "text/plain": [
       "<plotly.tools.PlotlyDisplay object>"
      ]
     },
     "execution_count": 149,
     "metadata": {},
     "output_type": "execute_result"
    }
   ],
   "source": [
    "trace0 = go.Scatter(\n",
    "    x = datelist,\n",
    "    y = finaldata['ASXvolatility'],\n",
    "    mode = 'lines',\n",
    "    name = 'ASX'\n",
    ")\n",
    "trace1 = go.Scatter(\n",
    "    x = datelist,\n",
    "    y = finaldata['NIKvolatility'],\n",
    "    mode = 'lines',\n",
    "    name = 'NIK'\n",
    ")\n",
    "trace2 = go.Scatter(\n",
    "    x = datelist,\n",
    "    y = finaldata['HSvolatility'],\n",
    "    mode = 'lines',\n",
    "    name = 'HS'\n",
    ")\n",
    "trace3 = go.Scatter(\n",
    "    x = datelist,\n",
    "    y = finaldata['DAXvolatility'],\n",
    "    mode = 'lines',\n",
    "    name = 'DAX'\n",
    ")\n",
    "trace4 = go.Scatter(\n",
    "    x = datelist,\n",
    "    y = finaldata['FTSEvolatility'],\n",
    "    mode = 'lines',\n",
    "    name = 'FTSE'\n",
    ")\n",
    "\n",
    "data = [trace0, trace1, trace2, trace3, trace4]\n",
    "layout = dict(title = 'VOLATILITY',\n",
    "              )\n",
    "\n",
    "fig = dict(data=data, layout=layout)\n",
    "py.iplot(fig)"
   ]
  },
  {
   "cell_type": "markdown",
   "metadata": {},
   "source": [
    "Targeted data we are trying to predict is S&P500 return movement. I will convert S&P500 return data to either to different boolean data columns; negative return and positive return"
   ]
  },
  {
   "cell_type": "markdown",
   "metadata": {},
   "source": [
    "The Tensorflow model here will solve a classification model, positive return or negative return. To do this, the output prediction should be in a form called 'One hot encoding'. It means that each class choice will be an entry in an array. If the SNP return is possitive, array should be [1,0]. If it is negative, it should be [0,1]. The model prediction will not likely look like the examples before but more like a probability. Using argmax, the returned index value will be able to tell us how classification has been 'predicted', i.e. positive if 0, negative if 1."
   ]
  },
  {
   "cell_type": "code",
   "execution_count": 170,
   "metadata": {},
   "outputs": [],
   "source": [
    "finaldata['Negative']=[True if x<0 else False for x in finaldata['SNPreturn']]\n",
    "finaldata['Positive']=[True if x>=0 else False for x in finaldata['SNPreturn']]"
   ]
  },
  {
   "cell_type": "code",
   "execution_count": 171,
   "metadata": {},
   "outputs": [],
   "source": [
    "finaldata = finaldata.drop(columns=['SNPreturn'])"
   ]
  },
  {
   "cell_type": "code",
   "execution_count": 172,
   "metadata": {
    "scrolled": true
   },
   "outputs": [
    {
     "data": {
      "text/html": [
       "<div>\n",
       "<style scoped>\n",
       "    .dataframe tbody tr th:only-of-type {\n",
       "        vertical-align: middle;\n",
       "    }\n",
       "\n",
       "    .dataframe tbody tr th {\n",
       "        vertical-align: top;\n",
       "    }\n",
       "\n",
       "    .dataframe thead th {\n",
       "        text-align: right;\n",
       "    }\n",
       "</style>\n",
       "<table border=\"1\" class=\"dataframe\">\n",
       "  <thead>\n",
       "    <tr style=\"text-align: right;\">\n",
       "      <th></th>\n",
       "      <th>Date</th>\n",
       "      <th>ASXreturn</th>\n",
       "      <th>NIKreturn</th>\n",
       "      <th>HSreturn</th>\n",
       "      <th>DAXreturn</th>\n",
       "      <th>FTSEreturn</th>\n",
       "      <th>ASXvolatility</th>\n",
       "      <th>NIKvolatility</th>\n",
       "      <th>HSvolatility</th>\n",
       "      <th>DAXvolatility</th>\n",
       "      <th>FTSEvolatility</th>\n",
       "      <th>Negative</th>\n",
       "      <th>Positive</th>\n",
       "    </tr>\n",
       "  </thead>\n",
       "  <tbody>\n",
       "    <tr>\n",
       "      <th>0</th>\n",
       "      <td>2014-03-26</td>\n",
       "      <td>0.314009</td>\n",
       "      <td>1.006617</td>\n",
       "      <td>-0.243519</td>\n",
       "      <td>0.027834</td>\n",
       "      <td>-0.257066</td>\n",
       "      <td>0.510324</td>\n",
       "      <td>0.581542</td>\n",
       "      <td>0.322098</td>\n",
       "      <td>0.681416</td>\n",
       "      <td>0.315582</td>\n",
       "      <td>True</td>\n",
       "      <td>False</td>\n",
       "    </tr>\n",
       "    <tr>\n",
       "      <th>1</th>\n",
       "      <td>2014-03-27</td>\n",
       "      <td>0.314009</td>\n",
       "      <td>1.006617</td>\n",
       "      <td>-0.243519</td>\n",
       "      <td>0.027834</td>\n",
       "      <td>-0.257066</td>\n",
       "      <td>0.278108</td>\n",
       "      <td>1.495587</td>\n",
       "      <td>0.483931</td>\n",
       "      <td>0.378480</td>\n",
       "      <td>0.333493</td>\n",
       "      <td>True</td>\n",
       "      <td>False</td>\n",
       "    </tr>\n",
       "    <tr>\n",
       "      <th>2</th>\n",
       "      <td>2014-03-28</td>\n",
       "      <td>0.000000</td>\n",
       "      <td>0.500179</td>\n",
       "      <td>1.058328</td>\n",
       "      <td>1.438763</td>\n",
       "      <td>0.413763</td>\n",
       "      <td>0.278108</td>\n",
       "      <td>0.659779</td>\n",
       "      <td>0.482919</td>\n",
       "      <td>0.536334</td>\n",
       "      <td>0.346140</td>\n",
       "      <td>False</td>\n",
       "      <td>True</td>\n",
       "    </tr>\n",
       "    <tr>\n",
       "      <th>3</th>\n",
       "      <td>2014-03-29</td>\n",
       "      <td>0.000000</td>\n",
       "      <td>0.000000</td>\n",
       "      <td>0.000000</td>\n",
       "      <td>0.000000</td>\n",
       "      <td>0.000000</td>\n",
       "      <td>0.278108</td>\n",
       "      <td>0.659779</td>\n",
       "      <td>0.482919</td>\n",
       "      <td>0.536334</td>\n",
       "      <td>0.346140</td>\n",
       "      <td>False</td>\n",
       "      <td>True</td>\n",
       "    </tr>\n",
       "    <tr>\n",
       "      <th>4</th>\n",
       "      <td>2014-03-30</td>\n",
       "      <td>0.519851</td>\n",
       "      <td>0.000000</td>\n",
       "      <td>0.000000</td>\n",
       "      <td>0.000000</td>\n",
       "      <td>0.000000</td>\n",
       "      <td>0.455352</td>\n",
       "      <td>0.659779</td>\n",
       "      <td>0.482919</td>\n",
       "      <td>0.536334</td>\n",
       "      <td>0.346140</td>\n",
       "      <td>False</td>\n",
       "      <td>True</td>\n",
       "    </tr>\n",
       "  </tbody>\n",
       "</table>\n",
       "</div>"
      ],
      "text/plain": [
       "         Date  ASXreturn  NIKreturn  HSreturn  DAXreturn  FTSEreturn  \\\n",
       "0  2014-03-26   0.314009   1.006617 -0.243519   0.027834   -0.257066   \n",
       "1  2014-03-27   0.314009   1.006617 -0.243519   0.027834   -0.257066   \n",
       "2  2014-03-28   0.000000   0.500179  1.058328   1.438763    0.413763   \n",
       "3  2014-03-29   0.000000   0.000000  0.000000   0.000000    0.000000   \n",
       "4  2014-03-30   0.519851   0.000000  0.000000   0.000000    0.000000   \n",
       "\n",
       "   ASXvolatility  NIKvolatility  HSvolatility  DAXvolatility  FTSEvolatility  \\\n",
       "0       0.510324       0.581542      0.322098       0.681416        0.315582   \n",
       "1       0.278108       1.495587      0.483931       0.378480        0.333493   \n",
       "2       0.278108       0.659779      0.482919       0.536334        0.346140   \n",
       "3       0.278108       0.659779      0.482919       0.536334        0.346140   \n",
       "4       0.455352       0.659779      0.482919       0.536334        0.346140   \n",
       "\n",
       "   Negative  Positive  \n",
       "0      True     False  \n",
       "1      True     False  \n",
       "2     False      True  \n",
       "3     False      True  \n",
       "4     False      True  "
      ]
     },
     "execution_count": 172,
     "metadata": {},
     "output_type": "execute_result"
    }
   ],
   "source": [
    "finaldata.head()"
   ]
  },
  {
   "cell_type": "markdown",
   "metadata": {},
   "source": [
    "## 5. Training Models"
   ]
  },
  {
   "cell_type": "code",
   "execution_count": 181,
   "metadata": {},
   "outputs": [],
   "source": [
    "#Seperating the data into training and test dataset. 80% will be training and 20% will be test\n",
    "traininglegth = int(finaldata.shape[0] * 0.8)\n",
    "training_data = finaldata.iloc[:traininglegth,1:]\n",
    "test_data = finaldata.iloc[traininglegth: , 1:]"
   ]
  },
  {
   "cell_type": "code",
   "execution_count": 182,
   "metadata": {},
   "outputs": [],
   "source": [
    "training_y = training_data[['Negative','Positive']]\n",
    "training_x = training_data.drop(['Negative','Positive'],axis=1)"
   ]
  },
  {
   "cell_type": "code",
   "execution_count": 183,
   "metadata": {},
   "outputs": [],
   "source": [
    "test_y = test_data[['Negative','Positive']]\n",
    "test_x = test_data.drop(['Negative','Positive'],axis=1)"
   ]
  },
  {
   "cell_type": "code",
   "execution_count": 184,
   "metadata": {},
   "outputs": [],
   "source": [
    "num_predictor = training_x.shape[1]\n",
    "num_class = training_y.shape[1]"
   ]
  },
  {
   "cell_type": "code",
   "execution_count": 185,
   "metadata": {},
   "outputs": [],
   "source": [
    "graph = tf.Graph()\n",
    "with graph.as_default():\n",
    "    with tf.name_scope(\"Input\"):\n",
    "        x = tf.placeholder(shape=[None,num_predictor], dtype=tf.float32, name='x')\n",
    "        y = tf.placeholder(shape=[None,num_class], dtype=tf.float32, name='y')\n",
    "    \n",
    "    with tf.name_scope(\"Simple_Model\"):\n",
    "        with tf.name_scope(\"Variables\"):\n",
    "            w = tf.Variable(tf.truncated_normal([num_predictor, num_class], stddev=0.1), name=\"W\")\n",
    "            b = tf.Variable(tf.truncated_normal([num_class], stddev=0.1), name=\"b\")\n",
    "\n",
    "        model = tf.nn.softmax(tf.matmul(x, w) + b)\n",
    "        \n",
    "        with tf.name_scope(\"Result\"):\n",
    "            cost = tf.reduce_mean(tf.nn.softmax_cross_entropy_with_logits(logits=model, labels=y), name=\"cost\")\n",
    "            correct_prediction = tf.equal(tf.argmax(model,1),tf.argmax(y,1))\n",
    "            accuracy = tf.reduce_mean(tf.cast(correct_prediction, tf.float32))\n",
    "        \n",
    "        with tf.name_scope(\"Train\"):\n",
    "            training = tf.train.AdamOptimizer(0.1).minimize(cost)\n",
    "    \n",
    "    with tf.name_scope(\"Two_Layer\"):\n",
    "        node_1 = 5\n",
    "        node_2 = 3\n",
    "        with tf.name_scope(\"Variables2\"):\n",
    "            w1 = tf.Variable(tf.truncated_normal([num_predictor, node_1], stddev=0.1), name=\"W1\")\n",
    "            b1 = tf.Variable(tf.truncated_normal([node_1], stddev=0.1), name=\"b1\")\n",
    "            w2 = tf.Variable(tf.truncated_normal([node_1, node_2], stddev=0.1), name =\"W2\")\n",
    "            b2 = tf.Variable(tf.truncated_normal([node_2], stddev=0.1), name=\"b2\")\n",
    "            w3 = tf.Variable(tf.truncated_normal([node_2, num_class], stddev=0.1), name=\"W3\")\n",
    "            b3 = tf.Variable(tf.truncated_normal([num_class], stddev=0.1), name=\"b3\")\n",
    "        \n",
    "        with tf.name_scope(\"Layer1\"):\n",
    "            hidden_layer_1 = tf.nn.relu(tf.matmul(x, w1) + b1)\n",
    "\n",
    "        with tf.name_scope(\"Layer2\"):\n",
    "            hidden_layer_2 = tf.nn.relu(tf.matmul(hidden_layer_1, w2) + b2)\n",
    "        \n",
    "        model2 = tf.nn.softmax(tf.matmul(hidden_layer_2, w3) + b3)\n",
    "        \n",
    "        with tf.name_scope(\"Result2\"):\n",
    "            cost2 = tf.reduce_mean(tf.nn.softmax_cross_entropy_with_logits(logits=model2, labels=y), name=\"cost2\")\n",
    "            correct_prediction2 = tf.equal(tf.argmax(model2,1),tf.argmax(y,1))\n",
    "            accuracy2 = tf.reduce_mean(tf.cast(correct_prediction2, tf.float32))  \n",
    "            \n",
    "        with tf.name_scope(\"Train2\"):\n",
    "            training2 = tf.train.AdamOptimizer(0.005).minimize(cost2)\n",
    "            \n",
    "    with tf.name_scope(\"Summary\"):\n",
    "        tf.summary.scalar(\"Accuracy_1\", accuracy)\n",
    "        tf.summary.scalar(\"Accuracy_2\", accuracy2)\n",
    "        \n",
    "    with tf.name_scope(\"global_ops\"):\n",
    "        init = tf.global_variables_initializer()\n",
    "        # Collect all summary Ops in graph\n",
    "        summ = tf.summary.merge_all()"
   ]
  },
  {
   "cell_type": "code",
   "execution_count": 186,
   "metadata": {},
   "outputs": [],
   "source": [
    "sess = tf.Session(graph=graph)\n",
    "writer = tf.summary.FileWriter('./FinalGraph', graph=graph)\n",
    "sess.run(init)"
   ]
  },
  {
   "cell_type": "code",
   "execution_count": 188,
   "metadata": {},
   "outputs": [
    {
     "name": "stdout",
     "output_type": "stream",
     "text": [
      "0.807666\n",
      "0.83367556\n",
      "Processing... 1000th loop\n",
      "0.807666\n",
      "0.83367556\n",
      "Processing... 2000th loop\n",
      "0.807666\n",
      "0.83367556\n",
      "Processing... 3000th loop\n",
      "0.807666\n",
      "0.83367556\n",
      "Processing... 4000th loop\n",
      "0.807666\n",
      "0.83367556\n",
      "Processing... 5000th loop\n",
      "0.807666\n",
      "0.83367556\n",
      "Processing... 6000th loop\n",
      "0.807666\n",
      "0.83367556\n",
      "Processing... 7000th loop\n",
      "0.807666\n",
      "0.83367556\n",
      "Processing... 8000th loop\n",
      "0.807666\n",
      "0.83367556\n",
      "Processing... 9000th loop\n"
     ]
    }
   ],
   "source": [
    "starting_time = datetime.now()\n",
    "for i in range(1, 10000):\n",
    "    _,__, _accuracy, _accuracy2, _cost, _cost2, _summ = sess.run([training, training2, accuracy, accuracy2, cost, cost2, summ],\n",
    "                                                                feed_dict={x: training_x.values,\n",
    "                                                                          y: training_y.values.reshape(len(training_y.values),2)})\n",
    "    if i%100 == 0:\n",
    "        writer.add_summary(_summ, i)\n",
    "    if i%1000 == 0:\n",
    "        print(_accuracy)\n",
    "        print(_accuracy2)\n",
    "        print(\"Processing... %sth loop\" %i)\n",
    "\n",
    "Processing_time = datetime.now() - starting_time"
   ]
  },
  {
   "cell_type": "code",
   "execution_count": 189,
   "metadata": {},
   "outputs": [
    {
     "name": "stdout",
     "output_type": "stream",
     "text": [
      "Final Accuracy of Simple model 0.807666\n"
     ]
    }
   ],
   "source": [
    "print(\"Final Accuracy of Simple model %s\" %_accuracy)"
   ]
  },
  {
   "cell_type": "code",
   "execution_count": 190,
   "metadata": {},
   "outputs": [
    {
     "name": "stdout",
     "output_type": "stream",
     "text": [
      "Final Accuracy of Two Layer model 0.83367556\n"
     ]
    }
   ],
   "source": [
    "print(\"Final Accuracy of Two Layer model %s\" %_accuracy2)"
   ]
  },
  {
   "cell_type": "code",
   "execution_count": 191,
   "metadata": {},
   "outputs": [],
   "source": [
    "_Predict1,_Predict2 = sess.run([accuracy,accuracy2], feed_dict={x: test_x.values,\n",
    "                                                                y: test_y.values.reshape(len(test_y.values),2)})"
   ]
  },
  {
   "cell_type": "code",
   "execution_count": 192,
   "metadata": {},
   "outputs": [
    {
     "name": "stdout",
     "output_type": "stream",
     "text": [
      "Using Simple Model, test accuracy is 0.7295082\n"
     ]
    }
   ],
   "source": [
    "print(\"Using Simple Model, test accuracy is %s\" %_Predict1)"
   ]
  },
  {
   "cell_type": "code",
   "execution_count": 193,
   "metadata": {},
   "outputs": [
    {
     "name": "stdout",
     "output_type": "stream",
     "text": [
      "Usint Two Hidden Layers, test accuracy is 0.75136614\n"
     ]
    }
   ],
   "source": [
    "print(\"Usint Two Hidden Layers, test accuracy is %s\" %_Predict2)"
   ]
  },
  {
   "cell_type": "code",
   "execution_count": 194,
   "metadata": {},
   "outputs": [
    {
     "name": "stdout",
     "output_type": "stream",
     "text": [
      "Total time 0:01:47.225912\n"
     ]
    }
   ],
   "source": [
    "print(\"Total time %s\" %Processing_time)"
   ]
  },
  {
   "cell_type": "code",
   "execution_count": null,
   "metadata": {},
   "outputs": [],
   "source": []
  }
 ],
 "metadata": {
  "anaconda-cloud": {},
  "kernelspec": {
   "display_name": "Python 3",
   "language": "python",
   "name": "python3"
  },
  "language_info": {
   "codemirror_mode": {
    "name": "ipython",
    "version": 3
   },
   "file_extension": ".py",
   "mimetype": "text/x-python",
   "name": "python",
   "nbconvert_exporter": "python",
   "pygments_lexer": "ipython3",
   "version": "3.5.6"
  }
 },
 "nbformat": 4,
 "nbformat_minor": 1
}
